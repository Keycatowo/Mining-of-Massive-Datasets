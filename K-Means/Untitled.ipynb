{
 "cells": [
  {
   "cell_type": "code",
   "execution_count": 1,
   "metadata": {},
   "outputs": [],
   "source": [
    "import numpy"
   ]
  },
  {
   "cell_type": "code",
   "execution_count": 2,
   "metadata": {},
   "outputs": [
    {
     "data": {
      "text/plain": [
       "{'Cell': {'cm_config': {'lineNumbers': True}},\n",
       " 'Notebook': {'Toolbar': True, 'Header': True},\n",
       " 'load_extensions': {'nbextensions_configurator/config_menu/main': True,\n",
       "  'contrib_nbextensions_help_item/main': True,\n",
       "  'hinterland/hinterland': True,\n",
       "  'code_prettify/code_prettify': False,\n",
       "  'codefolding/main': True,\n",
       "  'collapsible_headings/main': True},\n",
       " 'keys': {'command': {'bind': {'alt-`': 'jupyter-notebook:change-cell-to-code',\n",
       "    'alt-1': 'jupyter-notebook:change-cell-to-markdown',\n",
       "    'alt-t': 'jupyter-notebook:insert-cell-below',\n",
       "    'alt-w': 'jupyter-notebook:delete-cell',\n",
       "    'alt-shift-t': 'jupyter-notebook:insert-cell-above',\n",
       "    'space': 'jupyter-notebook:enter-edit-mode',\n",
       "    'alt-r': 'jupyter-notebook:run-cell-and-select-next'}}},\n",
       " 'CodeCell': {'cm_config': {'autoCloseBrackets': False}}}"
      ]
     },
     "execution_count": 2,
     "metadata": {},
     "output_type": "execute_result"
    }
   ],
   "source": [
    "from notebook.services.config import ConfigManager\n",
    "c = ConfigManager()\n",
    "c.update('notebook', {\"CodeCell\": {\"cm_config\": {\"autoCloseBrackets\": False}}})"
   ]
  },
  {
   "cell_type": "code",
   "execution_count": null,
   "metadata": {},
   "outputs": [],
   "source": []
  }
 ],
 "metadata": {
  "kernelspec": {
   "display_name": "Python 3",
   "language": "python",
   "name": "python3"
  },
  "language_info": {
   "codemirror_mode": {
    "name": "ipython",
    "version": 3
   },
   "file_extension": ".py",
   "mimetype": "text/x-python",
   "name": "python",
   "nbconvert_exporter": "python",
   "pygments_lexer": "ipython3",
   "version": "3.6.8"
  }
 },
 "nbformat": 4,
 "nbformat_minor": 2
}
