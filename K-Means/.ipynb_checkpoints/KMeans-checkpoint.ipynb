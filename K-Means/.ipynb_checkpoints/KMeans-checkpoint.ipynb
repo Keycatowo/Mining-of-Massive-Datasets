{
 "cells": [
  {
   "cell_type": "markdown",
   "metadata": {
    "colab_type": "text",
    "id": "T8XhkChEJp-O"
   },
   "source": [
    "# K-means"
   ]
  },
  {
   "cell_type": "markdown",
   "metadata": {
    "colab_type": "text",
    "heading_collapsed": true,
    "id": "Pfxu2bmxJp-R"
   },
   "source": [
    "## Set up"
   ]
  },
  {
   "cell_type": "markdown",
   "metadata": {
    "colab_type": "text",
    "hidden": true,
    "id": "1OZp5lxFJp-S"
   },
   "source": [
    "姓名 |學號\n",
    "---|---\n",
    "劉弘祥|106022103"
   ]
  },
  {
   "cell_type": "code",
   "execution_count": 0,
   "metadata": {
    "colab": {},
    "colab_type": "code",
    "hidden": true,
    "id": "AfmCBeiBKECr"
   },
   "outputs": [],
   "source": [
    "!apt-get install openjdk-8-jdk-headless -qq > /dev/null\n",
    "!wget -q http://www-eu.apache.org/dist/spark/spark-2.4.4/spark-2.4.4-bin-hadoop2.7.tgz\n",
    "!tar xf spark-2.4.4-bin-hadoop2.7.tgz\n",
    "!pip install -q findspark"
   ]
  },
  {
   "cell_type": "code",
   "execution_count": 0,
   "metadata": {
    "colab": {},
    "colab_type": "code",
    "hidden": true,
    "id": "sfbBhORAKGZc"
   },
   "outputs": [],
   "source": [
    "import os\n",
    "os.environ[\"JAVA_HOME\"] = \"/usr/lib/jvm/java-8-openjdk-amd64\"\n",
    "os.environ[\"SPARK_HOME\"] = \"/content/spark-2.4.4-bin-hadoop2.7\""
   ]
  },
  {
   "cell_type": "code",
   "execution_count": 0,
   "metadata": {
    "colab": {},
    "colab_type": "code",
    "hidden": true,
    "id": "WnJgdnu0Jp-T"
   },
   "outputs": [],
   "source": [
    "import findspark\n",
    "findspark.init()\n",
    "from numpy import array\n",
    "import math\n",
    "import time\n",
    "\n",
    "import pyspark\n",
    "from pyspark import SparkConf, SparkContext"
   ]
  },
  {
   "cell_type": "code",
   "execution_count": 0,
   "metadata": {
    "colab": {},
    "colab_type": "code",
    "hidden": true,
    "id": "TC06VrHRJp-W",
    "outputId": "a315d809-3a76-4b8e-92fc-9bf21d54f559"
   },
   "outputs": [
    {
     "ename": "NameError",
     "evalue": "name 'sc' is not defined",
     "output_type": "error",
     "traceback": [
      "\u001b[1;31m---------------------------------------------------------------------------\u001b[0m",
      "\u001b[1;31mNameError\u001b[0m                                 Traceback (most recent call last)",
      "\u001b[1;32m<ipython-input-2-8d3513b7698b>\u001b[0m in \u001b[0;36m<module>\u001b[1;34m\u001b[0m\n\u001b[1;32m----> 1\u001b[1;33m \u001b[0msc\u001b[0m\u001b[1;33m.\u001b[0m\u001b[0mstop\u001b[0m\u001b[1;33m(\u001b[0m\u001b[1;33m)\u001b[0m\u001b[1;33m\u001b[0m\u001b[1;33m\u001b[0m\u001b[0m\n\u001b[0m",
      "\u001b[1;31mNameError\u001b[0m: name 'sc' is not defined"
     ]
    }
   ],
   "source": [
    "sc.stop()"
   ]
  },
  {
   "cell_type": "code",
   "execution_count": 5,
   "metadata": {
    "colab": {
     "base_uri": "https://localhost:8080/",
     "height": 190
    },
    "colab_type": "code",
    "hidden": true,
    "id": "RGZGknFNJp-Z",
    "outputId": "dea0c610-23ce-4be4-89c4-7bc844c046cf",
    "scrolled": false
   },
   "outputs": [
    {
     "data": {
      "text/html": [
       "\n",
       "        <div>\n",
       "            <p><b>SparkContext</b></p>\n",
       "\n",
       "            <p><a href=\"http://797be6e78f77:4040\">Spark UI</a></p>\n",
       "\n",
       "            <dl>\n",
       "              <dt>Version</dt>\n",
       "                <dd><code>v2.4.4</code></dd>\n",
       "              <dt>Master</dt>\n",
       "                <dd><code>local</code></dd>\n",
       "              <dt>AppName</dt>\n",
       "                <dd><code>KMeans</code></dd>\n",
       "            </dl>\n",
       "        </div>\n",
       "        "
      ],
      "text/plain": [
       "<SparkContext master=local appName=KMeans>"
      ]
     },
     "execution_count": 5,
     "metadata": {
      "tags": []
     },
     "output_type": "execute_result"
    }
   ],
   "source": [
    "conf = SparkConf().setMaster(\"local\").setAppName(\"KMeans\").set(\"spark.default.parallelism\", 4)\n",
    "sc = SparkContext(conf=conf)\n",
    "sc"
   ]
  },
  {
   "cell_type": "code",
   "execution_count": 0,
   "metadata": {
    "colab": {},
    "colab_type": "code",
    "hidden": true,
    "id": "HEXNhT_3Jp-b"
   },
   "outputs": [],
   "source": [
    "# Parameter \n",
    "Iteration_times = 20"
   ]
  },
  {
   "cell_type": "markdown",
   "metadata": {
    "colab_type": "text",
    "heading_collapsed": true,
    "id": "a-SkYNTGJp-e"
   },
   "source": [
    "## Input"
   ]
  },
  {
   "cell_type": "code",
   "execution_count": 0,
   "metadata": {
    "colab": {},
    "colab_type": "code",
    "hidden": true,
    "id": "hVPlojy0Jp-e"
   },
   "outputs": [],
   "source": [
    "DataSet = sc.textFile(\"./data/data.txt\").map(lambda line: array([float(x) for x in line.split(' ')]))\n",
    "C1 = sc.textFile(\"./data/c1.txt\").map(lambda line: array([float(x) for x in line.split(' ')]))\n",
    "C2 = sc.textFile(\"./data/c2.txt\").map(lambda line: array([float(x) for x in line.split(' ')]))"
   ]
  },
  {
   "cell_type": "markdown",
   "metadata": {
    "colab_type": "text",
    "hidden": true,
    "id": "D1lGBLPEJp-h"
   },
   "source": [
    "確認資料格式"
   ]
  },
  {
   "cell_type": "code",
   "execution_count": 8,
   "metadata": {
    "colab": {
     "base_uri": "https://localhost:8080/",
     "height": 167
    },
    "colab_type": "code",
    "hidden": true,
    "id": "zxoZtYOgJp-i",
    "outputId": "d8dafa31-51f7-4385-9430-f83144837674"
   },
   "outputs": [
    {
     "data": {
      "text/plain": [
       "array([  0.   ,   0.64 ,   0.64 ,   0.   ,   0.32 ,   0.   ,   0.   ,\n",
       "         0.   ,   0.   ,   0.   ,   0.   ,   0.64 ,   0.   ,   0.   ,\n",
       "         0.   ,   0.32 ,   0.   ,   1.29 ,   1.93 ,   0.   ,   0.96 ,\n",
       "         0.   ,   0.   ,   0.   ,   0.   ,   0.   ,   0.   ,   0.   ,\n",
       "         0.   ,   0.   ,   0.   ,   0.   ,   0.   ,   0.   ,   0.   ,\n",
       "         0.   ,   0.   ,   0.   ,   0.   ,   0.   ,   0.   ,   0.   ,\n",
       "         0.   ,   0.   ,   0.   ,   0.   ,   0.   ,   0.   ,   0.   ,\n",
       "         0.   ,   0.   ,   0.778,   0.   ,   0.   ,   3.756,  61.   ,\n",
       "       278.   ,   1.   ])"
      ]
     },
     "execution_count": 8,
     "metadata": {
      "tags": []
     },
     "output_type": "execute_result"
    }
   ],
   "source": [
    "DataSet.first()"
   ]
  },
  {
   "cell_type": "markdown",
   "metadata": {
    "colab_type": "text",
    "heading_collapsed": true,
    "id": "huVwz0zzJp-k"
   },
   "source": [
    "## Preprocesscing"
   ]
  },
  {
   "cell_type": "markdown",
   "metadata": {
    "colab_type": "text",
    "hidden": true,
    "id": "sFVzztZPJp-l"
   },
   "source": [
    "將資料加上index以方便後續處理"
   ]
  },
  {
   "cell_type": "code",
   "execution_count": 0,
   "metadata": {
    "colab": {},
    "colab_type": "code",
    "hidden": true,
    "id": "3bg1CpYDJp-m",
    "scrolled": true
   },
   "outputs": [],
   "source": [
    "Data_with_index = DataSet.zipWithIndex().map(lambda x: (x[1],x[0]))\n",
    "C1_with_index = C1.zipWithIndex().map(lambda x: (x[1],x[0]))\n",
    "C2_with_index = C2.zipWithIndex().map(lambda x: (x[1],x[0]))"
   ]
  },
  {
   "cell_type": "code",
   "execution_count": 10,
   "metadata": {
    "colab": {
     "base_uri": "https://localhost:8080/",
     "height": 33
    },
    "colab_type": "code",
    "hidden": true,
    "id": "MwB-Cmk4Jp-o",
    "outputId": "173d2813-b7e9-41a8-f0a9-97b4a84d73e9"
   },
   "outputs": [
    {
     "data": {
      "text/plain": [
       "True"
      ]
     },
     "execution_count": 10,
     "metadata": {
      "tags": []
     },
     "output_type": "execute_result"
    }
   ],
   "source": [
    "Data_with_index.persist()\n",
    "Data_with_index.is_cached"
   ]
  },
  {
   "cell_type": "markdown",
   "metadata": {
    "colab_type": "text",
    "heading_collapsed": true,
    "id": "H5CiEOQxJp-q"
   },
   "source": [
    "## Initial with Euclidean Distance"
   ]
  },
  {
   "cell_type": "markdown",
   "metadata": {
    "hidden": true
   },
   "source": [
    "要取得每個`DataSet`裡面的點對所有`Cluster`的點的距離的最小值  \n",
    "所以這邊做了這些事情：\n",
    "+ 用cartesian取得兩兩相對的pair，並對於value相減計算距離\n",
    "+ 同時保留取絕對值的*ManHattan Distance* 和取平方的 *Euclidean Distance*\n",
    "+ 將所有維度的值加起來取得距離，並重新map到以`Dataset`的index為key值"
   ]
  },
  {
   "cell_type": "code",
   "execution_count": 0,
   "metadata": {
    "colab": {},
    "colab_type": "code",
    "hidden": true,
    "id": "Gdkt9uVZJp-r"
   },
   "outputs": [],
   "source": [
    "def get_sum(DataRDD,ClusterRDD):\n",
    "    Distance_sum = DataRDD.cartesian(ClusterRDD)\\\n",
    "        .map(lambda x : ((x[0][0],x[1][0]), x[0][1]-x[1][1]))\\\n",
    "        .map(lambda x : (x[0],(abs(x[1]),x[1]**2)))\\\n",
    "        .map(lambda x : (x[0],(sum(x[1][0]),sum(x[1][1]))))\\\n",
    "        .map(lambda x : (x[0][0],[x[0][1],x[1][0],x[1][1] ] ))\n",
    "    return Distance_sum"
   ]
  },
  {
   "cell_type": "markdown",
   "metadata": {
    "colab_type": "text",
    "hidden": true,
    "id": "bAIf4yyYJp-t"
   },
   "source": [
    "### C1"
   ]
  },
  {
   "cell_type": "markdown",
   "metadata": {
    "hidden": true
   },
   "source": [
    "初始化我們使用的Cluster，這邊是用**C1**"
   ]
  },
  {
   "cell_type": "code",
   "execution_count": 0,
   "metadata": {
    "colab": {},
    "colab_type": "code",
    "hidden": true,
    "id": "kDD__NbmJp-t"
   },
   "outputs": [],
   "source": [
    "Cluster = C1_with_index\n",
    "Cluster.persist()\n",
    "C1_norm1_list = []\n",
    "C1_norm2_list = []\n",
    "ticks = time.time()"
   ]
  },
  {
   "cell_type": "markdown",
   "metadata": {
    "hidden": true
   },
   "source": [
    "有了每個DataSet點對於所有Cluster的距離後\n",
    "+ 用DataSet的index做reduceByKey，取得所有Cluster中距離最小的距離\n",
    "+ 分別sum出兩種距離，並加到list裡面\n",
    "+ 建立`Cluster_table`來辨認每個點是屬於哪個Cluster\n",
    "+ 重新MapReduce後取得新的Cluster"
   ]
  },
  {
   "cell_type": "code",
   "execution_count": 29,
   "metadata": {
    "colab": {
     "base_uri": "https://localhost:8080/",
     "height": 351
    },
    "colab_type": "code",
    "hidden": true,
    "id": "14dV_ACQJp-v",
    "outputId": "57fd542e-6586-4817-cd76-ea9678cf32ee",
    "scrolled": true
   },
   "outputs": [
    {
     "name": "stdout",
     "output_type": "stream",
     "text": [
      "Iteration 0: 550117.142000 \t 623660345.306411 (4.1 s)\n",
      "Iteration 1: 464725.444946 \t 509862908.297546 (4.7 s)\n",
      "Iteration 2: 466317.140931 \t 485480681.872008 (6.1 s)\n",
      "Iteration 3: 485415.249937 \t 463997011.685014 (4.7 s)\n",
      "Iteration 4: 491226.980293 \t 460969266.572997 (5.0 s)\n",
      "Iteration 5: 492658.460846 \t 460537847.982767 (5.8 s)\n",
      "Iteration 6: 492645.532651 \t 460313099.653546 (4.9 s)\n",
      "Iteration 7: 492094.384851 \t 460003523.889407 (5.6 s)\n",
      "Iteration 8: 489660.579565 \t 459570539.317735 (4.6 s)\n",
      "Iteration 9: 487416.965681 \t 459021103.342291 (4.6 s)\n",
      "Iteration 10: 485606.123006 \t 458490656.191981 (4.6 s)\n",
      "Iteration 11: 484325.674191 \t 457944232.587974 (4.8 s)\n",
      "Iteration 12: 485015.459183 \t 457558005.198676 (4.6 s)\n",
      "Iteration 13: 485180.675247 \t 457290136.352302 (4.7 s)\n",
      "Iteration 14: 485209.632426 \t 457050555.059563 (4.7 s)\n",
      "Iteration 15: 485419.190073 \t 456892235.615355 (4.6 s)\n",
      "Iteration 16: 485401.866283 \t 456703630.737033 (4.9 s)\n",
      "Iteration 17: 485424.572202 \t 456404203.018974 (4.7 s)\n",
      "Iteration 18: 485719.130856 \t 456177800.541993 (4.9 s)\n",
      "Iteration 19: 486397.663021 \t 455986871.027345 (4.7 s)\n"
     ]
    }
   ],
   "source": [
    "for i in range(Iteration_times):\n",
    "    # 計算每個點的兩種距離\n",
    "    # Distance_sum : i,(j,sum_1,sum2)\n",
    "    Distance_sum = get_sum(Data_with_index,Cluster)\n",
    "\n",
    "    min_norm_1 = Distance_sum.reduceByKey(lambda x,y : x if x[1]<y[1] else y)\n",
    "    min_norm_2 = Distance_sum.reduceByKey(lambda x,y : x if x[2]<y[2] else y)\n",
    "    norm_1 = min_norm_1.map(lambda x : x[1][1]).sum()\n",
    "    norm_2 = min_norm_2.map(lambda x : x[1][2]).sum()\n",
    "    C1_norm1_list.append(norm_1)\n",
    "    C1_norm2_list.append(norm_2)\n",
    "    # 印出過程\n",
    "    cost_time = time.time()-ticks\n",
    "    ticks = time.time()\n",
    "    print(\"Iteration %d: %f \\t %f (%.1f s)\" % (i,norm_1,norm_2,cost_time))\n",
    "    # 更新Cluster\n",
    "    Cluster_table = min_norm_2.map(lambda x : (x[0],x[1][0]))\n",
    "    Cluster = Cluster_table.join(Data_with_index).map(lambda x: (x[1][0], (1,x[1][1])))\\\n",
    "                  .reduceByKey(lambda x,y : (x[0]+y[0],x[1]+y[1]))\\\n",
    "                  .map(lambda x : (x[0],x[1][1]/x[1][0]))\n",
    "    Cluster.persist()"
   ]
  },
  {
   "cell_type": "markdown",
   "metadata": {
    "heading_collapsed": true,
    "hidden": true
   },
   "source": [
    "#### Sheet"
   ]
  },
  {
   "cell_type": "markdown",
   "metadata": {
    "hidden": true
   },
   "source": [
    "因為對於Pandas還不是太熟，所以就決定還是用Excel來做表格了\n",
    "可以看的出來用隨機取點的C1來做的話，一開始變化都沒超過30%\n",
    "其中Manhanttan距離又是變化的更慢"
   ]
  },
  {
   "cell_type": "markdown",
   "metadata": {
    "hidden": true
   },
   "source": [
    "![](https://i.imgur.com/ijm5YHl.png)\n",
    "![](https://i.imgur.com/fzCQeEk.png)"
   ]
  },
  {
   "cell_type": "markdown",
   "metadata": {
    "colab_type": "text",
    "hidden": true,
    "id": "wLvLDt4dJp-y"
   },
   "source": [
    "### C2"
   ]
  },
  {
   "cell_type": "code",
   "execution_count": 0,
   "metadata": {
    "colab": {},
    "colab_type": "code",
    "hidden": true,
    "id": "ztTdDL-OJp-y"
   },
   "outputs": [],
   "source": [
    "Cluster = C2_with_index\n",
    "Cluster.persist()\n",
    "C2_norm1_list = []\n",
    "C2_norm2_list = []\n",
    "ticks = time.time()"
   ]
  },
  {
   "cell_type": "code",
   "execution_count": 31,
   "metadata": {
    "colab": {
     "base_uri": "https://localhost:8080/",
     "height": 351
    },
    "colab_type": "code",
    "hidden": true,
    "id": "Mgg1dW1rJp-0",
    "outputId": "4a1afcbb-6157-4639-bd23-1e807053fec9",
    "scrolled": false
   },
   "outputs": [
    {
     "name": "stdout",
     "output_type": "stream",
     "text": [
      "Iteration 0: 1433739.310000 \t 438747790.027917 (4.4 s)\n",
      "Iteration 1: 1051425.213004 \t 249803933.626003 (4.7 s)\n",
      "Iteration 2: 921295.148124 \t 194494814.406312 (4.6 s)\n",
      "Iteration 3: 862782.984780 \t 169804841.451543 (4.6 s)\n",
      "Iteration 4: 824264.260287 \t 156295748.806276 (4.8 s)\n",
      "Iteration 5: 803898.042522 \t 149094208.108966 (4.6 s)\n",
      "Iteration 6: 786094.806259 \t 142508531.619615 (4.5 s)\n",
      "Iteration 7: 763141.636352 \t 132303869.406530 (4.6 s)\n",
      "Iteration 8: 726485.605331 \t 117170969.837191 (4.6 s)\n",
      "Iteration 9: 698129.127882 \t 108547377.178570 (4.7 s)\n",
      "Iteration 10: 677233.279988 \t 102237203.317996 (4.6 s)\n",
      "Iteration 11: 661112.058194 \t 98278015.749757 (4.6 s)\n",
      "Iteration 12: 650736.727479 \t 95630226.121774 (4.6 s)\n",
      "Iteration 13: 642334.131833 \t 93793314.051193 (4.8 s)\n",
      "Iteration 14: 635412.155349 \t 92377131.968211 (4.6 s)\n",
      "Iteration 15: 629222.820907 \t 91541606.254239 (4.6 s)\n",
      "Iteration 16: 624797.128752 \t 91045573.830425 (4.6 s)\n",
      "Iteration 17: 621662.393005 \t 90752240.101408 (4.6 s)\n",
      "Iteration 18: 618910.737773 \t 90470170.181228 (4.5 s)\n",
      "Iteration 19: 615991.960683 \t 90216416.175631 (4.6 s)\n"
     ]
    }
   ],
   "source": [
    "for i in range(Iteration_times):\n",
    "    # 計算每個點的兩種距離\n",
    "    # Distance_sum : i,(j,sum_1,sum2)\n",
    "    Distance_sum = get_sum(Data_with_index,Cluster)\n",
    "    # 取每個點所有\n",
    "    min_norm_1 = Distance_sum.reduceByKey(lambda x,y : x if x[1]<y[1] else y)\n",
    "    min_norm_2 = Distance_sum.reduceByKey(lambda x,y : x if x[2]<y[2] else y)\n",
    "    norm_1 = min_norm_1.map(lambda x : x[1][1]).sum()\n",
    "    norm_2 = min_norm_2.map(lambda x : x[1][2]).sum()\n",
    "    C2_norm1_list.append(norm_1)\n",
    "    C2_norm2_list.append(norm_2)\n",
    "\n",
    "    # 印出過程\n",
    "    cost_time = time.time()-ticks\n",
    "    ticks = time.time()\n",
    "    print(\"Iteration %d: %f \\t %f (%.1f s)\" % (i,norm_1,norm_2,cost_time))\n",
    "    # 更新Cluster\n",
    "    Cluster_table = min_norm_2.map(lambda x : (x[0],x[1][0]))\n",
    "    Cluster = Cluster_table.join(Data_with_index).map(lambda x: (x[1][0], (1,x[1][1])))\\\n",
    "                  .reduceByKey(lambda x,y : (x[0]+y[0],x[1]+y[1]))\\\n",
    "                  .map(lambda x : (x[0],x[1][1]/x[1][0]))\n",
    "    Cluster.persist()"
   ]
  },
  {
   "cell_type": "markdown",
   "metadata": {
    "hidden": true
   },
   "source": [
    "#### Sheet"
   ]
  },
  {
   "cell_type": "markdown",
   "metadata": {
    "hidden": true
   },
   "source": [
    "用C2開始的話，看的出來不論是用何種距離計算，一開始的變化速率都很大\n",
    "而Euculidean又比Manhanttan變化的更快"
   ]
  },
  {
   "cell_type": "markdown",
   "metadata": {
    "hidden": true
   },
   "source": [
    "![](https://i.imgur.com/5HxbGMs.png)\n",
    "![](https://i.imgur.com/K9qZroH.png)"
   ]
  },
  {
   "cell_type": "markdown",
   "metadata": {
    "colab_type": "text",
    "hidden": true,
    "id": "ccpYYln1NDNC"
   },
   "source": [
    "### Show Figure"
   ]
  },
  {
   "cell_type": "code",
   "execution_count": 0,
   "metadata": {
    "colab": {},
    "colab_type": "code",
    "hidden": true,
    "id": "juOuMf4ONFWH"
   },
   "outputs": [],
   "source": [
    "import numpy as np\n",
    "import pandas as pd\n",
    "import matplotlib.pyplot as plt"
   ]
  },
  {
   "cell_type": "code",
   "execution_count": 37,
   "metadata": {
    "colab": {
     "base_uri": "https://localhost:8080/",
     "height": 281
    },
    "colab_type": "code",
    "hidden": true,
    "id": "EwEFm1c2LUEx",
    "outputId": "da180e1b-38b3-4deb-dd8b-e20ab4d64aef"
   },
   "outputs": [
    {
     "data": {
      "image/png": "[encoded data removed]",
      "text/plain": [
       "<Figure size 432x288 with 1 Axes>"
      ]
     },
     "metadata": {
      "tags": []
     },
     "output_type": "display_data"
    }
   ],
   "source": [
    "plt.plot(C1_norm2_list)\n",
    "plt.plot(C2_norm2_list)\n",
    "plt.title(\"Euclidean\")\n",
    "plt.show()"
   ]
  },
  {
   "cell_type": "code",
   "execution_count": 38,
   "metadata": {
    "colab": {
     "base_uri": "https://localhost:8080/",
     "height": 281
    },
    "colab_type": "code",
    "hidden": true,
    "id": "QnySmzjLNaeB",
    "outputId": "dda641cc-250a-476e-aa59-a58ae2003a3f"
   },
   "outputs": [
    {
     "data": {
      "image/png": "[encoded data removed]",
      "text/plain": [
       "<Figure size 432x288 with 1 Axes>"
      ]
     },
     "metadata": {
      "tags": []
     },
     "output_type": "display_data"
    }
   ],
   "source": [
    "plt.plot(C1_norm1_list)\n",
    "plt.plot(C2_norm1_list)\n",
    "plt.title(\"Manhattan\")\n",
    "plt.show()"
   ]
  },
  {
   "cell_type": "markdown",
   "metadata": {
    "colab_type": "text",
    "heading_collapsed": true,
    "id": "5vaJFk_qPyo2"
   },
   "source": [
    "## Initial with Manhattan Distance"
   ]
  },
  {
   "cell_type": "markdown",
   "metadata": {
    "hidden": true
   },
   "source": [
    "### C1"
   ]
  },
  {
   "cell_type": "code",
   "execution_count": 0,
   "metadata": {
    "colab": {},
    "colab_type": "code",
    "hidden": true,
    "id": "zt6LyMYfP3p8"
   },
   "outputs": [],
   "source": [
    "Cluster = C1_with_index\n",
    "Cluster.persist()\n",
    "C1_norm1_list = []\n",
    "C1_norm2_list = []\n",
    "ticks = time.time()"
   ]
  },
  {
   "cell_type": "markdown",
   "metadata": {
    "hidden": true
   },
   "source": [
    "這邊基本上和前面用Euculidean做的事情一樣\n",
    "除了在建立ClusterTable的時候是用Manhattan距離去map而已"
   ]
  },
  {
   "cell_type": "code",
   "execution_count": 42,
   "metadata": {
    "colab": {
     "base_uri": "https://localhost:8080/",
     "height": 351
    },
    "colab_type": "code",
    "hidden": true,
    "id": "Ww5vPiT2QCUk",
    "outputId": "6c9617a1-3b23-4a87-887a-6e3701b6ac21",
    "scrolled": false
   },
   "outputs": [
    {
     "name": "stdout",
     "output_type": "stream",
     "text": [
      "Iteration 0: 550117.142000 \t 623660345.306411 (4.1 s)\n",
      "Iteration 1: 464661.072773 \t 504937642.640814 (4.6 s)\n",
      "Iteration 2: 471200.049077 \t 481412758.276131 (4.6 s)\n",
      "Iteration 3: 484160.694355 \t 465050108.770867 (4.5 s)\n",
      "Iteration 4: 489251.723623 \t 458085144.607107 (4.5 s)\n",
      "Iteration 5: 487564.741768 \t 452153124.490322 (4.7 s)\n",
      "Iteration 6: 483404.056320 \t 447838210.208864 (4.6 s)\n",
      "Iteration 7: 475365.341841 \t 441210594.790371 (4.6 s)\n",
      "Iteration 8: 474924.050181 \t 427407330.783292 (4.6 s)\n",
      "Iteration 9: 457233.640136 \t 353142234.376810 (4.6 s)\n",
      "Iteration 10: 447495.090990 \t 230129509.917633 (4.5 s)\n",
      "Iteration 11: 451004.306463 \t 202380811.017036 (4.6 s)\n",
      "Iteration 12: 451222.093256 \t 199950220.627924 (4.6 s)\n",
      "Iteration 13: 451973.846704 \t 198208526.128055 (4.5 s)\n",
      "Iteration 14: 451585.355889 \t 196475440.561924 (4.5 s)\n",
      "Iteration 15: 452756.645433 \t 194941785.100539 (4.5 s)\n",
      "Iteration 16: 452893.792351 \t 193526727.065788 (4.6 s)\n",
      "Iteration 17: 450382.234096 \t 192048762.407123 (4.5 s)\n",
      "Iteration 18: 450023.968864 \t 188922081.106150 (4.6 s)\n",
      "Iteration 19: 448929.474499 \t 186476637.454658 (4.9 s)\n"
     ]
    }
   ],
   "source": [
    "for i in range(Iteration_times):\n",
    "    # 計算每個點的兩種距離\n",
    "    # Distance_sum : i,(j,sum_1,sum2)\n",
    "    Distance_sum = get_sum(Data_with_index,Cluster)\n",
    "\n",
    "    min_norm_1 = Distance_sum.reduceByKey(lambda x,y : x if x[1]<y[1] else y)\n",
    "    min_norm_2 = Distance_sum.reduceByKey(lambda x,y : x if x[2]<y[2] else y)\n",
    "    norm_1 = min_norm_1.map(lambda x : x[1][1]).sum()\n",
    "    norm_2 = min_norm_2.map(lambda x : x[1][2]).sum()\n",
    "    C1_norm1_list.append(norm_1)\n",
    "    C1_norm2_list.append(norm_2)\n",
    "    # 印出過程\n",
    "    cost_time = time.time()-ticks\n",
    "    ticks = time.time()\n",
    "    print(\"Iteration %d: %f \\t %f (%.1f s)\" % (i,norm_1,norm_2,cost_time))\n",
    "    # 更新Cluster\n",
    "    Cluster_table = min_norm_1.map(lambda x : (x[0],x[1][0]))\n",
    "    Cluster = Cluster_table.join(Data_with_index).map(lambda x: (x[1][0], (1,x[1][1])))\\\n",
    "                  .reduceByKey(lambda x,y : (x[0]+y[0],x[1]+y[1]))\\\n",
    "                  .map(lambda x : (x[0],x[1][1]/x[1][0]))\n",
    "    Cluster.persist()"
   ]
  },
  {
   "cell_type": "markdown",
   "metadata": {
    "hidden": true
   },
   "source": [
    "#### Sheet"
   ]
  },
  {
   "cell_type": "markdown",
   "metadata": {
    "hidden": true
   },
   "source": [
    "![](https://i.imgur.com/d01Bj4g.png)\n",
    "![](https://i.imgur.com/UWqFf1R.png)"
   ]
  },
  {
   "cell_type": "markdown",
   "metadata": {
    "hidden": true
   },
   "source": [
    "### C2"
   ]
  },
  {
   "cell_type": "code",
   "execution_count": 0,
   "metadata": {
    "colab": {},
    "colab_type": "code",
    "hidden": true,
    "id": "Irxg5V09QhIQ"
   },
   "outputs": [],
   "source": [
    "Cluster = C2_with_index\n",
    "Cluster.persist()\n",
    "C2_norm1_list = []\n",
    "C2_norm2_list = []\n",
    "ticks = time.time()"
   ]
  },
  {
   "cell_type": "code",
   "execution_count": 46,
   "metadata": {
    "colab": {
     "base_uri": "https://localhost:8080/",
     "height": 351
    },
    "colab_type": "code",
    "hidden": true,
    "id": "sC_kfLIMQ6hw",
    "outputId": "1412cad7-745d-4fa8-bd34-5a54e713484b",
    "scrolled": true
   },
   "outputs": [
    {
     "name": "stdout",
     "output_type": "stream",
     "text": [
      "Iteration 0: 1433739.310000 \t 438747790.027917 (3.9 s)\n",
      "Iteration 1: 1084488.776965 \t 278561834.381654 (4.5 s)\n",
      "Iteration 2: 973431.714662 \t 207996189.174094 (4.4 s)\n",
      "Iteration 3: 895934.592563 \t 179994805.487049 (4.5 s)\n",
      "Iteration 4: 865128.335294 \t 169908108.253659 (4.4 s)\n",
      "Iteration 5: 845846.647031 \t 161826755.806812 (4.4 s)\n",
      "Iteration 6: 827219.582756 \t 152611575.377343 (4.7 s)\n",
      "Iteration 7: 803590.345601 \t 144324558.152444 (4.5 s)\n",
      "Iteration 8: 756039.517276 \t 126269627.127004 (4.6 s)\n",
      "Iteration 9: 717332.902543 \t 117249290.799368 (4.6 s)\n",
      "Iteration 10: 694587.925253 \t 113435032.631654 (4.4 s)\n",
      "Iteration 11: 684444.501997 \t 112135086.397574 (4.6 s)\n",
      "Iteration 12: 674574.747548 \t 111148784.548771 (4.5 s)\n",
      "Iteration 13: 667409.469916 \t 110468779.387485 (4.5 s)\n",
      "Iteration 14: 663556.627822 \t 110026240.103155 (4.8 s)\n",
      "Iteration 15: 660162.777229 \t 109650205.255891 (4.5 s)\n",
      "Iteration 16: 656041.322295 \t 108848369.817381 (4.5 s)\n",
      "Iteration 17: 653036.754073 \t 108191917.747173 (4.5 s)\n",
      "Iteration 18: 651112.426252 \t 107720208.008428 (4.6 s)\n",
      "Iteration 19: 649689.013184 \t 107472119.069022 (4.5 s)\n"
     ]
    }
   ],
   "source": [
    "for i in range(Iteration_times):\n",
    "    # 計算每個點的兩種距離\n",
    "    # Distance_sum : i,(j,sum_1,sum2)\n",
    "    Distance_sum = get_sum(Data_with_index,Cluster)\n",
    "    # 取每個點所有\n",
    "    min_norm_1 = Distance_sum.reduceByKey(lambda x,y : x if x[1]<y[1] else y)\n",
    "    min_norm_2 = Distance_sum.reduceByKey(lambda x,y : x if x[2]<y[2] else y)\n",
    "    norm_1 = min_norm_1.map(lambda x : x[1][1]).sum()\n",
    "    norm_2 = min_norm_2.map(lambda x : x[1][2]).sum()\n",
    "    C2_norm1_list.append(norm_1)\n",
    "    C2_norm2_list.append(norm_2)\n",
    "\n",
    "    # 印出過程\n",
    "    cost_time = time.time()-ticks\n",
    "    ticks = time.time()\n",
    "    print(\"Iteration %d: %f \\t %f (%.1f s)\" % (i,norm_1,norm_2,cost_time))\n",
    "    # 更新Cluster\n",
    "    Cluster_table = min_norm_1.map(lambda x : (x[0],x[1][0]))\n",
    "    Cluster = Cluster_table.join(Data_with_index).map(lambda x: (x[1][0], (1,x[1][1])))\\\n",
    "                  .reduceByKey(lambda x,y : (x[0]+y[0],x[1]+y[1]))\\\n",
    "                  .map(lambda x : (x[0],x[1][1]/x[1][0]))\n",
    "    Cluster.persist()"
   ]
  },
  {
   "cell_type": "markdown",
   "metadata": {
    "hidden": true
   },
   "source": [
    "#### Sheet"
   ]
  },
  {
   "cell_type": "markdown",
   "metadata": {
    "hidden": true
   },
   "source": [
    "![](https://i.imgur.com/2eGSNly.png)\n",
    "![](https://i.imgur.com/6ItkcKj.png)"
   ]
  },
  {
   "cell_type": "markdown",
   "metadata": {
    "hidden": true
   },
   "source": [
    "### Show Figure"
   ]
  },
  {
   "cell_type": "code",
   "execution_count": 47,
   "metadata": {
    "colab": {
     "base_uri": "https://localhost:8080/",
     "height": 281
    },
    "colab_type": "code",
    "hidden": true,
    "id": "KEsPGkF-Q-Zc",
    "outputId": "30122bae-9c2d-4623-8049-cf97e52bca18"
   },
   "outputs": [
    {
     "data": {
      "image/png": "[encoded data removed]",
      "text/plain": [
       "<Figure size 432x288 with 1 Axes>"
      ]
     },
     "metadata": {
      "tags": []
     },
     "output_type": "display_data"
    }
   ],
   "source": [
    "plt.plot(C1_norm2_list)\n",
    "plt.plot(C2_norm2_list)\n",
    "plt.title(\"Euclidean\")\n",
    "plt.show()"
   ]
  },
  {
   "cell_type": "code",
   "execution_count": 48,
   "metadata": {
    "colab": {
     "base_uri": "https://localhost:8080/",
     "height": 281
    },
    "colab_type": "code",
    "hidden": true,
    "id": "hKqtD1eVRBYT",
    "outputId": "fc677ba5-bab3-4788-8c57-d5b4c5ffc909"
   },
   "outputs": [
    {
     "data": {
      "image/png": "[encoded data removed]",
      "text/plain": [
       "<Figure size 432x288 with 1 Axes>"
      ]
     },
     "metadata": {
      "tags": []
     },
     "output_type": "display_data"
    }
   ],
   "source": [
    "plt.plot(C1_norm1_list)\n",
    "plt.plot(C2_norm1_list)\n",
    "plt.title(\"Manhattan\")\n",
    "plt.show()"
   ]
  },
  {
   "cell_type": "markdown",
   "metadata": {
    "colab": {},
    "colab_type": "code",
    "id": "VDutaZMXRD05"
   },
   "source": [
    "## 結論"
   ]
  },
  {
   "cell_type": "markdown",
   "metadata": {},
   "source": [
    "+ 用隨機的點C1的效果不如最遠距離的C2點\n",
    "+ Euculidean距離通常都比Manhattan距離降得快\n",
    "+ 用C2點開始的Manhattan距離通常變化不會太大"
   ]
  },
  {
   "cell_type": "markdown",
   "metadata": {},
   "source": [
    "### 流程圖"
   ]
  },
  {
   "cell_type": "markdown",
   "metadata": {},
   "source": [
    "![](https://i.imgur.com/k0nmJER.png)"
   ]
  },
  {
   "cell_type": "code",
   "execution_count": null,
   "metadata": {},
   "outputs": [],
   "source": []
  }
 ],
 "metadata": {
  "accelerator": "GPU",
  "colab": {
   "name": "KMeans.ipynb",
   "provenance": [],
   "toc_visible": true
  },
  "kernelspec": {
   "display_name": "Python 3",
   "language": "python",
   "name": "python3"
  },
  "language_info": {
   "codemirror_mode": {
    "name": "ipython",
    "version": 3
   },
   "file_extension": ".py",
   "mimetype": "text/x-python",
   "name": "python",
   "nbconvert_exporter": "python",
   "pygments_lexer": "ipython3",
   "version": "3.6.8"
  }
 },
 "nbformat": 4,
 "nbformat_minor": 1
}
