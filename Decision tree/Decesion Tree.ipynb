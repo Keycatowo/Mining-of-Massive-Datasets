{
 "cells": [
  {
   "cell_type": "markdown",
   "metadata": {},
   "source": [
    "# Decesion Tree"
   ]
  },
  {
   "cell_type": "markdown",
   "metadata": {},
   "source": [
    "## Summary"
   ]
  },
  {
   "cell_type": "markdown",
   "metadata": {},
   "source": [
    "### 目的"
   ]
  },
  {
   "cell_type": "markdown",
   "metadata": {},
   "source": [
    "+ 實作Decision Tree 進行二元分類預測\n",
    "+ 用底層Mapreduce方式來和MLlib進行比對"
   ]
  },
  {
   "cell_type": "markdown",
   "metadata": {},
   "source": [
    "### 資料"
   ]
  },
  {
   "cell_type": "markdown",
   "metadata": {},
   "source": [
    "+ **StumbleUpon Evergreen Classification Challenge**\n",
    "+ Dataset:https://www.kaggle.com/c/stumbleupon/data\n",
    "+ Predict the pages is ephemeral or evergreen"
   ]
  },
  {
   "cell_type": "markdown",
   "metadata": {},
   "source": [
    "## Set up"
   ]
  },
  {
   "cell_type": "code",
   "execution_count": 1,
   "metadata": {
    "ExecuteTime": {
     "end_time": "2019-12-24T14:37:28.437430Z",
     "start_time": "2019-12-24T14:37:28.077662Z"
    }
   },
   "outputs": [],
   "source": [
    "# import findspark\n",
    "# findspark.init()\n",
    "\n",
    "# import glob # to get file paths\n",
    "# import random\n",
    "import numpy as np # for preprocess\n",
    "# import itertools # to generate pairs from list\n",
    "\n",
    "import pyspark\n",
    "from pyspark import SparkConf, SparkContext"
   ]
  },
  {
   "cell_type": "code",
   "execution_count": 4,
   "metadata": {
    "ExecuteTime": {
     "end_time": "2019-12-24T14:38:49.149589Z",
     "start_time": "2019-12-24T14:38:49.145279Z"
    }
   },
   "outputs": [],
   "source": [
    "import os\n",
    "os.environ['JAVA_HOME'] = 'C:\\Program Files\\Java\\jdk1.8.0_201'"
   ]
  },
  {
   "cell_type": "code",
   "execution_count": 280,
   "metadata": {
    "ExecuteTime": {
     "end_time": "2019-12-26T14:35:45.985518Z",
     "start_time": "2019-12-26T14:35:45.779997Z"
    },
    "scrolled": true
   },
   "outputs": [
    {
     "data": {
      "text/html": [
       "\n",
       "        <div>\n",
       "            <p><b>SparkContext</b></p>\n",
       "\n",
       "            <p><a href=\"http://127.0.0.1:4040\">Spark UI</a></p>\n",
       "\n",
       "            <dl>\n",
       "              <dt>Version</dt>\n",
       "                <dd><code>v2.4.4</code></dd>\n",
       "              <dt>Master</dt>\n",
       "                <dd><code>local</code></dd>\n",
       "              <dt>AppName</dt>\n",
       "                <dd><code>DececisionTree</code></dd>\n",
       "            </dl>\n",
       "        </div>\n",
       "        "
      ],
      "text/plain": [
       "<SparkContext master=local appName=DececisionTree>"
      ]
     },
     "execution_count": 280,
     "metadata": {},
     "output_type": "execute_result"
    }
   ],
   "source": [
    "conf = SparkConf().set('spark.driver.host','127.0.0.1').setMaster(\"local\").setAppName(\"DececisionTree\").set(\"spark.default.parallelism\", 4)\n",
    "sc = SparkContext(conf=conf)\n",
    "sc"
   ]
  },
  {
   "cell_type": "code",
   "execution_count": 415,
   "metadata": {
    "ExecuteTime": {
     "end_time": "2019-12-27T00:23:47.648152Z",
     "start_time": "2019-12-27T00:23:47.643791Z"
    }
   },
   "outputs": [],
   "source": [
    "# Parameter\n",
    "category_Numbers = 14 # 一共14個categories類別\n",
    "spilt_rate = [9,1] # 用8：2的比例分割資料成 訓練/測試 資料集 \n",
    "Min_leaf_size = 200\n",
    "N = 3"
   ]
  },
  {
   "cell_type": "markdown",
   "metadata": {},
   "source": [
    "## Input"
   ]
  },
  {
   "cell_type": "code",
   "execution_count": 282,
   "metadata": {
    "ExecuteTime": {
     "end_time": "2019-12-26T14:35:57.620228Z",
     "start_time": "2019-12-26T14:35:52.326008Z"
    },
    "scrolled": false
   },
   "outputs": [
    {
     "data": {
      "text/plain": [
       "7396"
      ]
     },
     "execution_count": 282,
     "metadata": {},
     "output_type": "execute_result"
    }
   ],
   "source": [
    "Input = sc.textFile(\"./data/train.tsv\")\n",
    "Input.count()"
   ]
  },
  {
   "cell_type": "code",
   "execution_count": 283,
   "metadata": {
    "ExecuteTime": {
     "end_time": "2019-12-26T14:35:57.798036Z",
     "start_time": "2019-12-26T14:35:57.759805Z"
    },
    "scrolled": true
   },
   "outputs": [
    {
     "data": {
      "text/plain": [
       "'\"url\"\\t\"urlid\"\\t\"boilerplate\"\\t\"alchemy_category\"\\t\"alchemy_category_score\"\\t\"avglinksize\"\\t\"commonlinkratio_1\"\\t\"commonlinkratio_2\"\\t\"commonlinkratio_3\"\\t\"commonlinkratio_4\"\\t\"compression_ratio\"\\t\"embed_ratio\"\\t\"framebased\"\\t\"frameTagRatio\"\\t\"hasDomainLink\"\\t\"html_ratio\"\\t\"image_ratio\"\\t\"is_news\"\\t\"lengthyLinkDomain\"\\t\"linkwordscore\"\\t\"news_front_page\"\\t\"non_markup_alphanum_characters\"\\t\"numberOfLinks\"\\t\"numwords_in_url\"\\t\"parametrizedLinkRatio\"\\t\"spelling_errors_ratio\"\\t\"label\"'"
      ]
     },
     "execution_count": 283,
     "metadata": {},
     "output_type": "execute_result"
    }
   ],
   "source": [
    "Input.first()"
   ]
  },
  {
   "cell_type": "markdown",
   "metadata": {},
   "source": [
    "## Preprocess"
   ]
  },
  {
   "cell_type": "markdown",
   "metadata": {},
   "source": [
    "### 資料清洗"
   ]
  },
  {
   "cell_type": "markdown",
   "metadata": {},
   "source": [
    "#### 清洗標題"
   ]
  },
  {
   "cell_type": "code",
   "execution_count": 284,
   "metadata": {
    "ExecuteTime": {
     "end_time": "2019-12-26T14:35:59.533348Z",
     "start_time": "2019-12-26T14:35:59.482104Z"
    }
   },
   "outputs": [],
   "source": [
    "title = Input.first()\n",
    "Data = Input.filter(lambda x : x!= title)"
   ]
  },
  {
   "cell_type": "code",
   "execution_count": 285,
   "metadata": {
    "ExecuteTime": {
     "end_time": "2019-12-26T14:35:59.817264Z",
     "start_time": "2019-12-26T14:35:59.759952Z"
    },
    "scrolled": true
   },
   "outputs": [
    {
     "data": {
      "text/plain": [
       "'\"http://www.bloomberg.com/news/2010-12-23/ibm-predicts-holographic-calls-air-breathing-batteries-by-2015.html\"\\t\"4042\"\\t\"{\"\"title\"\":\"\"IBM Sees Holographic Calls Air Breathing Batteries ibm sees holographic calls, air-breathing batteries\"\",\"\"body\"\":\"\"A sign stands outside the International Business Machines Corp IBM Almaden Research Center campus in San Jose California Photographer Tony Avelar Bloomberg Buildings stand at the International Business Machines Corp IBM Almaden Research Center campus in the Santa Teresa Hills of San Jose California Photographer Tony Avelar Bloomberg By 2015 your mobile phone will project a 3 D image of anyone who calls and your laptop will be powered by kinetic energy At least that s what International Business Machines Corp sees in its crystal ball The predictions are part of an annual tradition for the Armonk New York based company which surveys its 3 000 researchers to find five ideas expected to take root in the next five years IBM the world s largest provider of computer services looks to Silicon Valley for input gleaning many ideas from its Almaden research center in San Jose California Holographic conversations projected from mobile phones lead this year s list The predictions also include air breathing batteries computer programs that can tell when and where traffic jams will take place environmental information generated by sensors in cars and phones and cities powered by the heat thrown off by computer servers These are all stretch goals and that s good said Paul Saffo managing director of foresight at the investment advisory firm Discern in San Francisco In an era when pessimism is the new black a little dose of technological optimism is not a bad thing For IBM it s not just idle speculation The company is one of the few big corporations investing in long range research projects and it counts on innovation to fuel growth Saffo said Not all of its predictions pan out though IBM was overly optimistic about the spread of speech technology for instance When the ideas do lead to products they can have broad implications for society as well as IBM s bottom line he said Research Spending They have continued to do research when all the other grand research organizations are gone said Saffo who is also a consulting associate professor at Stanford University IBM invested 5 8 billion in research and development last year 6 1 percent of revenue While that s down from about 10 percent in the early 1990s the company spends a bigger share on research than its computing rivals Hewlett Packard Co the top maker of personal computers spent 2 4 percent last year At Almaden scientists work on projects that don t always fit in with IBM s computer business The lab s research includes efforts to develop an electric car battery that runs 500 miles on one charge a filtration system for desalination and a program that shows changes in geographic data IBM rose 9 cents to 146 04 at 11 02 a m in New York Stock Exchange composite trading The stock had gained 11 percent this year before today Citizen Science The list is meant to give a window into the company s innovation engine said Josephine Cheng a vice president at IBM s Almaden lab All this demonstrates a real culture of innovation at IBM and willingness to devote itself to solving some of the world s biggest problems she said Many of the predictions are based on projects that IBM has in the works One of this year s ideas that sensors in cars wallets and personal devices will give scientists better data about the environment is an expansion of the company s citizen science initiative Earlier this year IBM teamed up with the California State Water Resources Control Board and the City of San Jose Environmental Services to help gather information about waterways Researchers from Almaden created an application that lets smartphone users snap photos of streams and creeks and report back on conditions The hope is that these casual observations will help local and state officials who don t have the resources to do the work themselves Traffic Predictors IBM also sees data helping shorten commutes in the next five years Computer programs will use algorithms and real time traffic information to predict which roads will have backups and how to avoid getting stuck Batteries may last 10 times longer in 2015 than today IBM says Rather than using the current lithium ion technology new models could rely on energy dense metals that only need to interact with the air to recharge Some electronic devices might ditch batteries altogether and use something similar to kinetic wristwatches which only need to be shaken to generate a charge The final prediction involves recycling the heat generated by computers and data centers Almost half of the power used by data centers is currently spent keeping the computers cool IBM scientists say it would be better to harness that heat to warm houses and offices In IBM s first list of predictions compiled at the end of 2006 researchers said instantaneous speech translation would become the norm That hasn t happened yet While some programs can quickly translate electronic documents and instant messages and other apps can perform limited speech translation there s nothing widely available that acts like the universal translator in Star Trek Second Life The company also predicted that online immersive environments such as Second Life would become more widespread While immersive video games are as popular as ever Second Life s growth has slowed Internet users are flocking instead to the more 2 D environments of Facebook Inc and Twitter Inc Meanwhile a 2007 prediction that mobile phones will act as a wallet ticket broker concierge bank and shopping assistant is coming true thanks to the explosion of smartphone applications Consumers can pay bills through their banking apps buy movie tickets and get instant feedback on potential purchases all with a few taps on their phones The nice thing about the list is that it provokes thought Saffo said If everything came true they wouldn t be doing their job To contact the reporter on this story Ryan Flinn in San Francisco at rflinn bloomberg net To contact the editor responsible for this story Tom Giles at tgiles5 bloomberg net by 2015, your mobile phone will project a 3-d image of anyone who calls and your laptop will be powered by kinetic energy. at least that\\\\u2019s what international business machines corp. sees in its crystal ball.\"\",\"\"url\"\":\"\"bloomberg news 2010 12 23 ibm predicts holographic calls air breathing batteries by 2015 html\"\"}\"\\t\"business\"\\t\"0.789131\"\\t\"2.055555556\"\\t\"0.676470588\"\\t\"0.205882353\"\\t\"0.047058824\"\\t\"0.023529412\"\\t\"0.443783175\"\\t\"0\"\\t\"0\"\\t\"0.09077381\"\\t\"0\"\\t\"0.245831182\"\\t\"0.003883495\"\\t\"1\"\\t\"1\"\\t\"24\"\\t\"0\"\\t\"5424\"\\t\"170\"\\t\"8\"\\t\"0.152941176\"\\t\"0.079129575\"\\t\"0\"'"
      ]
     },
     "execution_count": 285,
     "metadata": {},
     "output_type": "execute_result"
    }
   ],
   "source": [
    "Data.first()"
   ]
  },
  {
   "cell_type": "markdown",
   "metadata": {},
   "source": [
    "#### 分割資料\n",
    "+ 原始資料是以`\\t`分割,並由`\"`包覆"
   ]
  },
  {
   "cell_type": "code",
   "execution_count": 286,
   "metadata": {
    "ExecuteTime": {
     "end_time": "2019-12-26T14:36:01.942446Z",
     "start_time": "2019-12-26T14:36:01.876571Z"
    },
    "scrolled": true
   },
   "outputs": [
    {
     "data": {
      "text/plain": [
       "['business',\n",
       " '0.789131',\n",
       " '2.055555556',\n",
       " '0.676470588',\n",
       " '0.205882353',\n",
       " '0.047058824',\n",
       " '0.023529412',\n",
       " '0.443783175',\n",
       " '0',\n",
       " '0',\n",
       " '0.09077381',\n",
       " '0',\n",
       " '0.245831182',\n",
       " '0.003883495',\n",
       " '1',\n",
       " '1',\n",
       " '24',\n",
       " '0',\n",
       " '5424',\n",
       " '170',\n",
       " '8',\n",
       " '0.152941176',\n",
       " '0.079129575',\n",
       " '0']"
      ]
     },
     "execution_count": 286,
     "metadata": {},
     "output_type": "execute_result"
    }
   ],
   "source": [
    "lines = Data.map(lambda x : x.replace(\"\\\"\",\"\")).map(lambda x : x.split(\"\\t\"))\n",
    "lines.first()[3:]"
   ]
  },
  {
   "cell_type": "markdown",
   "metadata": {},
   "source": [
    "### 提取特徵"
   ]
  },
  {
   "cell_type": "markdown",
   "metadata": {},
   "source": [
    "#### 建立one-hot encode table"
   ]
  },
  {
   "cell_type": "code",
   "execution_count": 287,
   "metadata": {
    "ExecuteTime": {
     "end_time": "2019-12-26T14:36:04.893789Z",
     "start_time": "2019-12-26T14:36:04.514200Z"
    }
   },
   "outputs": [],
   "source": [
    "category_with_index = lines.map(lambda x: x[3]).distinct().zipWithIndex()"
   ]
  },
  {
   "cell_type": "code",
   "execution_count": 288,
   "metadata": {
    "ExecuteTime": {
     "end_time": "2019-12-26T14:36:05.023563Z",
     "start_time": "2019-12-26T14:36:05.015392Z"
    },
    "scrolled": true
   },
   "outputs": [
    {
     "data": {
      "text/plain": [
       "array([[ 0],\n",
       "       [ 1],\n",
       "       [ 2],\n",
       "       [ 3],\n",
       "       [ 4],\n",
       "       [ 5],\n",
       "       [ 6],\n",
       "       [ 7],\n",
       "       [ 8],\n",
       "       [ 9],\n",
       "       [10],\n",
       "       [11],\n",
       "       [12],\n",
       "       [13]])"
      ]
     },
     "execution_count": 288,
     "metadata": {},
     "output_type": "execute_result"
    }
   ],
   "source": [
    "category_Numbers_list = list(range(category_Numbers))\n",
    "category_Numbers_array = np.array(category_Numbers_list).reshape(category_Numbers, -1)\n",
    "category_Numbers_array"
   ]
  },
  {
   "cell_type": "code",
   "execution_count": 289,
   "metadata": {
    "ExecuteTime": {
     "end_time": "2019-12-26T14:36:06.383268Z",
     "start_time": "2019-12-26T14:36:06.363493Z"
    }
   },
   "outputs": [],
   "source": [
    "from sklearn.preprocessing import OneHotEncoder\n",
    "enc = OneHotEncoder()\n",
    "enc.fit(category_Numbers_array)\n",
    "encoder_table = enc.transform(category_Numbers_array).toarray()"
   ]
  },
  {
   "cell_type": "code",
   "execution_count": 290,
   "metadata": {
    "ExecuteTime": {
     "end_time": "2019-12-26T14:36:06.850080Z",
     "start_time": "2019-12-26T14:36:06.777054Z"
    },
    "scrolled": false
   },
   "outputs": [
    {
     "data": {
      "text/plain": [
       "{'business': array([1., 0., 0., 0., 0., 0., 0., 0., 0., 0., 0., 0., 0., 0.]),\n",
       " 'arts_entertainment': array([0., 1., 0., 0., 0., 0., 0., 0., 0., 0., 0., 0., 0., 0.]),\n",
       " 'computer_internet': array([0., 0., 1., 0., 0., 0., 0., 0., 0., 0., 0., 0., 0., 0.]),\n",
       " 'law_crime': array([0., 0., 0., 1., 0., 0., 0., 0., 0., 0., 0., 0., 0., 0.]),\n",
       " 'weather': array([0., 0., 0., 0., 1., 0., 0., 0., 0., 0., 0., 0., 0., 0.]),\n",
       " 'unknown': array([0., 0., 0., 0., 0., 1., 0., 0., 0., 0., 0., 0., 0., 0.]),\n",
       " 'science_technology': array([0., 0., 0., 0., 0., 0., 1., 0., 0., 0., 0., 0., 0., 0.]),\n",
       " 'sports': array([0., 0., 0., 0., 0., 0., 0., 1., 0., 0., 0., 0., 0., 0.]),\n",
       " '?': array([0., 0., 0., 0., 0., 0., 0., 0., 1., 0., 0., 0., 0., 0.]),\n",
       " 'gaming': array([0., 0., 0., 0., 0., 0., 0., 0., 0., 1., 0., 0., 0., 0.]),\n",
       " 'culture_politics': array([0., 0., 0., 0., 0., 0., 0., 0., 0., 0., 1., 0., 0., 0.]),\n",
       " 'religion': array([0., 0., 0., 0., 0., 0., 0., 0., 0., 0., 0., 1., 0., 0.]),\n",
       " 'recreation': array([0., 0., 0., 0., 0., 0., 0., 0., 0., 0., 0., 0., 1., 0.]),\n",
       " 'health': array([0., 0., 0., 0., 0., 0., 0., 0., 0., 0., 0., 0., 0., 1.])}"
      ]
     },
     "execution_count": 290,
     "metadata": {},
     "output_type": "execute_result"
    }
   ],
   "source": [
    "category_Map = category_with_index.map(lambda x : (x[0],encoder_table[x[1]])).collectAsMap()\n",
    "category_Map"
   ]
  },
  {
   "cell_type": "code",
   "execution_count": 291,
   "metadata": {
    "ExecuteTime": {
     "end_time": "2019-12-26T14:36:09.717503Z",
     "start_time": "2019-12-26T14:36:09.712375Z"
    }
   },
   "outputs": [],
   "source": [
    "from pyspark.mllib.regression import LabeledPoint\n",
    "def extract_features(row):\n",
    "    category_features = category_Map[row[3]]\n",
    "    number_features = row[4:-2]\n",
    "    number_features = [0.0 if x==\"?\" else float(x) for x in number_features]\n",
    "    \n",
    "    features = np.concatenate((category_features,number_features))\n",
    "    label = float(row[-1])\n",
    "    \n",
    "    return (label,features)"
   ]
  },
  {
   "cell_type": "code",
   "execution_count": 292,
   "metadata": {
    "ExecuteTime": {
     "end_time": "2019-12-26T14:36:20.566758Z",
     "start_time": "2019-12-26T14:36:19.786032Z"
    },
    "scrolled": true
   },
   "outputs": [
    {
     "data": {
      "text/plain": [
       "LabeledPoint(0.0, [1.0,0.0,0.0,0.0,0.0,0.0,0.0,0.0,0.0,0.0,0.0,0.0,0.0,0.0,0.789131,2.055555556,0.676470588,0.205882353,0.047058824,0.023529412,0.443783175,0.0,0.0,0.09077381,0.0,0.245831182,0.003883495,1.0,1.0,24.0,0.0,5424.0,170.0,8.0,0.152941176])"
      ]
     },
     "execution_count": 292,
     "metadata": {},
     "output_type": "execute_result"
    }
   ],
   "source": [
    "labelRDD = lines.map(extract_features).map(lambda x: LabeledPoint(x[0],x[1]))\n",
    "labelRDD.first()"
   ]
  },
  {
   "cell_type": "markdown",
   "metadata": {},
   "source": [
    "### 切分資料"
   ]
  },
  {
   "cell_type": "code",
   "execution_count": 303,
   "metadata": {
    "ExecuteTime": {
     "end_time": "2019-12-26T14:37:00.245599Z",
     "start_time": "2019-12-26T14:36:59.404147Z"
    },
    "scrolled": false
   },
   "outputs": [
    {
     "name": "stdout",
     "output_type": "stream",
     "text": [
      "train: 6665\n",
      "test:  730\n"
     ]
    }
   ],
   "source": [
    "(trainRDD,testRDD) = labelRDD.randomSplit(spilt_rate)\n",
    "print(\"train: \" + str(trainRDD.count()))\n",
    "print(\"test:  \" + str(testRDD.count()))"
   ]
  },
  {
   "cell_type": "markdown",
   "metadata": {},
   "source": [
    "### 持久化"
   ]
  },
  {
   "cell_type": "code",
   "execution_count": 304,
   "metadata": {
    "ExecuteTime": {
     "end_time": "2019-12-26T14:37:00.409768Z",
     "start_time": "2019-12-26T14:37:00.393310Z"
    }
   },
   "outputs": [
    {
     "data": {
      "text/plain": [
       "PythonRDD[87] at RDD at PythonRDD.scala:53"
      ]
     },
     "execution_count": 304,
     "metadata": {},
     "output_type": "execute_result"
    }
   ],
   "source": [
    "trainRDD.persist()"
   ]
  },
  {
   "cell_type": "markdown",
   "metadata": {},
   "source": [
    "## Train Model By mllib"
   ]
  },
  {
   "cell_type": "markdown",
   "metadata": {},
   "source": [
    "+ 用內建的model來做對比"
   ]
  },
  {
   "cell_type": "code",
   "execution_count": 305,
   "metadata": {
    "ExecuteTime": {
     "end_time": "2019-12-26T14:37:01.937729Z",
     "start_time": "2019-12-26T14:37:00.604627Z"
    }
   },
   "outputs": [],
   "source": [
    "from pyspark.mllib.tree import DecisionTree\n",
    "model = DecisionTree.trainClassifier(\n",
    "    data=trainRDD,numClasses=2,categoricalFeaturesInfo={},\n",
    "    impurity=\"entropy\", maxDepth=5, maxBins=5)"
   ]
  },
  {
   "cell_type": "code",
   "execution_count": 481,
   "metadata": {
    "ExecuteTime": {
     "end_time": "2019-12-27T01:24:29.151049Z",
     "start_time": "2019-12-27T01:24:22.843568Z"
    }
   },
   "outputs": [
    {
     "name": "stdout",
     "output_type": "stream",
     "text": [
      "491:239\r"
     ]
    }
   ],
   "source": [
    "right_count = wrong_count = 0\n",
    "for test_data in testRDD.take(testRDD.count()):\n",
    "    ans = test_data.label\n",
    "    gus = model.predict(test_data.features)\n",
    "    if ans==gus:\n",
    "#         print(\"Y\",end='\\r')\n",
    "        right_count += 1\n",
    "    else :\n",
    "#         print(\"N\",end='\\r')\n",
    "        wrong_count += 1\n",
    "    print(str(right_count) + \":\" + str(wrong_count), end = \"\\r\")"
   ]
  },
  {
   "cell_type": "code",
   "execution_count": 482,
   "metadata": {
    "ExecuteTime": {
     "end_time": "2019-12-27T01:24:32.742681Z",
     "start_time": "2019-12-27T01:24:32.737762Z"
    }
   },
   "outputs": [
    {
     "name": "stdout",
     "output_type": "stream",
     "text": [
      "正確率:67.3\n"
     ]
    }
   ],
   "source": [
    "accuracy = right_count/(right_count+wrong_count)*100\n",
    "print(\"正確率:%.1f\" % accuracy)"
   ]
  },
  {
   "cell_type": "markdown",
   "metadata": {},
   "source": [
    "## Train Model By MapReduce"
   ]
  },
  {
   "cell_type": "markdown",
   "metadata": {},
   "source": [
    "+ category feature : `0~14` 0 or 1\n",
    "+ numerical feature: `15~34` float"
   ]
  },
  {
   "cell_type": "markdown",
   "metadata": {},
   "source": [
    "### 分裂節點的參數計算"
   ]
  },
  {
   "cell_type": "markdown",
   "metadata": {},
   "source": [
    "#### 計算entropy"
   ]
  },
  {
   "cell_type": "code",
   "execution_count": 308,
   "metadata": {
    "ExecuteTime": {
     "end_time": "2019-12-26T14:37:12.708793Z",
     "start_time": "2019-12-26T14:37:12.704115Z"
    }
   },
   "outputs": [],
   "source": [
    "# 計算 2-state system 的entropy\n",
    "def entropy(state1,state2):\n",
    "    if state1==0 or state2==0:\n",
    "        return 0\n",
    "    else:\n",
    "        p1 = state1/(state1+state2)\n",
    "        p2 = state2/(state1+state2)\n",
    "#         p2 = 1-p1\n",
    "        return -(p1*math.log2(p1)) -(p2*math.log2(p2))"
   ]
  },
  {
   "cell_type": "code",
   "execution_count": 309,
   "metadata": {
    "ExecuteTime": {
     "end_time": "2019-12-26T14:37:12.974523Z",
     "start_time": "2019-12-26T14:37:12.969830Z"
    }
   },
   "outputs": [],
   "source": [
    "def RDD_entropy(RDD,count=\"no_value\"):\n",
    "    count = RDD.count() if count==\"no_value\" else count\n",
    "    state1 = RDD.filter(lambda x: x[0]).count()\n",
    "    return entropy(state1,count-state1)"
   ]
  },
  {
   "cell_type": "code",
   "execution_count": 310,
   "metadata": {
    "ExecuteTime": {
     "end_time": "2019-12-26T14:37:13.456701Z",
     "start_time": "2019-12-26T14:37:13.450850Z"
    }
   },
   "outputs": [
    {
     "data": {
      "text/plain": [
       "0.08013604733127525"
      ]
     },
     "execution_count": 310,
     "metadata": {},
     "output_type": "execute_result"
    }
   ],
   "source": [
    "entropy(1,100)"
   ]
  },
  {
   "cell_type": "markdown",
   "metadata": {},
   "source": [
    "#### 一個feature中尋找產生最大的information gain"
   ]
  },
  {
   "cell_type": "code",
   "execution_count": 315,
   "metadata": {
    "ExecuteTime": {
     "end_time": "2019-12-26T14:39:26.770081Z",
     "start_time": "2019-12-26T14:39:26.762184Z"
    }
   },
   "outputs": [],
   "source": [
    "def max_split_gain(RDD,sample_node = 0):\n",
    "    # RDD (label,feature)\n",
    "    split_points = RDD.values().distinct().collect()\n",
    "    split_points.sort()\n",
    "    R0_count = RDD.count()\n",
    "    R0_entropy = RDD_entropy(RDD,R0_count)\n",
    "    \n",
    "    # sample data for fastser\n",
    "    if sample_node<len(split_points) and sample_node>0:\n",
    "        sample_rate = int(len(split_points)/sample_node)\n",
    "        split_points = [split_points[i] for i in range(0,len(split_points),sample_rate)]\n",
    "    \n",
    "    # try every point in split_points\n",
    "    # to get the max information gain\n",
    "    gain_list = []\n",
    "    for point in split_points:\n",
    "        R1 = RDD.filter(lambda x : x[1]<point)\n",
    "        R2 = RDD.filter(lambda x : x[1]>=point)\n",
    "        R1_count = R1.count()\n",
    "        R2_count = R0_count-R1_count\n",
    "        \n",
    "        gain = R0_entropy - (R1_count/R0_count)*RDD_entropy(R1,R1_count) - (R2_count/R0_count)*RDD_entropy(R2,R2_count)\n",
    "        gain_list.append((gain,point))\n",
    "    \n",
    "    return max(gain_list) # (gain,split_point)\n",
    "        "
   ]
  },
  {
   "cell_type": "markdown",
   "metadata": {},
   "source": [
    "#### 所有feature內找最大information gain"
   ]
  },
  {
   "cell_type": "code",
   "execution_count": 316,
   "metadata": {
    "ExecuteTime": {
     "end_time": "2019-12-26T14:39:36.410136Z",
     "start_time": "2019-12-26T14:39:36.401507Z"
    }
   },
   "outputs": [],
   "source": [
    "def max_feature_gain(RDD,sample_node=0):\n",
    "    feature_types = len(RDD.first().features) # 35\n",
    "    \n",
    "    gain_list = []\n",
    "    for feature_index in range(feature_types):\n",
    "        RDD_one_feature = RDD.map(lambda x: (x.label,x.features[feature_index])) # (key,value)\n",
    "        one_feature_max_gain = max_split_gain(RDD_one_feature,sample_node)\n",
    "        print(\"Now in feature[%d],max gain is %.6f with split at %.3f \" % (feature_index,one_feature_max_gain[0],one_feature_max_gain[1]),end=\"\\r\")\n",
    "        gain_list.append((one_feature_max_gain,feature_index))\n",
    "    \n",
    "    max_gain = max(gain_list) # ((gain,split_point),feature_index)\n",
    "    print(\"Best gain in feature[%d] with split at %.3f is : %.6f\" % (max_gain[1],max_gain[0][1],max_gain[0][0]))\n",
    "    return (max_gain[1],max_gain[0][1])"
   ]
  },
  {
   "cell_type": "code",
   "execution_count": 363,
   "metadata": {
    "ExecuteTime": {
     "end_time": "2019-12-26T15:10:00.506828Z",
     "start_time": "2019-12-26T15:09:39.066716Z"
    },
    "scrolled": true
   },
   "outputs": [
    {
     "name": "stdout",
     "output_type": "stream",
     "text": [
      "Best gain in feature[31] with split at 3539.000 is : 0.045723  \n"
     ]
    },
    {
     "data": {
      "text/plain": [
       "(31, 3539.0)"
      ]
     },
     "execution_count": 363,
     "metadata": {},
     "output_type": "execute_result"
    }
   ],
   "source": [
    "example_RDD = trainRDD.randomSplit([0.05,0.95])[0] # 取1/10的資料來做示範\n",
    "max_feature_gain(RDD=example_RDD,sample_node=2)"
   ]
  },
  {
   "cell_type": "markdown",
   "metadata": {},
   "source": [
    "### 建樹"
   ]
  },
  {
   "cell_type": "code",
   "execution_count": 477,
   "metadata": {
    "ExecuteTime": {
     "end_time": "2019-12-27T01:19:05.852205Z",
     "start_time": "2019-12-27T01:19:05.831852Z"
    }
   },
   "outputs": [],
   "source": [
    "class node:\n",
    "    def __init__(self,RDD):\n",
    "        # value\n",
    "        self.RDD = RDD\n",
    "        self.count = self.RDD.count()\n",
    "        self.level = 0\n",
    "        self.feature = None\n",
    "        self.split_point = None\n",
    "        self.predict_value = None\n",
    "        self.RDD.persist()\n",
    "        # tree\n",
    "        self.left = None\n",
    "        self.right = None\n",
    "  \n",
    "    def setLeft(self, left):\n",
    "        self.left = left\n",
    "        self.left.level = self.level + 1\n",
    "        \n",
    "    def setRight(self, right):\n",
    "        self.right = right\n",
    "        self.right.level = self.level + 1\n",
    "    \n",
    "    def get_count(self):\n",
    "        self.count = self.RDD.count()\n",
    "        return self.count\n",
    "    \n",
    "    def get_predict(self):\n",
    "        label_one_count = self.RDD.map(lambda x: x.label).filter(lambda x: x).count()\n",
    "        self.predict_value = int(label_one_count/self.count *2  + 1e-9)\n",
    "        return self.predict_value\n",
    "    \n",
    "    def get_split(self):\n",
    "        (self.feature,self.split_point) = max_feature_gain(self.RDD,sample_node=N)\n",
    "        print(\"split at \" + str((self.feature,self.split_point)))\n",
    "        \n",
    "    def is_leaf(self):\n",
    "        return self.count <= Min_leaf_size\n",
    "        \n",
    "    def build(self):\n",
    "        if self.is_leaf():\n",
    "            return\n",
    "        \n",
    "        self.get_split()\n",
    "        (feature_index,split_point_value) = (self.feature,self.split_point)\n",
    "        print(self.count)\n",
    "        \n",
    "        R1 = self.RDD.filter(lambda x : x.features[feature_index]<split_point_value)\n",
    "        self.setLeft(node(R1))\n",
    "        print(\"build left at %s\" % str((feature_index,split_point_value)))\n",
    "        self.left.build()\n",
    "\n",
    "        R2 = self.RDD.filter(lambda x : x.features[feature_index]>=split_point_value)\n",
    "        self.setRight(node(R2))\n",
    "        print(\"build right at %s\" % str((feature_index,split_point_value)))\n",
    "        self.right.build()\n",
    "    \n",
    "    def level_order_print(self):\n",
    "        \n",
    "        if self.is_leaf():\n",
    "            self.get_predict()\n",
    "            print(\"\\t\"*self.level + str(self.predict_value))\n",
    "            return\n",
    "        else :\n",
    "            print(\"\\t\"*self.level + str((self.feature,self.split_point)))\n",
    "        \n",
    "        print(\"\\t\"*self.level + \"left\")\n",
    "        self.left.level_order_print()\n",
    "        print(\"\\t\"*self.level + \"right\")\n",
    "        self.right.level_order_print()\n",
    "    \n",
    "    def predict(self,features):\n",
    "        if self.is_leaf():\n",
    "            self.get_predict()\n",
    "#             print(self.predict_value)\n",
    "            return self.predict_value\n",
    "        else:\n",
    "            if features[self.feature] < self.split_point:\n",
    "                return self.left.predict(features)\n",
    "            else :\n",
    "                return self.right.predict(features)"
   ]
  },
  {
   "cell_type": "code",
   "execution_count": 478,
   "metadata": {
    "ExecuteTime": {
     "end_time": "2019-12-27T01:19:07.184259Z",
     "start_time": "2019-12-27T01:19:07.139049Z"
    }
   },
   "outputs": [],
   "source": [
    "root = node(example_RDD)"
   ]
  },
  {
   "cell_type": "code",
   "execution_count": 479,
   "metadata": {
    "ExecuteTime": {
     "end_time": "2019-12-27T01:19:40.923885Z",
     "start_time": "2019-12-27T01:19:07.338024Z"
    }
   },
   "outputs": [
    {
     "name": "stdout",
     "output_type": "stream",
     "text": [
      "Best gain in feature[31] with split at 2436.000 is : 0.054220  \n",
      "split at (31, 2436.0)\n",
      "356\n",
      "build left at (31, 2436.0)\n",
      "build right at (31, 2436.0)\n",
      "Best gain in feature[12] with split at 1.000 is : 0.0365020    \n",
      "split at (12, 1.0)\n",
      "233\n",
      "build left at (12, 1.0)\n",
      "build right at (12, 1.0)\n"
     ]
    }
   ],
   "source": [
    "root.build()"
   ]
  },
  {
   "cell_type": "code",
   "execution_count": 424,
   "metadata": {
    "ExecuteTime": {
     "end_time": "2019-12-27T00:31:10.351040Z",
     "start_time": "2019-12-27T00:31:10.344976Z"
    },
    "scrolled": true
   },
   "outputs": [
    {
     "data": {
      "text/plain": [
       "356"
      ]
     },
     "execution_count": 424,
     "metadata": {},
     "output_type": "execute_result"
    }
   ],
   "source": [
    "root.count"
   ]
  },
  {
   "cell_type": "code",
   "execution_count": 425,
   "metadata": {
    "ExecuteTime": {
     "end_time": "2019-12-27T00:31:11.944125Z",
     "start_time": "2019-12-27T00:31:11.930326Z"
    }
   },
   "outputs": [
    {
     "data": {
      "text/plain": [
       "123"
      ]
     },
     "execution_count": 425,
     "metadata": {},
     "output_type": "execute_result"
    }
   ],
   "source": [
    "root.left.count"
   ]
  },
  {
   "cell_type": "code",
   "execution_count": 426,
   "metadata": {
    "ExecuteTime": {
     "end_time": "2019-12-27T00:31:12.714316Z",
     "start_time": "2019-12-27T00:31:12.703787Z"
    }
   },
   "outputs": [
    {
     "data": {
      "text/plain": [
       "233"
      ]
     },
     "execution_count": 426,
     "metadata": {},
     "output_type": "execute_result"
    }
   ],
   "source": [
    "root.right.count"
   ]
  },
  {
   "cell_type": "code",
   "execution_count": 427,
   "metadata": {
    "ExecuteTime": {
     "end_time": "2019-12-27T00:31:19.134965Z",
     "start_time": "2019-12-27T00:31:19.120884Z"
    }
   },
   "outputs": [
    {
     "data": {
      "text/plain": [
       "183"
      ]
     },
     "execution_count": 427,
     "metadata": {},
     "output_type": "execute_result"
    }
   ],
   "source": [
    "root.right.left.count"
   ]
  },
  {
   "cell_type": "code",
   "execution_count": 428,
   "metadata": {
    "ExecuteTime": {
     "end_time": "2019-12-27T00:31:26.181767Z",
     "start_time": "2019-12-27T00:31:26.173483Z"
    }
   },
   "outputs": [
    {
     "data": {
      "text/plain": [
       "50"
      ]
     },
     "execution_count": 428,
     "metadata": {},
     "output_type": "execute_result"
    }
   ],
   "source": [
    "root.right.right.count"
   ]
  },
  {
   "cell_type": "code",
   "execution_count": 475,
   "metadata": {
    "ExecuteTime": {
     "end_time": "2019-12-27T01:18:15.862400Z",
     "start_time": "2019-12-27T01:18:15.314784Z"
    }
   },
   "outputs": [
    {
     "name": "stdout",
     "output_type": "stream",
     "text": [
      "(31, 2436.0)\n",
      "left\n",
      "\t0\n",
      "right\n",
      "\t(12, 1.0)\n",
      "\tleft\n",
      "\t\t1\n",
      "\tright\n",
      "\t\t1\n"
     ]
    }
   ],
   "source": [
    "root.level_order_print()"
   ]
  },
  {
   "cell_type": "code",
   "execution_count": 480,
   "metadata": {
    "ExecuteTime": {
     "end_time": "2019-12-27T01:19:41.091569Z",
     "start_time": "2019-12-27T01:19:41.014092Z"
    }
   },
   "outputs": [
    {
     "name": "stdout",
     "output_type": "stream",
     "text": [
      "1\n"
     ]
    },
    {
     "data": {
      "text/plain": [
       "1"
      ]
     },
     "execution_count": 480,
     "metadata": {},
     "output_type": "execute_result"
    }
   ],
   "source": [
    "root.predict(tmp.features)"
   ]
  },
  {
   "cell_type": "markdown",
   "metadata": {},
   "source": [
    "## Test Model"
   ]
  },
  {
   "cell_type": "code",
   "execution_count": 483,
   "metadata": {
    "ExecuteTime": {
     "end_time": "2019-12-27T01:25:54.221348Z",
     "start_time": "2019-12-27T01:25:26.212763Z"
    }
   },
   "outputs": [
    {
     "name": "stdout",
     "output_type": "stream",
     "text": [
      "1\n",
      "0:0\n",
      "0:0\n",
      "1:1\n",
      "0:1\n",
      "0:2\n",
      "1:3\n",
      "1:3\n",
      "0:4\n",
      "1:5\n",
      "1:6\n",
      "0:7\n",
      "0:7\n",
      "0:8\n",
      "1:9\n",
      "1:9\n",
      "0:10\n",
      "1:10\n",
      "1:10\n",
      "0:11\n",
      "0:11\n",
      "10:11\n",
      "11:11\n",
      "01:12\n",
      "11:13\n",
      "11:14\n",
      "12:14\n",
      "13:14\n",
      "04:14\n",
      "05:14\n",
      "15:15\n",
      "06:15\n",
      "06:16\n",
      "17:16\n",
      "17:17\n",
      "18:17\n",
      "18:18\n",
      "18:19\n",
      "09:19\n",
      "10:19\n",
      "01:19\n",
      "11:20\n",
      "11:21\n",
      "12:21\n",
      "12:22\n",
      "12:23\n",
      "13:23\n",
      "13:24\n",
      "04:24\n",
      "15:24\n",
      "16:24\n",
      "07:24\n",
      "17:25\n",
      "08:25\n",
      "19:25\n",
      "19:26\n",
      "10:26\n",
      "10:27\n",
      "11:27\n",
      "01:28\n",
      "12:28\n",
      "13:28\n",
      "14:28\n",
      "14:29\n",
      "15:29\n",
      "05:30\n",
      "15:31\n",
      "16:31\n",
      "07:31\n",
      "18:31\n",
      "19:31\n",
      "10:31\n",
      "11:31\n",
      "01:32\n",
      "12:32\n",
      "12:33\n",
      "03:33\n",
      "14:33\n",
      "15:33\n",
      "15:34\n",
      "15:35\n",
      "16:35\n",
      "06:36\n",
      "17:36\n",
      "08:36\n",
      "19:36\n",
      "00:36\n",
      "10:37\n",
      "10:38\n",
      "10:39\n",
      "11:39\n",
      "02:39\n",
      "13:39\n",
      "13:40\n",
      "04:40\n",
      "15:40\n",
      "15:41\n",
      "15:42\n",
      "06:42\n",
      "16:43\n",
      "17:43\n",
      "07:44\n",
      "18:44\n",
      "18:45\n",
      "19:45\n",
      "00:45\n",
      "10:46\n",
      "11:46\n",
      "11:47\n",
      "01:48\n",
      "12:48\n",
      "03:48\n",
      "04:48\n",
      "05:48\n",
      "06:48\n",
      "07:48\n",
      "08:48\n",
      "09:48\n",
      "00:48\n",
      "01:48\n",
      "11:49\n",
      "02:49\n",
      "12:50\n",
      "12:51\n",
      "02:52\n",
      "13:52\n",
      "13:53\n",
      "13:54\n",
      "03:55\n",
      "14:55\n",
      "15:55\n",
      "06:55\n",
      "17:55\n",
      "08:55\n",
      "19:55\n",
      "10:55\n",
      "00:56\n",
      "10:57\n",
      "00:58\n",
      "11:58\n",
      "11:59\n",
      "12:59\n",
      "12:60\n",
      "12:61\n",
      "02:62\n",
      "13:62\n",
      "14:62\n",
      "14:63\n",
      "04:64\n",
      "14:65\n",
      "14:66\n",
      "15:66\n",
      "16:66\n",
      "16:67\n",
      "07:67\n",
      "18:67\n",
      "19:67\n",
      "19:68\n",
      "10:68\n",
      "11:68\n",
      "11:69\n",
      "11:70\n",
      "12:70\n",
      "13:70\n",
      "14:70\n",
      "15:70\n",
      "16:70\n",
      "17:70\n",
      "17:71\n",
      "08:71\n",
      "18:72\n",
      "09:72\n",
      "09:73\n",
      "000:73\n",
      "100:74\n",
      "001:74\n",
      "102:74\n",
      "103:74\n",
      "004:74\n",
      "104:75\n",
      "104:76\n",
      "104:77\n",
      "004:78\n",
      "105:78\n",
      "006:78\n",
      "107:78\n",
      "008:78\n",
      "109:78\n",
      "110:78\n",
      "011:78\n",
      "111:79\n",
      "112:79\n",
      "112:80\n",
      "113:80\n",
      "114:80\n",
      "015:80\n",
      "116:80\n",
      "017:80\n",
      "118:80\n",
      "019:80\n",
      "020:80\n",
      "020:81\n",
      "021:81\n",
      "122:81\n",
      "022:82\n",
      "123:82\n",
      "124:82\n",
      "125:82\n",
      "125:83\n",
      "026:83\n",
      "127:83\n",
      "028:83\n",
      "128:84\n",
      "129:84\n",
      "130:84\n",
      "130:85\n",
      "031:85\n",
      "132:85\n",
      "132:86\n",
      "133:86\n",
      "134:86\n",
      "135:86\n",
      "135:87\n",
      "135:88\n",
      "135:89\n",
      "036:89\n",
      "136:90\n",
      "137:90\n",
      "037:91\n",
      "138:91\n",
      "139:91\n",
      "140:91\n",
      "140:92\n",
      "140:93\n",
      "140:94\n",
      "140:95\n",
      "141:95\n",
      "142:95\n",
      "042:96\n",
      "143:96\n",
      "144:96\n",
      "045:96\n",
      "046:96\n",
      "047:96\n",
      "148:96\n",
      "149:96\n",
      "149:97\n",
      "049:98\n",
      "150:98\n",
      "150:99\n",
      "051:99\n",
      "052:99\n",
      "152:100\n",
      "053:100\n",
      "154:100\n",
      "155:100\n",
      "156:100\n",
      "157:100\n",
      "158:100\n",
      "159:100\n",
      "159:101\n",
      "160:101\n",
      "161:101\n",
      "161:102\n",
      "162:102\n",
      "162:103\n",
      "162:104\n",
      "163:104\n",
      "164:104\n",
      "165:104\n",
      "166:104\n",
      "166:105\n",
      "167:105\n",
      "168:105\n",
      "168:106\n",
      "169:106\n",
      "069:107\n",
      "070:107\n",
      "070:108\n",
      "071:108\n",
      "072:108\n",
      "172:109\n",
      "173:109\n",
      "074:109\n",
      "174:110\n",
      "175:110\n",
      "076:110\n",
      "177:110\n",
      "178:110\n",
      "179:110\n",
      "180:110\n",
      "181:110\n",
      "182:110\n",
      "183:110\n",
      "183:111\n",
      "184:111\n",
      "084:112\n",
      "085:112\n",
      "185:113\n",
      "185:114\n",
      "086:114\n",
      "087:114\n",
      "188:114\n",
      "088:115\n",
      "089:115\n",
      "089:116\n",
      "189:117\n",
      "189:118\n",
      "090:118\n",
      "190:119\n",
      "090:120\n",
      "191:120\n",
      "192:120\n",
      "192:121\n",
      "093:121\n",
      "193:122\n",
      "093:123\n",
      "194:123\n",
      "195:123\n",
      "096:123\n",
      "096:124\n",
      "197:124\n",
      "197:125\n",
      "097:126\n",
      "098:126\n",
      "199:126\n",
      "000:126\n",
      "000:127\n",
      "001:127\n",
      "102:127\n",
      "002:128\n",
      "003:128\n",
      "104:128\n",
      "105:128\n",
      "105:129\n",
      "105:130\n",
      "105:131\n",
      "006:131\n",
      "106:132\n",
      "106:133\n",
      "007:133\n",
      "108:133\n",
      "008:134\n",
      "008:135\n",
      "109:135\n",
      "110:135\n",
      "110:136\n",
      "011:136\n",
      "011:137\n",
      "111:138\n",
      "112:138\n",
      "112:139\n",
      "012:140\n",
      "012:141\n",
      "113:141\n",
      "114:141\n",
      "115:141\n",
      "116:141\n",
      "117:141\n",
      "118:141\n",
      "119:141\n",
      "020:141\n",
      "120:142\n",
      "020:143\n",
      "020:144\n",
      "021:144\n",
      "121:145\n",
      "122:145\n",
      "123:145\n",
      "124:145\n",
      "025:145\n",
      "026:145\n",
      "127:145\n",
      "127:146\n",
      "128:146\n",
      "128:147\n",
      "128:148\n",
      "129:148\n",
      "130:148\n",
      "031:148\n",
      "131:149\n",
      "131:150\n",
      "132:150\n",
      "133:150\n",
      "034:150\n",
      "035:150\n",
      "036:150\n",
      "036:151\n",
      "137:151\n",
      "138:151\n",
      "138:152\n",
      "139:152\n",
      "039:153\n",
      "140:153\n",
      "141:153\n",
      "142:153\n",
      "043:153\n",
      "044:153\n",
      "144:154\n",
      "145:154\n",
      "146:154\n",
      "046:155\n",
      "047:155\n",
      "148:155\n",
      "149:155\n",
      "150:155\n",
      "051:155\n",
      "152:155\n",
      "152:156\n",
      "053:156\n",
      "153:157\n",
      "053:158\n",
      "154:158\n",
      "055:158\n",
      "055:159\n",
      "056:159\n",
      "157:159\n",
      "157:160\n",
      "157:161\n",
      "157:162\n",
      "157:163\n",
      "158:163\n",
      "159:163\n",
      "060:163\n",
      "160:164\n",
      "060:165\n",
      "060:166\n",
      "161:166\n",
      "162:166\n",
      "163:166\n",
      "064:166\n",
      "065:166\n",
      "065:167\n",
      "166:167\n",
      "167:167\n",
      "167:168\n",
      "068:168\n",
      "068:169\n",
      "068:170\n",
      "069:170\n",
      "170:170\n",
      "171:170\n",
      "071:171\n",
      "072:171\n",
      "173:171\n",
      "073:172\n",
      "174:172\n",
      "175:172\n",
      "175:173\n",
      "176:173\n",
      "077:173\n",
      "178:173\n",
      "079:173\n",
      "080:173\n",
      "181:173\n",
      "182:173\n",
      "182:174\n",
      "183:174\n",
      "084:174\n",
      "185:174\n",
      "186:174\n",
      "087:174\n",
      "088:174\n",
      "189:174\n",
      "090:174\n",
      "191:174\n",
      "191:175\n",
      "091:176\n",
      "092:176\n",
      "193:176\n",
      "194:176\n",
      "195:176\n",
      "096:176\n",
      "096:177\n",
      "197:177\n",
      "098:177\n",
      "198:178\n",
      "199:178\n",
      "199:179\n",
      "000:179\n",
      "100:180\n",
      "100:181\n",
      "101:181\n",
      "102:181\n",
      "103:181\n",
      "103:182\n",
      "104:182\n",
      "105:182\n",
      "106:182\n",
      "107:182\n",
      "107:183\n",
      "108:183\n",
      "109:183\n",
      "109:184\n",
      "110:184\n",
      "010:185\n",
      "110:186\n",
      "110:187\n",
      "011:187\n",
      "112:187\n",
      "013:187\n",
      "114:187\n",
      "014:188\n",
      "114:189\n",
      "115:189\n",
      "115:190\n",
      "115:191\n",
      "115:192\n",
      "116:192\n",
      "017:192\n",
      "018:192\n",
      "019:192\n",
      "119:193\n",
      "120:193\n",
      "121:193\n",
      "021:194\n",
      "022:194\n",
      "022:195\n",
      "122:196\n",
      "023:196\n",
      "124:196\n",
      "125:196\n",
      "126:196\n",
      "127:196\n",
      "127:197\n",
      "127:198\n",
      "127:199\n",
      "128:199\n",
      "128:200\n",
      "128:201\n",
      "129:201\n",
      "029:202\n",
      "130:202\n",
      "131:202\n",
      "131:203\n",
      "132:203\n",
      "133:203\n",
      "134:203\n",
      "135:203\n",
      "135:204\n",
      "136:204\n",
      "136:205\n",
      "137:205\n",
      "138:205\n",
      "038:206\n",
      "139:206\n",
      "140:206\n",
      "041:206\n",
      "042:206\n",
      "142:207\n",
      "043:207\n",
      "143:208\n",
      "144:208\n",
      "145:208\n",
      "145:209\n",
      "046:209\n",
      "147:209\n",
      "148:209\n",
      "148:210\n",
      "048:211\n",
      "148:212\n",
      "149:212\n",
      "150:212\n",
      "151:212\n",
      "052:212\n",
      "053:212\n",
      "053:213\n",
      "054:213\n",
      "155:213\n",
      "156:213\n",
      "156:214\n",
      "057:214\n",
      "158:214\n",
      "159:214\n",
      "060:214\n",
      "161:214\n",
      "161:215\n",
      "162:215\n",
      "162:216\n",
      "162:217\n",
      "163:217\n",
      "163:218\n",
      "163:219\n",
      "063:220\n",
      "164:220\n",
      "064:221\n",
      "165:221\n",
      "065:222\n",
      "065:223\n",
      "166:223\n",
      "166:224\n",
      "167:224\n",
      "068:224\n",
      "069:224\n",
      "169:225\n",
      "070:225\n",
      "171:225\n",
      "172:225\n",
      "172:226\n",
      "072:227\n",
      "073:227\n",
      "174:227\n",
      "075:227\n",
      "176:227\n",
      "077:227\n",
      "077:228\n",
      "178:228\n",
      "179:228\n",
      "180:228\n",
      "180:229\n",
      "080:230\n",
      "181:230\n",
      "182:230\n",
      "182:231\n",
      "083:231\n",
      "184:231\n",
      "085:231\n",
      "085:232\n",
      "186:232\n",
      "187:232\n",
      "087:233\n",
      "087:234\n",
      "088:234\n",
      "189:234\n",
      "189:235\n",
      "190:235\n",
      "191:235\n",
      "192:235\n",
      "093:235\n",
      "093:236\n",
      "193:237\n",
      "093:238\n",
      "194:238\n",
      "095:238\n",
      "196:238\n",
      "197:238\n",
      "098:238\n",
      "099:238\n",
      "100:238\n",
      "100:239\n",
      "100:240\n",
      "100:241\n",
      "101:241\n",
      "102:241\n",
      "002:242\n",
      "002:243\n",
      "102:244\n",
      "102:245\n",
      "003:245\n",
      "104:245\n",
      "105:245\n",
      "005:246\n",
      "006:246\n",
      "107:246\n",
      "108:246\n",
      "108:247\n",
      "009:247\n",
      "110:247\n",
      "010:248\n",
      "111:248\n",
      "112:248\n",
      "013:248\n",
      "014:248\n",
      "015:248\n",
      "016:248\n",
      "117:248\n",
      "118:248\n",
      "118:249\n",
      "018:250\n",
      "019:250\n",
      "120:250\n",
      "120:251\n",
      "020:252\n",
      "021:252\n",
      "021:253\n",
      "021:254\n",
      "122:254\n",
      "022:255\n",
      "123:255\n",
      "024:255\n",
      "124:256\n",
      "125:256\n",
      "125:257\n",
      "125:258\n",
      "025:259\n",
      "126:259\n",
      "026:260\n",
      "027:260\n",
      "028:260\n",
      "028:261\n",
      "028:262\n",
      "129:262\n",
      "130:262\n",
      "130:263\n",
      "131:263\n",
      "132:263\n",
      "033:263\n",
      "133:264\n",
      "033:265\n",
      "134:265\n",
      "034:266\n",
      "135:266\n",
      "036:266\n",
      "137:266\n",
      "038:266\n",
      "039:266\n",
      "139:267\n",
      "040:267\n",
      "140:268\n",
      "140:269\n",
      "041:269\n",
      "041:270\n",
      "142:270\n",
      "143:270\n",
      "043:271\n",
      "044:271\n",
      "145:271\n",
      "045:272\n",
      "045:273\n",
      "045:274\n",
      "146:274\n",
      "147:274\n",
      "047:275\n",
      "048:275\n",
      "149:275\n",
      "050:275\n",
      "151:275\n",
      "051:276\n",
      "051:277\n",
      "051:278\n",
      "452:278\r"
     ]
    }
   ],
   "source": [
    "right_count = wrong_count = 0\n",
    "for test_data in testRDD.take(testRDD.count()):\n",
    "    ans = test_data.label\n",
    "    gus = root.predict(test_data.features)\n",
    "    if ans==gus:\n",
    "#         print(\"Y\",end='\\r')\n",
    "        right_count += 1\n",
    "    else :\n",
    "#         print(\"N\",end='\\r')\n",
    "        wrong_count += 1\n",
    "    print(str(right_count) + \":\" + str(wrong_count), end = \"\\r\")"
   ]
  },
  {
   "cell_type": "code",
   "execution_count": 484,
   "metadata": {
    "ExecuteTime": {
     "end_time": "2019-12-27T01:26:07.049040Z",
     "start_time": "2019-12-27T01:26:07.042004Z"
    }
   },
   "outputs": [
    {
     "name": "stdout",
     "output_type": "stream",
     "text": [
      "正確率:61.9\n"
     ]
    }
   ],
   "source": [
    "accuracy = right_count/(right_count+wrong_count)*100\n",
    "print(\"正確率:%.1f\" % accuracy)"
   ]
  },
  {
   "cell_type": "code",
   "execution_count": null,
   "metadata": {},
   "outputs": [],
   "source": []
  }
 ],
 "metadata": {
  "hide_input": false,
  "kernelspec": {
   "display_name": "Python 3",
   "language": "python",
   "name": "python3"
  },
  "language_info": {
   "codemirror_mode": {
    "name": "ipython",
    "version": 3
   },
   "file_extension": ".py",
   "mimetype": "text/x-python",
   "name": "python",
   "nbconvert_exporter": "python",
   "pygments_lexer": "ipython3",
   "version": "3.6.8"
  },
  "toc": {
   "base_numbering": 1,
   "nav_menu": {},
   "number_sections": true,
   "sideBar": true,
   "skip_h1_title": false,
   "title_cell": "Table of Contents",
   "title_sidebar": "Contents",
   "toc_cell": false,
   "toc_position": {
    "height": "calc(100% - 180px)",
    "left": "10px",
    "top": "150px",
    "width": "356.348px"
   },
   "toc_section_display": true,
   "toc_window_display": true
  },
  "varInspector": {
   "cols": {
    "lenName": 16,
    "lenType": 16,
    "lenVar": 40
   },
   "kernels_config": {
    "python": {
     "delete_cmd_postfix": "",
     "delete_cmd_prefix": "del ",
     "library": "var_list.py",
     "varRefreshCmd": "print(var_dic_list())"
    },
    "r": {
     "delete_cmd_postfix": ") ",
     "delete_cmd_prefix": "rm(",
     "library": "var_list.r",
     "varRefreshCmd": "cat(var_dic_list()) "
    }
   },
   "oldHeight": 251.75392799999997,
   "position": {
    "height": "39.9855px",
    "left": "1395.81px",
    "right": "20px",
    "top": "115.957px",
    "width": "349.957px"
   },
   "types_to_exclude": [
    "module",
    "function",
    "builtin_function_or_method",
    "instance",
    "_Feature"
   ],
   "varInspector_section_display": "none",
   "window_display": true
  }
 },
 "nbformat": 4,
 "nbformat_minor": 2
}
