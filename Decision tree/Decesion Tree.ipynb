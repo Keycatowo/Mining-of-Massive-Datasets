{
 "cells": [
  {
   "cell_type": "markdown",
   "metadata": {},
   "source": [
    "# Decesion Tree"
   ]
  },
  {
   "cell_type": "markdown",
   "metadata": {},
   "source": [
    "## Set up"
   ]
  },
  {
   "cell_type": "code",
   "execution_count": 1,
   "metadata": {
    "ExecuteTime": {
     "end_time": "2019-12-23T13:16:00.287222Z",
     "start_time": "2019-12-23T13:15:57.854072Z"
    }
   },
   "outputs": [],
   "source": [
    "# import findspark\n",
    "# findspark.init()\n",
    "\n",
    "# import glob # to get file paths\n",
    "# import random\n",
    "import numpy as np # for preprocess\n",
    "# import itertools # to generate pairs from list\n",
    "\n",
    "import pyspark\n",
    "from pyspark import SparkConf, SparkContext"
   ]
  },
  {
   "cell_type": "code",
   "execution_count": 3,
   "metadata": {
    "ExecuteTime": {
     "end_time": "2019-12-23T13:16:13.965770Z",
     "start_time": "2019-12-23T13:16:13.961782Z"
    }
   },
   "outputs": [],
   "source": [
    "import os\n",
    "os.environ['JAVA_HOME'] = 'C:\\Program Files\\Java\\jdk1.8.0_201'"
   ]
  },
  {
   "cell_type": "code",
   "execution_count": 4,
   "metadata": {
    "ExecuteTime": {
     "end_time": "2019-12-23T13:16:51.879483Z",
     "start_time": "2019-12-23T13:16:14.234061Z"
    },
    "scrolled": true
   },
   "outputs": [
    {
     "data": {
      "text/html": [
       "\n",
       "        <div>\n",
       "            <p><b>SparkContext</b></p>\n",
       "\n",
       "            <p><a href=\"http://LAPTOP-6IQUFV2R:4040\">Spark UI</a></p>\n",
       "\n",
       "            <dl>\n",
       "              <dt>Version</dt>\n",
       "                <dd><code>v2.4.4</code></dd>\n",
       "              <dt>Master</dt>\n",
       "                <dd><code>local</code></dd>\n",
       "              <dt>AppName</dt>\n",
       "                <dd><code>DececisionTree</code></dd>\n",
       "            </dl>\n",
       "        </div>\n",
       "        "
      ],
      "text/plain": [
       "<SparkContext master=local appName=DececisionTree>"
      ]
     },
     "execution_count": 4,
     "metadata": {},
     "output_type": "execute_result"
    }
   ],
   "source": [
    "conf = SparkConf().setMaster(\"local\").setAppName(\"DececisionTree\").set(\"spark.default.parallelism\", 4)\n",
    "sc = SparkContext(conf=conf)\n",
    "sc"
   ]
  },
  {
   "cell_type": "code",
   "execution_count": 48,
   "metadata": {
    "ExecuteTime": {
     "end_time": "2019-12-23T13:43:27.690707Z",
     "start_time": "2019-12-23T13:43:27.686721Z"
    }
   },
   "outputs": [],
   "source": [
    "# Parameter\n",
    "category_Numbers = 14 # 一共14個categories類別\n",
    "spilt_rate = [8,1,1] # 用80：10：10的比例分割資料成 訓練/驗證/測試 資料集 "
   ]
  },
  {
   "cell_type": "markdown",
   "metadata": {},
   "source": [
    "## Input"
   ]
  },
  {
   "cell_type": "code",
   "execution_count": 6,
   "metadata": {
    "ExecuteTime": {
     "end_time": "2019-12-23T13:17:43.242627Z",
     "start_time": "2019-12-23T13:17:36.916161Z"
    },
    "scrolled": false
   },
   "outputs": [
    {
     "data": {
      "text/plain": [
       "7396"
      ]
     },
     "execution_count": 6,
     "metadata": {},
     "output_type": "execute_result"
    }
   ],
   "source": [
    "Input = sc.textFile(\"./data/train.tsv\")\n",
    "Input.count()"
   ]
  },
  {
   "cell_type": "code",
   "execution_count": 7,
   "metadata": {
    "ExecuteTime": {
     "end_time": "2019-12-23T13:17:44.440894Z",
     "start_time": "2019-12-23T13:17:43.787372Z"
    },
    "scrolled": true
   },
   "outputs": [
    {
     "data": {
      "text/plain": [
       "'\"url\"\\t\"urlid\"\\t\"boilerplate\"\\t\"alchemy_category\"\\t\"alchemy_category_score\"\\t\"avglinksize\"\\t\"commonlinkratio_1\"\\t\"commonlinkratio_2\"\\t\"commonlinkratio_3\"\\t\"commonlinkratio_4\"\\t\"compression_ratio\"\\t\"embed_ratio\"\\t\"framebased\"\\t\"frameTagRatio\"\\t\"hasDomainLink\"\\t\"html_ratio\"\\t\"image_ratio\"\\t\"is_news\"\\t\"lengthyLinkDomain\"\\t\"linkwordscore\"\\t\"news_front_page\"\\t\"non_markup_alphanum_characters\"\\t\"numberOfLinks\"\\t\"numwords_in_url\"\\t\"parametrizedLinkRatio\"\\t\"spelling_errors_ratio\"\\t\"label\"'"
      ]
     },
     "execution_count": 7,
     "metadata": {},
     "output_type": "execute_result"
    }
   ],
   "source": [
    "Input.first()"
   ]
  },
  {
   "cell_type": "markdown",
   "metadata": {},
   "source": [
    "## Preprocess"
   ]
  },
  {
   "cell_type": "markdown",
   "metadata": {},
   "source": [
    "### 資料清洗"
   ]
  },
  {
   "cell_type": "markdown",
   "metadata": {},
   "source": [
    "#### 清洗標題"
   ]
  },
  {
   "cell_type": "code",
   "execution_count": 8,
   "metadata": {
    "ExecuteTime": {
     "end_time": "2019-12-23T13:17:47.464407Z",
     "start_time": "2019-12-23T13:17:46.810047Z"
    }
   },
   "outputs": [],
   "source": [
    "title = Input.first()\n",
    "Data = Input.filter(lambda x : x!= title)"
   ]
  },
  {
   "cell_type": "code",
   "execution_count": 11,
   "metadata": {
    "ExecuteTime": {
     "end_time": "2019-12-23T13:18:11.957712Z",
     "start_time": "2019-12-23T13:18:11.284797Z"
    },
    "scrolled": true
   },
   "outputs": [
    {
     "data": {
      "text/plain": [
       "'\"http://www.bloomberg.com/news/2010-12-23/ibm-predicts-holographic-calls-air-breathing-batteries-by-2015.html\"\\t\"4042\"\\t\"{\"\"title\"\":\"\"IBM Sees Holographic Calls Air Breathing Batteries ibm sees holographic calls, air-breathing batteries\"\",\"\"body\"\":\"\"A sign stands outside the International Business Machines Corp IBM Almaden Research Center campus in San Jose California Photographer Tony Avelar Bloomberg Buildings stand at the International Business Machines Corp IBM Almaden Research Center campus in the Santa Teresa Hills of San Jose California Photographer Tony Avelar Bloomberg By 2015 your mobile phone will project a 3 D image of anyone who calls and your laptop will be powered by kinetic energy At least that s what International Business Machines Corp sees in its crystal ball The predictions are part of an annual tradition for the Armonk New York based company which surveys its 3 000 researchers to find five ideas expected to take root in the next five years IBM the world s largest provider of computer services looks to Silicon Valley for input gleaning many ideas from its Almaden research center in San Jose California Holographic conversations projected from mobile phones lead this year s list The predictions also include air breathing batteries computer programs that can tell when and where traffic jams will take place environmental information generated by sensors in cars and phones and cities powered by the heat thrown off by computer servers These are all stretch goals and that s good said Paul Saffo managing director of foresight at the investment advisory firm Discern in San Francisco In an era when pessimism is the new black a little dose of technological optimism is not a bad thing For IBM it s not just idle speculation The company is one of the few big corporations investing in long range research projects and it counts on innovation to fuel growth Saffo said Not all of its predictions pan out though IBM was overly optimistic about the spread of speech technology for instance When the ideas do lead to products they can have broad implications for society as well as IBM s bottom line he said Research Spending They have continued to do research when all the other grand research organizations are gone said Saffo who is also a consulting associate professor at Stanford University IBM invested 5 8 billion in research and development last year 6 1 percent of revenue While that s down from about 10 percent in the early 1990s the company spends a bigger share on research than its computing rivals Hewlett Packard Co the top maker of personal computers spent 2 4 percent last year At Almaden scientists work on projects that don t always fit in with IBM s computer business The lab s research includes efforts to develop an electric car battery that runs 500 miles on one charge a filtration system for desalination and a program that shows changes in geographic data IBM rose 9 cents to 146 04 at 11 02 a m in New York Stock Exchange composite trading The stock had gained 11 percent this year before today Citizen Science The list is meant to give a window into the company s innovation engine said Josephine Cheng a vice president at IBM s Almaden lab All this demonstrates a real culture of innovation at IBM and willingness to devote itself to solving some of the world s biggest problems she said Many of the predictions are based on projects that IBM has in the works One of this year s ideas that sensors in cars wallets and personal devices will give scientists better data about the environment is an expansion of the company s citizen science initiative Earlier this year IBM teamed up with the California State Water Resources Control Board and the City of San Jose Environmental Services to help gather information about waterways Researchers from Almaden created an application that lets smartphone users snap photos of streams and creeks and report back on conditions The hope is that these casual observations will help local and state officials who don t have the resources to do the work themselves Traffic Predictors IBM also sees data helping shorten commutes in the next five years Computer programs will use algorithms and real time traffic information to predict which roads will have backups and how to avoid getting stuck Batteries may last 10 times longer in 2015 than today IBM says Rather than using the current lithium ion technology new models could rely on energy dense metals that only need to interact with the air to recharge Some electronic devices might ditch batteries altogether and use something similar to kinetic wristwatches which only need to be shaken to generate a charge The final prediction involves recycling the heat generated by computers and data centers Almost half of the power used by data centers is currently spent keeping the computers cool IBM scientists say it would be better to harness that heat to warm houses and offices In IBM s first list of predictions compiled at the end of 2006 researchers said instantaneous speech translation would become the norm That hasn t happened yet While some programs can quickly translate electronic documents and instant messages and other apps can perform limited speech translation there s nothing widely available that acts like the universal translator in Star Trek Second Life The company also predicted that online immersive environments such as Second Life would become more widespread While immersive video games are as popular as ever Second Life s growth has slowed Internet users are flocking instead to the more 2 D environments of Facebook Inc and Twitter Inc Meanwhile a 2007 prediction that mobile phones will act as a wallet ticket broker concierge bank and shopping assistant is coming true thanks to the explosion of smartphone applications Consumers can pay bills through their banking apps buy movie tickets and get instant feedback on potential purchases all with a few taps on their phones The nice thing about the list is that it provokes thought Saffo said If everything came true they wouldn t be doing their job To contact the reporter on this story Ryan Flinn in San Francisco at rflinn bloomberg net To contact the editor responsible for this story Tom Giles at tgiles5 bloomberg net by 2015, your mobile phone will project a 3-d image of anyone who calls and your laptop will be powered by kinetic energy. at least that\\\\u2019s what international business machines corp. sees in its crystal ball.\"\",\"\"url\"\":\"\"bloomberg news 2010 12 23 ibm predicts holographic calls air breathing batteries by 2015 html\"\"}\"\\t\"business\"\\t\"0.789131\"\\t\"2.055555556\"\\t\"0.676470588\"\\t\"0.205882353\"\\t\"0.047058824\"\\t\"0.023529412\"\\t\"0.443783175\"\\t\"0\"\\t\"0\"\\t\"0.09077381\"\\t\"0\"\\t\"0.245831182\"\\t\"0.003883495\"\\t\"1\"\\t\"1\"\\t\"24\"\\t\"0\"\\t\"5424\"\\t\"170\"\\t\"8\"\\t\"0.152941176\"\\t\"0.079129575\"\\t\"0\"'"
      ]
     },
     "execution_count": 11,
     "metadata": {},
     "output_type": "execute_result"
    }
   ],
   "source": [
    "Data.first()"
   ]
  },
  {
   "cell_type": "markdown",
   "metadata": {},
   "source": [
    "#### 分割資料\n",
    "+ 原始資料是以`\\t`分割,並由`\"`包覆"
   ]
  },
  {
   "cell_type": "code",
   "execution_count": 12,
   "metadata": {
    "ExecuteTime": {
     "end_time": "2019-12-23T13:18:54.961637Z",
     "start_time": "2019-12-23T13:18:54.246550Z"
    },
    "scrolled": true
   },
   "outputs": [
    {
     "data": {
      "text/plain": [
       "['business',\n",
       " '0.789131',\n",
       " '2.055555556',\n",
       " '0.676470588',\n",
       " '0.205882353',\n",
       " '0.047058824',\n",
       " '0.023529412',\n",
       " '0.443783175',\n",
       " '0',\n",
       " '0',\n",
       " '0.09077381',\n",
       " '0',\n",
       " '0.245831182',\n",
       " '0.003883495',\n",
       " '1',\n",
       " '1',\n",
       " '24',\n",
       " '0',\n",
       " '5424',\n",
       " '170',\n",
       " '8',\n",
       " '0.152941176',\n",
       " '0.079129575',\n",
       " '0']"
      ]
     },
     "execution_count": 12,
     "metadata": {},
     "output_type": "execute_result"
    }
   ],
   "source": [
    "lines = Data.map(lambda x : x.replace(\"\\\"\",\"\")).map(lambda x : x.split(\"\\t\"))\n",
    "lines.first()[3:]"
   ]
  },
  {
   "cell_type": "markdown",
   "metadata": {},
   "source": [
    "### 提取特徵"
   ]
  },
  {
   "cell_type": "markdown",
   "metadata": {},
   "source": [
    "#### 建立one-hot encode table"
   ]
  },
  {
   "cell_type": "code",
   "execution_count": 13,
   "metadata": {
    "ExecuteTime": {
     "end_time": "2019-12-23T13:19:08.134080Z",
     "start_time": "2019-12-23T13:19:01.151503Z"
    }
   },
   "outputs": [],
   "source": [
    "category_with_index = lines.map(lambda x: x[3]).distinct().zipWithIndex()"
   ]
  },
  {
   "cell_type": "code",
   "execution_count": 14,
   "metadata": {
    "ExecuteTime": {
     "end_time": "2019-12-23T13:19:13.327521Z",
     "start_time": "2019-12-23T13:19:13.184211Z"
    },
    "scrolled": true
   },
   "outputs": [
    {
     "data": {
      "text/plain": [
       "array([[ 0],\n",
       "       [ 1],\n",
       "       [ 2],\n",
       "       [ 3],\n",
       "       [ 4],\n",
       "       [ 5],\n",
       "       [ 6],\n",
       "       [ 7],\n",
       "       [ 8],\n",
       "       [ 9],\n",
       "       [10],\n",
       "       [11],\n",
       "       [12],\n",
       "       [13]])"
      ]
     },
     "execution_count": 14,
     "metadata": {},
     "output_type": "execute_result"
    }
   ],
   "source": [
    "category_Numbers_list = list(range(category_Numbers))\n",
    "category_Numbers_array = np.array(category_Numbers_list).reshape(category_Numbers, -1)\n",
    "category_Numbers_array"
   ]
  },
  {
   "cell_type": "code",
   "execution_count": 15,
   "metadata": {
    "ExecuteTime": {
     "end_time": "2019-12-23T13:19:27.791040Z",
     "start_time": "2019-12-23T13:19:16.833786Z"
    }
   },
   "outputs": [
    {
     "name": "stderr",
     "output_type": "stream",
     "text": [
      "A:\\Anaconda3\\envs\\tensorflowenv\\lib\\site-packages\\sklearn\\preprocessing\\_encoders.py:371: FutureWarning: The handling of integer data will change in version 0.22. Currently, the categories are determined based on the range [0, max(values)], while in the future they will be determined based on the unique values.\n",
      "If you want the future behaviour and silence this warning, you can specify \"categories='auto'\".\n",
      "In case you used a LabelEncoder before this OneHotEncoder to convert the categories to integers, then you can now use the OneHotEncoder directly.\n",
      "  warnings.warn(msg, FutureWarning)\n"
     ]
    }
   ],
   "source": [
    "from sklearn.preprocessing import OneHotEncoder\n",
    "enc = OneHotEncoder()\n",
    "enc.fit(category_Numbers_array)\n",
    "encoder_table = enc.transform(category_Numbers_array).toarray()"
   ]
  },
  {
   "cell_type": "code",
   "execution_count": 16,
   "metadata": {
    "ExecuteTime": {
     "end_time": "2019-12-23T13:19:32.287967Z",
     "start_time": "2019-12-23T13:19:29.453954Z"
    },
    "scrolled": false
   },
   "outputs": [
    {
     "data": {
      "text/plain": [
       "{'business': array([1., 0., 0., 0., 0., 0., 0., 0., 0., 0., 0., 0., 0., 0.]),\n",
       " 'arts_entertainment': array([0., 1., 0., 0., 0., 0., 0., 0., 0., 0., 0., 0., 0., 0.]),\n",
       " 'computer_internet': array([0., 0., 1., 0., 0., 0., 0., 0., 0., 0., 0., 0., 0., 0.]),\n",
       " 'law_crime': array([0., 0., 0., 1., 0., 0., 0., 0., 0., 0., 0., 0., 0., 0.]),\n",
       " 'weather': array([0., 0., 0., 0., 1., 0., 0., 0., 0., 0., 0., 0., 0., 0.]),\n",
       " 'unknown': array([0., 0., 0., 0., 0., 1., 0., 0., 0., 0., 0., 0., 0., 0.]),\n",
       " 'science_technology': array([0., 0., 0., 0., 0., 0., 1., 0., 0., 0., 0., 0., 0., 0.]),\n",
       " 'sports': array([0., 0., 0., 0., 0., 0., 0., 1., 0., 0., 0., 0., 0., 0.]),\n",
       " '?': array([0., 0., 0., 0., 0., 0., 0., 0., 1., 0., 0., 0., 0., 0.]),\n",
       " 'gaming': array([0., 0., 0., 0., 0., 0., 0., 0., 0., 1., 0., 0., 0., 0.]),\n",
       " 'culture_politics': array([0., 0., 0., 0., 0., 0., 0., 0., 0., 0., 1., 0., 0., 0.]),\n",
       " 'religion': array([0., 0., 0., 0., 0., 0., 0., 0., 0., 0., 0., 1., 0., 0.]),\n",
       " 'recreation': array([0., 0., 0., 0., 0., 0., 0., 0., 0., 0., 0., 0., 1., 0.]),\n",
       " 'health': array([0., 0., 0., 0., 0., 0., 0., 0., 0., 0., 0., 0., 0., 1.])}"
      ]
     },
     "execution_count": 16,
     "metadata": {},
     "output_type": "execute_result"
    }
   ],
   "source": [
    "category_Map = category_with_index.map(lambda x : (x[0],encoder_table[x[1]])).collectAsMap()\n",
    "category_Map"
   ]
  },
  {
   "cell_type": "code",
   "execution_count": 95,
   "metadata": {
    "ExecuteTime": {
     "end_time": "2019-12-23T14:52:36.319482Z",
     "start_time": "2019-12-23T14:52:36.314490Z"
    }
   },
   "outputs": [],
   "source": [
    "from pyspark.mllib.regression import LabeledPoint\n",
    "def extract_features(row):\n",
    "    category_features = category_Map[row[3]]\n",
    "    number_features = row[4:-2]\n",
    "    number_features = [0.0 if x==\"?\" else float(x) for x in number_features]\n",
    "    \n",
    "    features = np.concatenate((category_features,number_features))\n",
    "    label = float(row[-1])\n",
    "    \n",
    "    return (label,features)"
   ]
  },
  {
   "cell_type": "code",
   "execution_count": 98,
   "metadata": {
    "ExecuteTime": {
     "end_time": "2019-12-23T14:54:09.143671Z",
     "start_time": "2019-12-23T14:54:08.334040Z"
    },
    "scrolled": true
   },
   "outputs": [
    {
     "data": {
      "text/plain": [
       "LabeledPoint(0.0, [1.0,0.0,0.0,0.0,0.0,0.0,0.0,0.0,0.0,0.0,0.0,0.0,0.0,0.0,0.789131,2.055555556,0.676470588,0.205882353,0.047058824,0.023529412,0.443783175,0.0,0.0,0.09077381,0.0,0.245831182,0.003883495,1.0,1.0,24.0,0.0,5424.0,170.0,8.0,0.152941176])"
      ]
     },
     "execution_count": 98,
     "metadata": {},
     "output_type": "execute_result"
    }
   ],
   "source": [
    "labelRDD = lines.map(extract_features).map(lambda x: LabeledPoint(x[0],x[1]))\n",
    "labelRDD.first()"
   ]
  },
  {
   "cell_type": "markdown",
   "metadata": {},
   "source": [
    "### 切分資料"
   ]
  },
  {
   "cell_type": "code",
   "execution_count": 99,
   "metadata": {
    "ExecuteTime": {
     "end_time": "2019-12-23T14:54:22.259729Z",
     "start_time": "2019-12-23T14:54:16.808182Z"
    }
   },
   "outputs": [
    {
     "name": "stdout",
     "output_type": "stream",
     "text": [
      "train: 5932\n",
      "valid: 729\n",
      "test:  734\n"
     ]
    }
   ],
   "source": [
    "(trainRDD,validRDD,testRDD) = labelRDD.randomSplit(spilt_rate)\n",
    "print(\"train: \" + str(trainRDD.count()))\n",
    "print(\"valid: \" + str(validRDD.count()))\n",
    "print(\"test:  \" + str(testRDD.count()))"
   ]
  },
  {
   "cell_type": "markdown",
   "metadata": {},
   "source": [
    "## Train Model"
   ]
  },
  {
   "cell_type": "code",
   "execution_count": 100,
   "metadata": {
    "ExecuteTime": {
     "end_time": "2019-12-23T14:54:32.220927Z",
     "start_time": "2019-12-23T14:54:28.719767Z"
    }
   },
   "outputs": [],
   "source": [
    "from pyspark.mllib.tree import DecisionTree\n",
    "model = DecisionTree.trainClassifier(\n",
    "    data=trainRDD,numClasses=2,categoricalFeaturesInfo={},\n",
    "    impurity=\"entropy\", maxDepth=5, maxBins=5)"
   ]
  },
  {
   "cell_type": "code",
   "execution_count": 115,
   "metadata": {
    "ExecuteTime": {
     "end_time": "2019-12-23T14:59:45.889212Z",
     "start_time": "2019-12-23T14:59:45.877245Z"
    }
   },
   "outputs": [
    {
     "data": {
      "text/plain": [
       "1.0"
      ]
     },
     "execution_count": 115,
     "metadata": {},
     "output_type": "execute_result"
    }
   ],
   "source": [
    "model.predict(tmp.features)"
   ]
  },
  {
   "cell_type": "code",
   "execution_count": 125,
   "metadata": {
    "ExecuteTime": {
     "end_time": "2019-12-23T15:04:17.105427Z",
     "start_time": "2019-12-23T15:04:12.957168Z"
    }
   },
   "outputs": [
    {
     "name": "stdout",
     "output_type": "stream",
     "text": [
      "Y\n",
      "N\n",
      "Y\n",
      "N\n",
      "Y\n",
      "N\n",
      "Y\n",
      "N\n",
      "N\n",
      "N\n",
      "Y\n",
      "N\n",
      "N\n",
      "Y\n",
      "Y\n",
      "Y\n",
      "Y\n",
      "N\n",
      "N\n",
      "N\n",
      "N\n",
      "Y\n",
      "N\n",
      "Y\n",
      "Y\n",
      "Y\n",
      "N\n",
      "N\n",
      "Y\n",
      "Y\n",
      "Y\n",
      "Y\n",
      "Y\n",
      "Y\n",
      "Y\n",
      "Y\n",
      "Y\n",
      "Y\n",
      "Y\n",
      "N\n",
      "Y\n",
      "N\n",
      "N\n",
      "Y\n",
      "N\n",
      "N\n",
      "Y\n",
      "N\n",
      "Y\n",
      "N\n",
      "Y\n",
      "Y\n",
      "Y\n",
      "N\n",
      "Y\n",
      "Y\n",
      "Y\n",
      "Y\n",
      "N\n",
      "Y\n",
      "Y\n",
      "N\n",
      "Y\n",
      "N\n",
      "Y\n",
      "Y\n",
      "Y\n",
      "N\n",
      "Y\n",
      "Y\n",
      "Y\n",
      "Y\n",
      "N\n",
      "Y\n",
      "Y\n",
      "Y\n",
      "Y\n",
      "Y\n",
      "N\n",
      "Y\n",
      "Y\n",
      "Y\n",
      "N\n",
      "N\n",
      "N\n",
      "N\n",
      "Y\n",
      "Y\n",
      "Y\n",
      "Y\n",
      "Y\n",
      "Y\n",
      "Y\n",
      "Y\n",
      "Y\n",
      "N\n",
      "Y\n",
      "N\n",
      "Y\n",
      "N\n",
      "Y\n",
      "Y\n",
      "Y\n",
      "Y\n",
      "Y\n",
      "Y\n",
      "N\n",
      "Y\n",
      "Y\n",
      "N\n",
      "N\n",
      "N\n",
      "N\n",
      "Y\n",
      "Y\n",
      "N\n",
      "Y\n",
      "Y\n",
      "Y\n",
      "Y\n",
      "N\n",
      "Y\n",
      "Y\n",
      "Y\n",
      "N\n",
      "Y\n",
      "N\n",
      "Y\n",
      "Y\n",
      "N\n",
      "Y\n",
      "N\n",
      "Y\n",
      "Y\n",
      "N\n",
      "Y\n",
      "Y\n",
      "Y\n",
      "N\n",
      "N\n",
      "Y\n",
      "N\n",
      "Y\n",
      "Y\n",
      "Y\n",
      "Y\n",
      "Y\n",
      "Y\n",
      "Y\n",
      "Y\n",
      "N\n",
      "Y\n",
      "N\n",
      "Y\n",
      "Y\n",
      "Y\n",
      "Y\n",
      "Y\n",
      "Y\n",
      "Y\n",
      "Y\n",
      "Y\n",
      "N\n",
      "N\n",
      "N\n",
      "Y\n",
      "N\n",
      "Y\n",
      "Y\n",
      "Y\n",
      "Y\n",
      "N\n",
      "Y\n",
      "Y\n",
      "N\n",
      "Y\n",
      "Y\n",
      "N\n",
      "Y\n",
      "Y\n",
      "N\n",
      "Y\n",
      "N\n",
      "N\n",
      "Y\n",
      "Y\n",
      "N\n",
      "N\n",
      "N\n",
      "Y\n",
      "N\n",
      "Y\n",
      "N\n",
      "N\n",
      "Y\n",
      "Y\n",
      "N\n",
      "N\n",
      "Y\n",
      "Y\n",
      "Y\n",
      "Y\n",
      "Y\n",
      "N\n",
      "Y\n",
      "N\n",
      "N\n",
      "Y\n",
      "Y\n",
      "N\n",
      "N\n",
      "N\n",
      "Y\n",
      "Y\n",
      "N\n",
      "Y\n",
      "N\n",
      "Y\n",
      "Y\n",
      "N\n",
      "N\n",
      "N\n",
      "Y\n",
      "Y\n",
      "Y\n",
      "N\n",
      "N\n",
      "Y\n",
      "N\n",
      "Y\n",
      "N\n",
      "Y\n",
      "Y\n",
      "N\n",
      "N\n",
      "Y\n",
      "N\n",
      "N\n",
      "Y\n",
      "Y\n",
      "Y\n",
      "Y\n",
      "N\n",
      "N\n",
      "Y\n",
      "N\n",
      "Y\n",
      "N\n",
      "Y\n",
      "Y\n",
      "Y\n",
      "Y\n",
      "N\n",
      "Y\n",
      "N\n",
      "Y\n",
      "N\n",
      "N\n",
      "Y\n",
      "N\n",
      "Y\n",
      "Y\n",
      "Y\n",
      "N\n",
      "Y\n",
      "Y\n",
      "Y\n",
      "N\n",
      "Y\n",
      "Y\n",
      "Y\n",
      "Y\n",
      "Y\n",
      "N\n",
      "N\n",
      "Y\n",
      "N\n",
      "Y\n",
      "Y\n",
      "Y\n",
      "Y\n",
      "N\n",
      "N\n",
      "Y\n",
      "N\n",
      "Y\n",
      "Y\n",
      "Y\n",
      "N\n",
      "Y\n",
      "N\n",
      "Y\n",
      "Y\n",
      "Y\n",
      "N\n",
      "N\n",
      "Y\n",
      "Y\n",
      "Y\n",
      "Y\n",
      "Y\n",
      "N\n",
      "N\n",
      "Y\n",
      "N\n",
      "N\n",
      "N\n",
      "Y\n",
      "Y\n",
      "Y\n",
      "Y\n",
      "N\n",
      "Y\n",
      "N\n",
      "N\n",
      "N\n",
      "Y\n",
      "Y\n",
      "Y\n",
      "Y\n",
      "N\n",
      "Y\n",
      "N\n",
      "Y\n",
      "Y\n",
      "Y\n",
      "N\n",
      "Y\n",
      "N\n",
      "N\n",
      "Y\n",
      "N\n",
      "N\n",
      "N\n",
      "N\n",
      "Y\n",
      "Y\n",
      "N\n",
      "N\n",
      "Y\n",
      "Y\n",
      "Y\n",
      "Y\n",
      "Y\n",
      "N\n",
      "Y\n",
      "Y\n",
      "Y\n",
      "Y\n",
      "Y\n",
      "N\n",
      "N\n",
      "N\n",
      "N\n",
      "Y\n",
      "Y\n",
      "Y\n",
      "Y\n",
      "N\n",
      "Y\n",
      "N\n",
      "N\n",
      "N\n",
      "N\n",
      "Y\n",
      "N\n",
      "N\n",
      "Y\n",
      "Y\n",
      "Y\n",
      "N\n",
      "Y\n",
      "Y\n",
      "N\n",
      "Y\n",
      "N\n",
      "Y\n",
      "Y\n",
      "Y\n",
      "N\n",
      "Y\n",
      "N\n",
      "Y\n",
      "Y\n",
      "Y\n",
      "N\n",
      "Y\n",
      "N\n",
      "Y\n",
      "Y\n",
      "Y\n",
      "N\n",
      "Y\n",
      "N\n",
      "N\n",
      "Y\n",
      "Y\n",
      "Y\n",
      "Y\n",
      "Y\n",
      "N\n",
      "Y\n",
      "N\n",
      "Y\n",
      "N\n",
      "Y\n",
      "N\n",
      "Y\n",
      "N\n",
      "N\n",
      "Y\n",
      "Y\n",
      "Y\n",
      "Y\n",
      "Y\n",
      "Y\n",
      "Y\n",
      "N\n",
      "Y\n",
      "Y\n",
      "Y\n",
      "N\n",
      "Y\n",
      "Y\n",
      "N\n",
      "Y\n",
      "Y\n",
      "Y\n",
      "Y\n",
      "Y\n",
      "N\n",
      "N\n",
      "Y\n",
      "Y\n",
      "Y\n",
      "Y\n",
      "N\n",
      "Y\n",
      "Y\n",
      "Y\n",
      "N\n",
      "Y\n",
      "N\n",
      "N\n",
      "Y\n",
      "Y\n",
      "N\n",
      "N\n",
      "Y\n",
      "Y\n",
      "Y\n",
      "Y\n",
      "Y\n",
      "Y\n",
      "Y\n",
      "Y\n",
      "Y\n",
      "Y\n",
      "Y\n",
      "Y\n",
      "Y\n",
      "Y\n",
      "N\n",
      "Y\n",
      "Y\n",
      "Y\n",
      "N\n",
      "Y\n",
      "Y\n",
      "Y\n",
      "Y\n",
      "Y\n",
      "Y\n",
      "N\n",
      "N\n",
      "N\n",
      "Y\n",
      "N\n",
      "Y\n",
      "Y\n",
      "N\n",
      "Y\n",
      "Y\n",
      "Y\n",
      "Y\n",
      "N\n",
      "Y\n",
      "N\n",
      "N\n",
      "Y\n",
      "Y\n",
      "N\n",
      "Y\n",
      "N\n",
      "Y\n",
      "N\n",
      "Y\n",
      "Y\n",
      "Y\n",
      "N\n",
      "0.632\n"
     ]
    }
   ],
   "source": [
    "rate = 0\n",
    "N = 500\n",
    "for test_data in testRDD.take(N):\n",
    "    ans = test_data.label\n",
    "    gus = model.predict(test_data.features)\n",
    "    if ans==gus:\n",
    "        print(\"Y\")\n",
    "        rate += 1\n",
    "    else :\n",
    "        print(\"N\")\n",
    "rate = rate/N\n",
    "print(rate)"
   ]
  },
  {
   "cell_type": "code",
   "execution_count": null,
   "metadata": {},
   "outputs": [],
   "source": []
  }
 ],
 "metadata": {
  "hide_input": false,
  "kernelspec": {
   "display_name": "Python 3",
   "language": "python",
   "name": "python3"
  },
  "language_info": {
   "codemirror_mode": {
    "name": "ipython",
    "version": 3
   },
   "file_extension": ".py",
   "mimetype": "text/x-python",
   "name": "python",
   "nbconvert_exporter": "python",
   "pygments_lexer": "ipython3",
   "version": "3.6.8"
  },
  "toc": {
   "base_numbering": 1,
   "nav_menu": {},
   "number_sections": true,
   "sideBar": true,
   "skip_h1_title": false,
   "title_cell": "Table of Contents",
   "title_sidebar": "Contents",
   "toc_cell": false,
   "toc_position": {
    "height": "calc(100% - 180px)",
    "left": "10px",
    "top": "150px",
    "width": "356.348px"
   },
   "toc_section_display": true,
   "toc_window_display": true
  },
  "varInspector": {
   "cols": {
    "lenName": 16,
    "lenType": 16,
    "lenVar": 40
   },
   "kernels_config": {
    "python": {
     "delete_cmd_postfix": "",
     "delete_cmd_prefix": "del ",
     "library": "var_list.py",
     "varRefreshCmd": "print(var_dic_list())"
    },
    "r": {
     "delete_cmd_postfix": ") ",
     "delete_cmd_prefix": "rm(",
     "library": "var_list.r",
     "varRefreshCmd": "cat(var_dic_list()) "
    }
   },
   "oldHeight": 252.014928,
   "position": {
    "height": "273.864px",
    "left": "1588.82px",
    "right": "20px",
    "top": "115.978px",
    "width": "349.973px"
   },
   "types_to_exclude": [
    "module",
    "function",
    "builtin_function_or_method",
    "instance",
    "_Feature"
   ],
   "varInspector_section_display": "block",
   "window_display": true
  }
 },
 "nbformat": 4,
 "nbformat_minor": 2
}
