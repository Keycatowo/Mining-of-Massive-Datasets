{
 "cells": [
  {
   "cell_type": "markdown",
   "metadata": {
    "colab_type": "text",
    "id": "MEm8gHCiA4JI"
   },
   "source": [
    "# Decesion Tree"
   ]
  },
  {
   "cell_type": "markdown",
   "metadata": {
    "colab_type": "text",
    "id": "9d_mWUw1A4JL"
   },
   "source": [
    "## Summary"
   ]
  },
  {
   "cell_type": "markdown",
   "metadata": {
    "colab_type": "text",
    "id": "v5AvvG3SA4JL"
   },
   "source": [
    "### 目的"
   ]
  },
  {
   "cell_type": "markdown",
   "metadata": {
    "colab_type": "text",
    "id": "nk5ipQ7mA4JM"
   },
   "source": [
    "+ 實作Decision Tree 進行二元分類預測\n",
    "+ 用底層Mapreduce方式來和MLlib進行比對"
   ]
  },
  {
   "cell_type": "markdown",
   "metadata": {
    "colab_type": "text",
    "id": "bbCyjLEHA4JN"
   },
   "source": [
    "### 資料"
   ]
  },
  {
   "cell_type": "markdown",
   "metadata": {
    "colab_type": "text",
    "id": "-2CS0GlvA4JO"
   },
   "source": [
    "+ **StumbleUpon Evergreen Classification Challenge**\n",
    "+ Dataset:https://www.kaggle.com/c/stumbleupon/data\n",
    "+ Predict the pages is ephemeral or evergreen"
   ]
  },
  {
   "cell_type": "markdown",
   "metadata": {
    "colab_type": "text",
    "id": "JXn3vzHyA4JO"
   },
   "source": [
    "## Set up"
   ]
  },
  {
   "cell_type": "markdown",
   "metadata": {},
   "source": [
    "### colab-environment"
   ]
  },
  {
   "cell_type": "code",
   "execution_count": 0,
   "metadata": {
    "colab": {},
    "colab_type": "code",
    "id": "r-1fC6ueA6uD"
   },
   "outputs": [],
   "source": [
    "!apt-get install openjdk-8-jdk-headless -qq > /dev/null\n",
    "!wget -q http://www-eu.apache.org/dist/spark/spark-2.4.4/spark-2.4.4-bin-hadoop2.7.tgz\n",
    "!tar xf spark-2.4.4-bin-hadoop2.7.tgz\n",
    "!pip install -q findspark\n",
    "\n",
    "import os\n",
    "os.environ[\"JAVA_HOME\"] = \"/usr/lib/jvm/java-8-openjdk-amd64\"\n",
    "os.environ[\"SPARK_HOME\"] = \"/content/spark-2.4.4-bin-hadoop2.7\"\n",
    "\n",
    "import findspark\n",
    "findspark.init()"
   ]
  },
  {
   "cell_type": "code",
   "execution_count": 9,
   "metadata": {
    "colab": {
     "base_uri": "https://localhost:8080/",
     "height": 120
    },
    "colab_type": "code",
    "id": "C5z5ES6bCUZ8",
    "outputId": "d4c4651d-92d4-44fd-d3a5-2541b4d2c29b",
    "scrolled": true
   },
   "outputs": [
    {
     "name": "stdout",
     "output_type": "stream",
     "text": [
      "Go to this URL in a browser: https://accounts.google.com/o/oauth2/auth?client_id=947318989803-6bn6qk8qdgf4n4g3pfee6491hc0brc4i.apps.googleusercontent.com&redirect_uri=urn%3aietf%3awg%3aoauth%3a2.0%3aoob&response_type=code&scope=email%20https%3a%2f%2fwww.googleapis.com%2fauth%2fdocs.test%20https%3a%2f%2fwww.googleapis.com%2fauth%2fdrive%20https%3a%2f%2fwww.googleapis.com%2fauth%2fdrive.photos.readonly%20https%3a%2f%2fwww.googleapis.com%2fauth%2fpeopleapi.readonly\n",
      "\n",
      "Enter your authorization code:\n",
      "··········\n",
      "Mounted at /content/drive\n"
     ]
    }
   ],
   "source": [
    "from google.colab import drive\n",
    "drive.mount('/content/drive')"
   ]
  },
  {
   "cell_type": "markdown",
   "metadata": {},
   "source": [
    "### local-environment"
   ]
  },
  {
   "cell_type": "code",
   "execution_count": 0,
   "metadata": {
    "ExecuteTime": {
     "end_time": "2019-12-24T14:38:49.149589Z",
     "start_time": "2019-12-24T14:38:49.145279Z"
    },
    "colab": {},
    "colab_type": "code",
    "id": "QQRv2AAtA4JS"
   },
   "outputs": [],
   "source": [
    "import os\n",
    "os.environ['JAVA_HOME'] = 'C:\\Program Files\\Java\\jdk1.8.0_201'"
   ]
  },
  {
   "cell_type": "markdown",
   "metadata": {},
   "source": [
    "### import and set sc"
   ]
  },
  {
   "cell_type": "code",
   "execution_count": 0,
   "metadata": {
    "ExecuteTime": {
     "end_time": "2019-12-24T14:37:28.437430Z",
     "start_time": "2019-12-24T14:37:28.077662Z"
    },
    "colab": {},
    "colab_type": "code",
    "id": "N8Yu7ehsA4JP"
   },
   "outputs": [],
   "source": [
    "import numpy as np # for preprocess\n",
    "import math \n",
    "\n",
    "import pyspark\n",
    "from pyspark import SparkConf, SparkContext"
   ]
  },
  {
   "cell_type": "code",
   "execution_count": 4,
   "metadata": {
    "ExecuteTime": {
     "end_time": "2019-12-26T14:35:45.985518Z",
     "start_time": "2019-12-26T14:35:45.779997Z"
    },
    "colab": {
     "base_uri": "https://localhost:8080/",
     "height": 190
    },
    "colab_type": "code",
    "id": "95gPH11lA4JU",
    "outputId": "1450fc5a-8438-4cff-9492-2ef8988664bc",
    "scrolled": true
   },
   "outputs": [
    {
     "data": {
      "text/html": [
       "\n",
       "        <div>\n",
       "            <p><b>SparkContext</b></p>\n",
       "\n",
       "            <p><a href=\"http://127.0.0.1:4040\">Spark UI</a></p>\n",
       "\n",
       "            <dl>\n",
       "              <dt>Version</dt>\n",
       "                <dd><code>v2.4.4</code></dd>\n",
       "              <dt>Master</dt>\n",
       "                <dd><code>local</code></dd>\n",
       "              <dt>AppName</dt>\n",
       "                <dd><code>DececisionTree</code></dd>\n",
       "            </dl>\n",
       "        </div>\n",
       "        "
      ],
      "text/plain": [
       "<SparkContext master=local appName=DececisionTree>"
      ]
     },
     "execution_count": 4,
     "metadata": {
      "tags": []
     },
     "output_type": "execute_result"
    }
   ],
   "source": [
    "conf = SparkConf().set('spark.driver.host','127.0.0.1').setMaster(\"local\").setAppName(\"DececisionTree\").set(\"spark.default.parallelism\", 4)\n",
    "sc = SparkContext(conf=conf)\n",
    "sc"
   ]
  },
  {
   "cell_type": "code",
   "execution_count": 0,
   "metadata": {
    "ExecuteTime": {
     "end_time": "2019-12-27T00:23:47.648152Z",
     "start_time": "2019-12-27T00:23:47.643791Z"
    },
    "colab": {},
    "colab_type": "code",
    "id": "le5CsaOiA4JX"
   },
   "outputs": [],
   "source": [
    "# Parameter\n",
    "category_Numbers = 14 # 一共14個categories類別\n",
    "spilt_rate = [9,1] # 用8：2的比例分割資料成 訓練/測試 資料集 \n",
    "Min_leaf_size = 250\n",
    "N = 10"
   ]
  },
  {
   "cell_type": "markdown",
   "metadata": {
    "colab_type": "text",
    "id": "8Mx1quEMA4Jc"
   },
   "source": [
    "## Input"
   ]
  },
  {
   "cell_type": "code",
   "execution_count": 16,
   "metadata": {
    "ExecuteTime": {
     "end_time": "2019-12-26T14:35:57.620228Z",
     "start_time": "2019-12-26T14:35:52.326008Z"
    },
    "colab": {
     "base_uri": "https://localhost:8080/",
     "height": 33
    },
    "colab_type": "code",
    "id": "wN0h3RR0A4Je",
    "outputId": "1818ae93-16d8-4076-93b4-ba6eb44aea01",
    "scrolled": false
   },
   "outputs": [
    {
     "data": {
      "text/plain": [
       "7396"
      ]
     },
     "execution_count": 16,
     "metadata": {
      "tags": []
     },
     "output_type": "execute_result"
    }
   ],
   "source": [
    "Input = sc.textFile(\"./data/train.tsv\")\n",
    "Input.count()"
   ]
  },
  {
   "cell_type": "code",
   "execution_count": 17,
   "metadata": {
    "ExecuteTime": {
     "end_time": "2019-12-26T14:35:57.798036Z",
     "start_time": "2019-12-26T14:35:57.759805Z"
    },
    "colab": {
     "base_uri": "https://localhost:8080/",
     "height": 53
    },
    "colab_type": "code",
    "id": "vjgDqz3DA4Jj",
    "outputId": "51bee334-88df-4200-ee5f-340f2ed2bc00",
    "scrolled": true
   },
   "outputs": [
    {
     "data": {
      "text/plain": [
       "'\"url\"\\t\"urlid\"\\t\"boilerplate\"\\t\"alchemy_category\"\\t\"alchemy_category_score\"\\t\"avglinksize\"\\t\"commonlinkratio_1\"\\t\"commonlinkratio_2\"\\t\"commonlinkratio_3\"\\t\"commonlinkratio_4\"\\t\"compression_ratio\"\\t\"embed_ratio\"\\t\"framebased\"\\t\"frameTagRatio\"\\t\"hasDomainLink\"\\t\"html_ratio\"\\t\"image_ratio\"\\t\"is_news\"\\t\"lengthyLinkDomain\"\\t\"linkwordscore\"\\t\"news_front_page\"\\t\"non_markup_alphanum_characters\"\\t\"numberOfLinks\"\\t\"numwords_in_url\"\\t\"parametrizedLinkRatio\"\\t\"spelling_errors_ratio\"\\t\"label\"'"
      ]
     },
     "execution_count": 17,
     "metadata": {
      "tags": []
     },
     "output_type": "execute_result"
    }
   ],
   "source": [
    "Input.first()"
   ]
  },
  {
   "cell_type": "markdown",
   "metadata": {
    "colab_type": "text",
    "id": "FPozt644A4Jl"
   },
   "source": [
    "## Preprocess"
   ]
  },
  {
   "cell_type": "markdown",
   "metadata": {
    "colab_type": "text",
    "id": "5iSoU2G4A4Jm"
   },
   "source": [
    "### 資料清洗"
   ]
  },
  {
   "cell_type": "markdown",
   "metadata": {
    "colab_type": "text",
    "id": "JnGpZ8bZA4Jm"
   },
   "source": [
    "#### 清洗標題"
   ]
  },
  {
   "cell_type": "code",
   "execution_count": 0,
   "metadata": {
    "ExecuteTime": {
     "end_time": "2019-12-26T14:35:59.533348Z",
     "start_time": "2019-12-26T14:35:59.482104Z"
    },
    "colab": {},
    "colab_type": "code",
    "id": "IiBdks8WA4Jn"
   },
   "outputs": [],
   "source": [
    "title = Input.first()\n",
    "Data = Input.filter(lambda x : x!= title)"
   ]
  },
  {
   "cell_type": "code",
   "execution_count": 19,
   "metadata": {
    "ExecuteTime": {
     "end_time": "2019-12-26T14:35:59.817264Z",
     "start_time": "2019-12-26T14:35:59.759952Z"
    },
    "colab": {
     "base_uri": "https://localhost:8080/",
     "height": 53
    },
    "colab_type": "code",
    "id": "siHDkLbXA4Jp",
    "outputId": "9c7e3563-525d-46d0-db0b-8acb570e631c",
    "scrolled": true
   },
   "outputs": [
    {
     "data": {
      "text/plain": [
       "'\"http://www.bloomberg.com/news/2010-12-23/ibm-predicts-holographic-calls-air-breathing-batteries-by-2015.html\"\\t\"4042\"\\t\"{\"\"title\"\":\"\"IBM Sees Holographic Calls Air Breathing Batteries ibm sees holographic calls, air-breathing batteries\"\",\"\"body\"\":\"\"A sign stands outside the International Business Machines Corp IBM Almaden Research Center campus in San Jose California Photographer Tony Avelar Bloomberg Buildings stand at the International Business Machines Corp IBM Almaden Research Center campus in the Santa Teresa Hills of San Jose California Photographer Tony Avelar Bloomberg By 2015 your mobile phone will project a 3 D image of anyone who calls and your laptop will be powered by kinetic energy At least that s what International Business Machines Corp sees in its crystal ball The predictions are part of an annual tradition for the Armonk New York based company which surveys its 3 000 researchers to find five ideas expected to take root in the next five years IBM the world s largest provider of computer services looks to Silicon Valley for input gleaning many ideas from its Almaden research center in San Jose California Holographic conversations projected from mobile phones lead this year s list The predictions also include air breathing batteries computer programs that can tell when and where traffic jams will take place environmental information generated by sensors in cars and phones and cities powered by the heat thrown off by computer servers These are all stretch goals and that s good said Paul Saffo managing director of foresight at the investment advisory firm Discern in San Francisco In an era when pessimism is the new black a little dose of technological optimism is not a bad thing For IBM it s not just idle speculation The company is one of the few big corporations investing in long range research projects and it counts on innovation to fuel growth Saffo said Not all of its predictions pan out though IBM was overly optimistic about the spread of speech technology for instance When the ideas do lead to products they can have broad implications for society as well as IBM s bottom line he said Research Spending They have continued to do research when all the other grand research organizations are gone said Saffo who is also a consulting associate professor at Stanford University IBM invested 5 8 billion in research and development last year 6 1 percent of revenue While that s down from about 10 percent in the early 1990s the company spends a bigger share on research than its computing rivals Hewlett Packard Co the top maker of personal computers spent 2 4 percent last year At Almaden scientists work on projects that don t always fit in with IBM s computer business The lab s research includes efforts to develop an electric car battery that runs 500 miles on one charge a filtration system for desalination and a program that shows changes in geographic data IBM rose 9 cents to 146 04 at 11 02 a m in New York Stock Exchange composite trading The stock had gained 11 percent this year before today Citizen Science The list is meant to give a window into the company s innovation engine said Josephine Cheng a vice president at IBM s Almaden lab All this demonstrates a real culture of innovation at IBM and willingness to devote itself to solving some of the world s biggest problems she said Many of the predictions are based on projects that IBM has in the works One of this year s ideas that sensors in cars wallets and personal devices will give scientists better data about the environment is an expansion of the company s citizen science initiative Earlier this year IBM teamed up with the California State Water Resources Control Board and the City of San Jose Environmental Services to help gather information about waterways Researchers from Almaden created an application that lets smartphone users snap photos of streams and creeks and report back on conditions The hope is that these casual observations will help local and state officials who don t have the resources to do the work themselves Traffic Predictors IBM also sees data helping shorten commutes in the next five years Computer programs will use algorithms and real time traffic information to predict which roads will have backups and how to avoid getting stuck Batteries may last 10 times longer in 2015 than today IBM says Rather than using the current lithium ion technology new models could rely on energy dense metals that only need to interact with the air to recharge Some electronic devices might ditch batteries altogether and use something similar to kinetic wristwatches which only need to be shaken to generate a charge The final prediction involves recycling the heat generated by computers and data centers Almost half of the power used by data centers is currently spent keeping the computers cool IBM scientists say it would be better to harness that heat to warm houses and offices In IBM s first list of predictions compiled at the end of 2006 researchers said instantaneous speech translation would become the norm That hasn t happened yet While some programs can quickly translate electronic documents and instant messages and other apps can perform limited speech translation there s nothing widely available that acts like the universal translator in Star Trek Second Life The company also predicted that online immersive environments such as Second Life would become more widespread While immersive video games are as popular as ever Second Life s growth has slowed Internet users are flocking instead to the more 2 D environments of Facebook Inc and Twitter Inc Meanwhile a 2007 prediction that mobile phones will act as a wallet ticket broker concierge bank and shopping assistant is coming true thanks to the explosion of smartphone applications Consumers can pay bills through their banking apps buy movie tickets and get instant feedback on potential purchases all with a few taps on their phones The nice thing about the list is that it provokes thought Saffo said If everything came true they wouldn t be doing their job To contact the reporter on this story Ryan Flinn in San Francisco at rflinn bloomberg net To contact the editor responsible for this story Tom Giles at tgiles5 bloomberg net by 2015, your mobile phone will project a 3-d image of anyone who calls and your laptop will be powered by kinetic energy. at least that\\\\u2019s what international business machines corp. sees in its crystal ball.\"\",\"\"url\"\":\"\"bloomberg news 2010 12 23 ibm predicts holographic calls air breathing batteries by 2015 html\"\"}\"\\t\"business\"\\t\"0.789131\"\\t\"2.055555556\"\\t\"0.676470588\"\\t\"0.205882353\"\\t\"0.047058824\"\\t\"0.023529412\"\\t\"0.443783175\"\\t\"0\"\\t\"0\"\\t\"0.09077381\"\\t\"0\"\\t\"0.245831182\"\\t\"0.003883495\"\\t\"1\"\\t\"1\"\\t\"24\"\\t\"0\"\\t\"5424\"\\t\"170\"\\t\"8\"\\t\"0.152941176\"\\t\"0.079129575\"\\t\"0\"'"
      ]
     },
     "execution_count": 19,
     "metadata": {
      "tags": []
     },
     "output_type": "execute_result"
    }
   ],
   "source": [
    "Data.first()"
   ]
  },
  {
   "cell_type": "markdown",
   "metadata": {
    "colab_type": "text",
    "id": "-of3pd-HA4Jr"
   },
   "source": [
    "#### 分割資料\n",
    "+ 原始資料是以`\\t`分割,並由`\"`包覆"
   ]
  },
  {
   "cell_type": "code",
   "execution_count": 20,
   "metadata": {
    "ExecuteTime": {
     "end_time": "2019-12-26T14:36:01.942446Z",
     "start_time": "2019-12-26T14:36:01.876571Z"
    },
    "colab": {
     "base_uri": "https://localhost:8080/",
     "height": 417
    },
    "colab_type": "code",
    "id": "8JQ_cz_BA4Js",
    "outputId": "bf3d2d42-c09d-4db9-83f0-efb6541e5ce2",
    "scrolled": true
   },
   "outputs": [
    {
     "data": {
      "text/plain": [
       "['business',\n",
       " '0.789131',\n",
       " '2.055555556',\n",
       " '0.676470588',\n",
       " '0.205882353',\n",
       " '0.047058824',\n",
       " '0.023529412',\n",
       " '0.443783175',\n",
       " '0',\n",
       " '0',\n",
       " '0.09077381',\n",
       " '0',\n",
       " '0.245831182',\n",
       " '0.003883495',\n",
       " '1',\n",
       " '1',\n",
       " '24',\n",
       " '0',\n",
       " '5424',\n",
       " '170',\n",
       " '8',\n",
       " '0.152941176',\n",
       " '0.079129575',\n",
       " '0']"
      ]
     },
     "execution_count": 20,
     "metadata": {
      "tags": []
     },
     "output_type": "execute_result"
    }
   ],
   "source": [
    "lines = Data.map(lambda x : x.replace(\"\\\"\",\"\")).map(lambda x : x.split(\"\\t\"))\n",
    "lines.first()[3:]"
   ]
  },
  {
   "cell_type": "markdown",
   "metadata": {
    "colab_type": "text",
    "id": "Ae1ZWJi4A4Jw"
   },
   "source": [
    "### 提取特徵"
   ]
  },
  {
   "cell_type": "markdown",
   "metadata": {
    "colab_type": "text",
    "id": "tjhpYDQAA4Jy"
   },
   "source": [
    "#### 建立one-hot encode table"
   ]
  },
  {
   "cell_type": "code",
   "execution_count": 0,
   "metadata": {
    "ExecuteTime": {
     "end_time": "2019-12-26T14:36:04.893789Z",
     "start_time": "2019-12-26T14:36:04.514200Z"
    },
    "colab": {},
    "colab_type": "code",
    "id": "jPZv8oa4A4Jy"
   },
   "outputs": [],
   "source": [
    "category_with_index = lines.map(lambda x: x[3]).distinct().zipWithIndex()"
   ]
  },
  {
   "cell_type": "code",
   "execution_count": 22,
   "metadata": {
    "ExecuteTime": {
     "end_time": "2019-12-26T14:36:05.023563Z",
     "start_time": "2019-12-26T14:36:05.015392Z"
    },
    "colab": {
     "base_uri": "https://localhost:8080/",
     "height": 250
    },
    "colab_type": "code",
    "id": "IPdLv2PiA4J2",
    "outputId": "ed97946e-de0f-4d7f-de74-0119015faffb",
    "scrolled": true
   },
   "outputs": [
    {
     "data": {
      "text/plain": [
       "array([[ 0],\n",
       "       [ 1],\n",
       "       [ 2],\n",
       "       [ 3],\n",
       "       [ 4],\n",
       "       [ 5],\n",
       "       [ 6],\n",
       "       [ 7],\n",
       "       [ 8],\n",
       "       [ 9],\n",
       "       [10],\n",
       "       [11],\n",
       "       [12],\n",
       "       [13]])"
      ]
     },
     "execution_count": 22,
     "metadata": {
      "tags": []
     },
     "output_type": "execute_result"
    }
   ],
   "source": [
    "category_Numbers_list = list(range(category_Numbers))\n",
    "category_Numbers_array = np.array(category_Numbers_list).reshape(category_Numbers, -1)\n",
    "category_Numbers_array"
   ]
  },
  {
   "cell_type": "code",
   "execution_count": 23,
   "metadata": {
    "ExecuteTime": {
     "end_time": "2019-12-26T14:36:06.383268Z",
     "start_time": "2019-12-26T14:36:06.363493Z"
    },
    "colab": {
     "base_uri": "https://localhost:8080/",
     "height": 103
    },
    "colab_type": "code",
    "id": "y4Zwgrn1A4J4",
    "outputId": "747610f8-96f3-4c4a-9569-17fcd5ab52fe"
   },
   "outputs": [
    {
     "name": "stderr",
     "output_type": "stream",
     "text": [
      "/usr/local/lib/python3.6/dist-packages/sklearn/preprocessing/_encoders.py:415: FutureWarning: The handling of integer data will change in version 0.22. Currently, the categories are determined based on the range [0, max(values)], while in the future they will be determined based on the unique values.\n",
      "If you want the future behaviour and silence this warning, you can specify \"categories='auto'\".\n",
      "In case you used a LabelEncoder before this OneHotEncoder to convert the categories to integers, then you can now use the OneHotEncoder directly.\n",
      "  warnings.warn(msg, FutureWarning)\n"
     ]
    }
   ],
   "source": [
    "from sklearn.preprocessing import OneHotEncoder\n",
    "enc = OneHotEncoder()\n",
    "enc.fit(category_Numbers_array)\n",
    "encoder_table = enc.transform(category_Numbers_array).toarray()"
   ]
  },
  {
   "cell_type": "code",
   "execution_count": 24,
   "metadata": {
    "ExecuteTime": {
     "end_time": "2019-12-26T14:36:06.850080Z",
     "start_time": "2019-12-26T14:36:06.777054Z"
    },
    "colab": {
     "base_uri": "https://localhost:8080/",
     "height": 250
    },
    "colab_type": "code",
    "id": "cAS2fXNiA4J6",
    "outputId": "00278708-5a0b-4ab9-b5a8-0fd08a86a1a5",
    "scrolled": false
   },
   "outputs": [
    {
     "data": {
      "text/plain": [
       "{'?': array([0., 0., 0., 0., 0., 0., 0., 0., 1., 0., 0., 0., 0., 0.]),\n",
       " 'arts_entertainment': array([0., 1., 0., 0., 0., 0., 0., 0., 0., 0., 0., 0., 0., 0.]),\n",
       " 'business': array([1., 0., 0., 0., 0., 0., 0., 0., 0., 0., 0., 0., 0., 0.]),\n",
       " 'computer_internet': array([0., 0., 1., 0., 0., 0., 0., 0., 0., 0., 0., 0., 0., 0.]),\n",
       " 'culture_politics': array([0., 0., 0., 0., 0., 0., 0., 0., 0., 0., 1., 0., 0., 0.]),\n",
       " 'gaming': array([0., 0., 0., 0., 0., 0., 0., 0., 0., 1., 0., 0., 0., 0.]),\n",
       " 'health': array([0., 0., 0., 0., 0., 0., 0., 0., 0., 0., 0., 0., 0., 1.]),\n",
       " 'law_crime': array([0., 0., 0., 1., 0., 0., 0., 0., 0., 0., 0., 0., 0., 0.]),\n",
       " 'recreation': array([0., 0., 0., 0., 0., 0., 0., 0., 0., 0., 0., 0., 1., 0.]),\n",
       " 'religion': array([0., 0., 0., 0., 0., 0., 0., 0., 0., 0., 0., 1., 0., 0.]),\n",
       " 'science_technology': array([0., 0., 0., 0., 0., 0., 1., 0., 0., 0., 0., 0., 0., 0.]),\n",
       " 'sports': array([0., 0., 0., 0., 0., 0., 0., 1., 0., 0., 0., 0., 0., 0.]),\n",
       " 'unknown': array([0., 0., 0., 0., 0., 1., 0., 0., 0., 0., 0., 0., 0., 0.]),\n",
       " 'weather': array([0., 0., 0., 0., 1., 0., 0., 0., 0., 0., 0., 0., 0., 0.])}"
      ]
     },
     "execution_count": 24,
     "metadata": {
      "tags": []
     },
     "output_type": "execute_result"
    }
   ],
   "source": [
    "category_Map = category_with_index.map(lambda x : (x[0],encoder_table[x[1]])).collectAsMap()\n",
    "category_Map"
   ]
  },
  {
   "cell_type": "code",
   "execution_count": 0,
   "metadata": {
    "ExecuteTime": {
     "end_time": "2019-12-26T14:36:09.717503Z",
     "start_time": "2019-12-26T14:36:09.712375Z"
    },
    "colab": {},
    "colab_type": "code",
    "id": "PW1taDTXA4J8"
   },
   "outputs": [],
   "source": [
    "from pyspark.mllib.regression import LabeledPoint\n",
    "def extract_features(row):\n",
    "    category_features = category_Map[row[3]]\n",
    "    number_features = row[4:-2]\n",
    "    number_features = [0.0 if x==\"?\" else float(x) for x in number_features]\n",
    "    \n",
    "    features = np.concatenate((category_features,number_features))\n",
    "    label = float(row[-1])\n",
    "    \n",
    "    return (label,features)"
   ]
  },
  {
   "cell_type": "code",
   "execution_count": 26,
   "metadata": {
    "ExecuteTime": {
     "end_time": "2019-12-26T14:36:20.566758Z",
     "start_time": "2019-12-26T14:36:19.786032Z"
    },
    "colab": {
     "base_uri": "https://localhost:8080/",
     "height": 53
    },
    "colab_type": "code",
    "id": "yFMyiZwlA4J_",
    "outputId": "7b431c84-bf80-4f02-f20d-debae99f9c56",
    "scrolled": true
   },
   "outputs": [
    {
     "data": {
      "text/plain": [
       "LabeledPoint(0.0, [1.0,0.0,0.0,0.0,0.0,0.0,0.0,0.0,0.0,0.0,0.0,0.0,0.0,0.0,0.789131,2.055555556,0.676470588,0.205882353,0.047058824,0.023529412,0.443783175,0.0,0.0,0.09077381,0.0,0.245831182,0.003883495,1.0,1.0,24.0,0.0,5424.0,170.0,8.0,0.152941176])"
      ]
     },
     "execution_count": 26,
     "metadata": {
      "tags": []
     },
     "output_type": "execute_result"
    }
   ],
   "source": [
    "labelRDD = lines.map(extract_features).map(lambda x: LabeledPoint(x[0],x[1]))\n",
    "labelRDD.first()"
   ]
  },
  {
   "cell_type": "markdown",
   "metadata": {
    "colab_type": "text",
    "id": "ORkMuD-8A4KB"
   },
   "source": [
    "### 切分資料"
   ]
  },
  {
   "cell_type": "code",
   "execution_count": 27,
   "metadata": {
    "ExecuteTime": {
     "end_time": "2019-12-26T14:37:00.245599Z",
     "start_time": "2019-12-26T14:36:59.404147Z"
    },
    "colab": {
     "base_uri": "https://localhost:8080/",
     "height": 50
    },
    "colab_type": "code",
    "id": "XQPkIvLTA4KB",
    "outputId": "5c376d97-840b-423e-a952-82e7d948dc21",
    "scrolled": false
   },
   "outputs": [
    {
     "name": "stdout",
     "output_type": "stream",
     "text": [
      "train: 6644\n",
      "test:  751\n"
     ]
    }
   ],
   "source": [
    "(trainRDD,testRDD) = labelRDD.randomSplit(spilt_rate)\n",
    "print(\"train: \" + str(trainRDD.count()))\n",
    "print(\"test:  \" + str(testRDD.count()))"
   ]
  },
  {
   "cell_type": "markdown",
   "metadata": {
    "colab_type": "text",
    "id": "Kp19NQZzA4KG"
   },
   "source": [
    "### 持久化"
   ]
  },
  {
   "cell_type": "code",
   "execution_count": 28,
   "metadata": {
    "ExecuteTime": {
     "end_time": "2019-12-26T14:37:00.409768Z",
     "start_time": "2019-12-26T14:37:00.393310Z"
    },
    "colab": {
     "base_uri": "https://localhost:8080/",
     "height": 33
    },
    "colab_type": "code",
    "id": "2mMNJHncA4KH",
    "outputId": "92beb542-d064-48d9-9204-051ee89a3b75"
   },
   "outputs": [
    {
     "data": {
      "text/plain": [
       "PythonRDD[20] at RDD at PythonRDD.scala:53"
      ]
     },
     "execution_count": 28,
     "metadata": {
      "tags": []
     },
     "output_type": "execute_result"
    }
   ],
   "source": [
    "trainRDD.persist()\n",
    "testRDD.persist()"
   ]
  },
  {
   "cell_type": "markdown",
   "metadata": {
    "colab_type": "text",
    "id": "HgwC303bA4KL"
   },
   "source": [
    "## Train Model By mllib"
   ]
  },
  {
   "cell_type": "markdown",
   "metadata": {
    "colab_type": "text",
    "id": "z16zqAfGA4KM"
   },
   "source": [
    "+ 用內建的model來做對比"
   ]
  },
  {
   "cell_type": "code",
   "execution_count": 0,
   "metadata": {
    "ExecuteTime": {
     "end_time": "2019-12-26T14:37:01.937729Z",
     "start_time": "2019-12-26T14:37:00.604627Z"
    },
    "colab": {},
    "colab_type": "code",
    "id": "VBeuqAZYA4KM"
   },
   "outputs": [],
   "source": [
    "from pyspark.mllib.tree import DecisionTree\n",
    "model = DecisionTree.trainClassifier(\n",
    "    data=trainRDD,numClasses=2,categoricalFeaturesInfo={},\n",
    "    impurity=\"entropy\", maxDepth=5, maxBins=5)"
   ]
  },
  {
   "cell_type": "code",
   "execution_count": 30,
   "metadata": {
    "ExecuteTime": {
     "end_time": "2019-12-27T01:24:29.151049Z",
     "start_time": "2019-12-27T01:24:22.843568Z"
    },
    "colab": {
     "base_uri": "https://localhost:8080/",
     "height": 17
    },
    "colab_type": "code",
    "id": "LCLFfbKRA4KO",
    "outputId": "b3cb7d49-6005-43ae-fb81-3a915ec9a2c8"
   },
   "outputs": [
    {
     "name": "stdout",
     "output_type": "stream",
     "text": []
    }
   ],
   "source": [
    "right_count = wrong_count = 0\n",
    "for test_data in testRDD.take(testRDD.count()):\n",
    "    ans = test_data.label\n",
    "    gus = model.predict(test_data.features)\n",
    "    if ans==gus:\n",
    "        right_count += 1\n",
    "    else :\n",
    "        wrong_count += 1\n",
    "    print(str(right_count) + \":\" + str(wrong_count), end = \"\\r\")"
   ]
  },
  {
   "cell_type": "code",
   "execution_count": 31,
   "metadata": {
    "ExecuteTime": {
     "end_time": "2019-12-27T01:24:32.742681Z",
     "start_time": "2019-12-27T01:24:32.737762Z"
    },
    "colab": {
     "base_uri": "https://localhost:8080/",
     "height": 33
    },
    "colab_type": "code",
    "id": "RKSovfTxA4KQ",
    "outputId": "a7902c0e-62a8-4578-b87e-3ec3a5604fdc"
   },
   "outputs": [
    {
     "name": "stdout",
     "output_type": "stream",
     "text": [
      "正確率:65.8\n"
     ]
    }
   ],
   "source": [
    "accuracy = right_count/(right_count+wrong_count)*100\n",
    "print(\"正確率:%.1f\" % accuracy)"
   ]
  },
  {
   "cell_type": "markdown",
   "metadata": {
    "colab_type": "text",
    "id": "EMbQGo8kA4KT"
   },
   "source": [
    "## Train Model By MapReduce"
   ]
  },
  {
   "cell_type": "markdown",
   "metadata": {
    "colab_type": "text",
    "id": "ecxy8GhcA4KT"
   },
   "source": [
    "+ category feature : `0~14` 0 or 1\n",
    "+ numerical feature: `15~34` float"
   ]
  },
  {
   "cell_type": "markdown",
   "metadata": {
    "colab_type": "text",
    "id": "KyXPC2m9A4KU"
   },
   "source": [
    "### 分裂節點的參數計算"
   ]
  },
  {
   "cell_type": "markdown",
   "metadata": {
    "colab_type": "text",
    "id": "Eh1dBEf5A4KU"
   },
   "source": [
    "#### 計算entropy"
   ]
  },
  {
   "cell_type": "code",
   "execution_count": 0,
   "metadata": {
    "ExecuteTime": {
     "end_time": "2019-12-26T14:37:12.708793Z",
     "start_time": "2019-12-26T14:37:12.704115Z"
    },
    "colab": {},
    "colab_type": "code",
    "id": "Uvp9ExDhA4KV"
   },
   "outputs": [],
   "source": [
    "# 計算 2-state system 的entropy\n",
    "def entropy(state1,state2):\n",
    "    if state1==0 or state2==0:\n",
    "        return 0\n",
    "    else:\n",
    "        p1 = state1/(state1+state2)\n",
    "        p2 = state2/(state1+state2)\n",
    "#         p2 = 1-p1\n",
    "        return -(p1*math.log2(p1)) -(p2*math.log2(p2))"
   ]
  },
  {
   "cell_type": "code",
   "execution_count": 0,
   "metadata": {
    "ExecuteTime": {
     "end_time": "2019-12-26T14:37:12.974523Z",
     "start_time": "2019-12-26T14:37:12.969830Z"
    },
    "colab": {},
    "colab_type": "code",
    "id": "nSr3wGPyA4KX"
   },
   "outputs": [],
   "source": [
    "def RDD_entropy(RDD,count=\"no_value\"):\n",
    "    count = RDD.count() if count==\"no_value\" else count\n",
    "    state1 = RDD.filter(lambda x: x[0]).count()\n",
    "    return entropy(state1,count-state1)"
   ]
  },
  {
   "cell_type": "code",
   "execution_count": 36,
   "metadata": {
    "ExecuteTime": {
     "end_time": "2019-12-26T14:37:13.456701Z",
     "start_time": "2019-12-26T14:37:13.450850Z"
    },
    "colab": {
     "base_uri": "https://localhost:8080/",
     "height": 33
    },
    "colab_type": "code",
    "id": "F_6zr8jhA4Ka",
    "outputId": "cd02d0e2-8d68-491f-9202-7da0259dd3b5"
   },
   "outputs": [
    {
     "data": {
      "text/plain": [
       "0.08013604733127525"
      ]
     },
     "execution_count": 36,
     "metadata": {
      "tags": []
     },
     "output_type": "execute_result"
    }
   ],
   "source": [
    "entropy(1,100)"
   ]
  },
  {
   "cell_type": "markdown",
   "metadata": {
    "colab_type": "text",
    "id": "rISBJayCA4Kc"
   },
   "source": [
    "#### 一個feature中尋找產生最大的information gain"
   ]
  },
  {
   "cell_type": "code",
   "execution_count": 0,
   "metadata": {
    "ExecuteTime": {
     "end_time": "2019-12-26T14:39:26.770081Z",
     "start_time": "2019-12-26T14:39:26.762184Z"
    },
    "colab": {},
    "colab_type": "code",
    "id": "qE2duft3A4Kd"
   },
   "outputs": [],
   "source": [
    "def max_split_gain(RDD,sample_node = 0):\n",
    "    # RDD (label,feature)\n",
    "    split_points = RDD.values().distinct().collect()\n",
    "    split_points.sort()\n",
    "    R0_count = RDD.count()\n",
    "    R0_entropy = RDD_entropy(RDD,R0_count)\n",
    "    \n",
    "    # sample data for fastser\n",
    "    if sample_node<len(split_points) and sample_node>0:\n",
    "        sample_rate = int(len(split_points)/sample_node)\n",
    "        split_points = [split_points[i] for i in range(0,len(split_points),sample_rate)]\n",
    "    \n",
    "    # try every point in split_points\n",
    "    # to get the max information gain\n",
    "    gain_list = []\n",
    "    for point in split_points:\n",
    "        R1 = RDD.filter(lambda x : x[1]<point)\n",
    "        R2 = RDD.filter(lambda x : x[1]>=point)\n",
    "        R1_count = R1.count()\n",
    "        R2_count = R0_count-R1_count\n",
    "        \n",
    "        gain = R0_entropy - (R1_count/R0_count)*RDD_entropy(R1,R1_count) - (R2_count/R0_count)*RDD_entropy(R2,R2_count)\n",
    "        gain_list.append((gain,point))\n",
    "    \n",
    "    return max(gain_list) # (gain,split_point)\n",
    "        "
   ]
  },
  {
   "cell_type": "markdown",
   "metadata": {
    "colab_type": "text",
    "id": "ffYLVujtA4Kf"
   },
   "source": [
    "#### 所有feature內找最大information gain"
   ]
  },
  {
   "cell_type": "code",
   "execution_count": 0,
   "metadata": {
    "ExecuteTime": {
     "end_time": "2019-12-26T14:39:36.410136Z",
     "start_time": "2019-12-26T14:39:36.401507Z"
    },
    "colab": {},
    "colab_type": "code",
    "id": "ABrVr2p1A4Kf"
   },
   "outputs": [],
   "source": [
    "def max_feature_gain(RDD,sample_node=0):\n",
    "    feature_types = len(RDD.first().features) # 35\n",
    "    \n",
    "    gain_list = []\n",
    "    for feature_index in range(feature_types):\n",
    "        RDD_one_feature = RDD.map(lambda x: (x.label,x.features[feature_index])) # (key,value)\n",
    "        one_feature_max_gain = max_split_gain(RDD_one_feature,sample_node)\n",
    "        print(\"Now in feature[%d],max gain is %.6f with split at %.3f \" % (feature_index,one_feature_max_gain[0],one_feature_max_gain[1]),end=\"\\r\")\n",
    "        gain_list.append((one_feature_max_gain,feature_index))\n",
    "    \n",
    "    max_gain = max(gain_list) # ((gain,split_point),feature_index)\n",
    "    print(\"Best gain in feature[%d] with split at %.3f is : %.6f\" % (max_gain[1],max_gain[0][1],max_gain[0][0]))\n",
    "    return (max_gain[1],max_gain[0][1])"
   ]
  },
  {
   "cell_type": "code",
   "execution_count": 39,
   "metadata": {
    "ExecuteTime": {
     "end_time": "2019-12-26T15:10:00.506828Z",
     "start_time": "2019-12-26T15:09:39.066716Z"
    },
    "colab": {
     "base_uri": "https://localhost:8080/",
     "height": 50
    },
    "colab_type": "code",
    "id": "BtTuaYkqA4Kh",
    "outputId": "e99ea981-7bff-4fa2-e293-63a8fdcfcc40",
    "scrolled": true
   },
   "outputs": [
    {
     "name": "stdout",
     "output_type": "stream",
     "text": [
      "Best gain in feature[12] with split at 1.000 is : 0.073192\n"
     ]
    },
    {
     "data": {
      "text/plain": [
       "(12, 1.0)"
      ]
     },
     "execution_count": 39,
     "metadata": {
      "tags": []
     },
     "output_type": "execute_result"
    }
   ],
   "source": [
    "example_RDD = trainRDD.randomSplit([0.05,0.95])[0] # 取1/10的資料來做示範\n",
    "max_feature_gain(RDD=example_RDD,sample_node=2)"
   ]
  },
  {
   "cell_type": "markdown",
   "metadata": {
    "colab_type": "text",
    "id": "dLN--w3CA4Kp"
   },
   "source": [
    "### 建樹"
   ]
  },
  {
   "cell_type": "code",
   "execution_count": 0,
   "metadata": {
    "ExecuteTime": {
     "end_time": "2019-12-27T01:19:05.852205Z",
     "start_time": "2019-12-27T01:19:05.831852Z"
    },
    "colab": {},
    "colab_type": "code",
    "id": "zksVNmcMA4Kq"
   },
   "outputs": [],
   "source": [
    "class node:\n",
    "    def __init__(self,RDD):\n",
    "        # value\n",
    "        self.RDD = RDD\n",
    "        self.count = self.RDD.count()\n",
    "        self.level = 0\n",
    "        self.feature = None\n",
    "        self.split_point = None\n",
    "        self.predict_value = None\n",
    "        self.RDD.persist()\n",
    "        # tree\n",
    "        self.left = None\n",
    "        self.right = None\n",
    "  \n",
    "    def setLeft(self, left):\n",
    "        self.left = left\n",
    "        self.left.level = self.level + 1\n",
    "        \n",
    "    def setRight(self, right):\n",
    "        self.right = right\n",
    "        self.right.level = self.level + 1\n",
    "    \n",
    "    def get_count(self):\n",
    "        self.count = self.RDD.count()\n",
    "        return self.count\n",
    "    \n",
    "    def get_predict(self):\n",
    "        label_one_count = self.RDD.map(lambda x: x.label).filter(lambda x: x).count()\n",
    "        self.predict_value = int(label_one_count/self.count *2  + 1e-9)\n",
    "        return self.predict_value\n",
    "    \n",
    "    def get_split(self):\n",
    "        (self.feature,self.split_point) = max_feature_gain(self.RDD,sample_node=N)\n",
    "        print(\"split at \" + str((self.feature,self.split_point)))\n",
    "        \n",
    "    def is_leaf(self):\n",
    "        return self.count <= Min_leaf_size\n",
    "        \n",
    "    def build(self):\n",
    "        if self.is_leaf():\n",
    "            return\n",
    "        \n",
    "        self.get_split()\n",
    "        (feature_index,split_point_value) = (self.feature,self.split_point)\n",
    "        print(self.count)\n",
    "        \n",
    "        R1 = self.RDD.filter(lambda x : x.features[feature_index]<split_point_value)\n",
    "        self.setLeft(node(R1))\n",
    "        print(\"build left at %s\" % str((feature_index,split_point_value)))\n",
    "        self.left.build()\n",
    "\n",
    "        R2 = self.RDD.filter(lambda x : x.features[feature_index]>=split_point_value)\n",
    "        self.setRight(node(R2))\n",
    "        print(\"build right at %s\" % str((feature_index,split_point_value)))\n",
    "        self.right.build()\n",
    "    \n",
    "    def level_order_print(self):\n",
    "        \n",
    "        if self.is_leaf():\n",
    "            self.get_predict()\n",
    "            print(\"\\t\"*self.level + str(self.predict_value))\n",
    "            return\n",
    "        else :\n",
    "            print(\"\\t\"*self.level + str((self.feature,self.split_point)))\n",
    "        \n",
    "        print(\"\\t\"*self.level + \"left\")\n",
    "        self.left.level_order_print()\n",
    "        print(\"\\t\"*self.level + \"right\")\n",
    "        self.right.level_order_print()\n",
    "    \n",
    "    def predict(self,features):\n",
    "        if self.is_leaf():\n",
    "            self.get_predict()\n",
    "#             print(self.predict_value)\n",
    "            return self.predict_value\n",
    "        else:\n",
    "            if features[self.feature] < self.split_point:\n",
    "                return self.left.predict(features)\n",
    "            else :\n",
    "                return self.right.predict(features)"
   ]
  },
  {
   "cell_type": "code",
   "execution_count": 0,
   "metadata": {
    "ExecuteTime": {
     "end_time": "2019-12-27T01:19:07.184259Z",
     "start_time": "2019-12-27T01:19:07.139049Z"
    },
    "colab": {},
    "colab_type": "code",
    "id": "BKkEyIN4A4Ks"
   },
   "outputs": [],
   "source": [
    "root = node(trainRDD)"
   ]
  },
  {
   "cell_type": "code",
   "execution_count": 42,
   "metadata": {
    "ExecuteTime": {
     "end_time": "2019-12-27T01:19:40.923885Z",
     "start_time": "2019-12-27T01:19:07.338024Z"
    },
    "colab": {
     "base_uri": "https://localhost:8080/",
     "height": 1000
    },
    "colab_type": "code",
    "id": "c4xEM7P0A4Kt",
    "outputId": "9a00d9b6-d77d-4dfa-b890-9871b34cd73b"
   },
   "outputs": [
    {
     "name": "stdout",
     "output_type": "stream",
     "text": [
      "Best gain in feature[31] with split at 1562.000 is : 0.035237\n",
      "split at (31, 1562.0)\n",
      "6644\n",
      "build left at (31, 1562.0)\n",
      "Best gain in feature[1] with split at 1.000 is : 0.014714\n",
      "split at (1, 1.0)\n",
      "1657\n",
      "build left at (1, 1.0)\n",
      "Best gain in feature[13] with split at 1.000 is : 0.010817\n",
      "split at (13, 1.0)\n",
      "1395\n",
      "build left at (13, 1.0)\n",
      "Best gain in feature[23] with split at 0.036 is : 0.008670\n",
      "split at (23, 0.036101083)\n",
      "1314\n",
      "build left at (23, 0.036101083)\n",
      "Best gain in feature[16] with split at 0.780 is : 0.051035\n",
      "split at (16, 0.780487805)\n",
      "274\n",
      "build left at (16, 0.780487805)\n",
      "Best gain in feature[12] with split at 1.000 is : 0.037525\n",
      "split at (12, 1.0)\n",
      "246\n",
      "build left at (12, 1.0)\n",
      "Best gain in feature[31] with split at 1508.000 is : 0.021168\n",
      "split at (31, 1508.0)\n",
      "206\n",
      "build left at (31, 1508.0)\n",
      "build right at (31, 1508.0)\n",
      "build right at (12, 1.0)\n",
      "build right at (16, 0.780487805)\n",
      "build right at (23, 0.036101083)\n",
      "Best gain in feature[31] with split at 1013.000 is : 0.007487\n",
      "split at (31, 1013.0)\n",
      "1040\n",
      "build left at (31, 1013.0)\n",
      "Best gain in feature[15] with split at 1.919 is : 0.010433\n",
      "split at (15, 1.919117647)\n",
      "737\n",
      "build left at (15, 1.919117647)\n",
      "Best gain in feature[19] with split at 0.016 is : 0.026880\n",
      "split at (19, 0.016393443)\n",
      "371\n",
      "build left at (19, 0.016393443)\n",
      "Best gain in feature[25] with split at 0.258 is : 0.018945\n",
      "split at (25, 0.257515128)\n",
      "342\n",
      "build left at (25, 0.257515128)\n",
      "build right at (25, 0.257515128)\n",
      "build right at (19, 0.016393443)\n",
      "build right at (15, 1.919117647)\n",
      "Best gain in feature[16] with split at 0.202 is : 0.018926\n",
      "split at (16, 0.202380952)\n",
      "366\n",
      "build left at (16, 0.202380952)\n",
      "build right at (16, 0.202380952)\n",
      "Best gain in feature[10] with split at 1.000 is : 0.012780\n",
      "split at (10, 1.0)\n",
      "288\n",
      "build left at (10, 1.0)\n",
      "Best gain in feature[31] with split at 610.000 is : 0.014120\n",
      "split at (31, 610.0)\n",
      "276\n",
      "build left at (31, 610.0)\n",
      "build right at (31, 610.0)\n",
      "build right at (10, 1.0)\n",
      "build right at (31, 1013.0)\n",
      "Best gain in feature[20] with split at 0.521 is : 0.026133\n",
      "split at (20, 0.52057842)\n",
      "303\n",
      "build left at (20, 0.52057842)\n",
      "build right at (20, 0.52057842)\n",
      "build right at (13, 1.0)\n",
      "build right at (1, 1.0)\n",
      "Best gain in feature[34] with split at 0.286 is : 0.022609\n",
      "split at (34, 0.285714286)\n",
      "262\n",
      "build left at (34, 0.285714286)\n",
      "build right at (34, 0.285714286)\n",
      "build right at (31, 1562.0)\n",
      "Best gain in feature[12] with split at 1.000 is : 0.025459\n",
      "split at (12, 1.0)\n",
      "4987\n",
      "build left at (12, 1.0)\n",
      "Best gain in feature[0] with split at 1.000 is : 0.033030\n",
      "split at (0, 1.0)\n",
      "4141\n",
      "build left at (0, 1.0)\n",
      "Best gain in feature[7] with split at 1.000 is : 0.021309\n",
      "split at (7, 1.0)\n",
      "3504\n",
      "build left at (7, 1.0)\n",
      "Best gain in feature[29] with split at 24.000 is : 0.017498\n",
      "split at (29, 24.0)\n",
      "3269\n",
      "build left at (29, 24.0)\n",
      "Best gain in feature[19] with split at 0.107 is : 0.016150\n",
      "split at (19, 0.106796117)\n",
      "1828\n",
      "build left at (19, 0.106796117)\n",
      "Best gain in feature[33] with split at 6.000 is : 0.008357\n",
      "split at (33, 6.0)\n",
      "1515\n",
      "build left at (33, 6.0)\n",
      "Best gain in feature[21] with split at 0.001 is : 0.014639\n",
      "split at (21, 0.000614)\n",
      "895\n",
      "build left at (21, 0.000614)\n",
      "Best gain in feature[16] with split at 0.385 is : 0.012209\n",
      "split at (16, 0.384615385)\n",
      "814\n",
      "build left at (16, 0.384615385)\n",
      "Best gain in feature[24] with split at 1.000 is : 0.020497\n",
      "split at (24, 1.0)\n",
      "333\n",
      "build left at (24, 1.0)\n",
      "Best gain in feature[23] with split at 0.023 is : 0.021177\n",
      "split at (23, 0.023160763)\n",
      "327\n",
      "build left at (23, 0.023160763)\n",
      "build right at (23, 0.023160763)\n",
      "Best gain in feature[34] with split at 0.474 is : 0.057423\n",
      "split at (34, 0.474285714)\n",
      "230\n",
      "build left at (34, 0.474285714)\n",
      "Best gain in feature[16] with split at 0.296 is : 0.037594\n",
      "split at (16, 0.296296296)\n",
      "208\n",
      "build left at (16, 0.296296296)\n",
      "build right at (16, 0.296296296)\n",
      "build right at (34, 0.474285714)\n",
      "build right at (24, 1.0)\n",
      "build right at (16, 0.384615385)\n",
      "Best gain in feature[30] with split at 1.000 is : 0.015341\n",
      "split at (30, 1.0)\n",
      "481\n",
      "build left at (30, 1.0)\n",
      "Best gain in feature[18] with split at 0.042 is : 0.016715\n",
      "split at (18, 0.041958042)\n",
      "447\n",
      "build left at (18, 0.041958042)\n",
      "build right at (18, 0.041958042)\n",
      "Best gain in feature[15] with split at 3.127 is : 0.025456\n",
      "split at (15, 3.126865672)\n",
      "293\n",
      "build left at (15, 3.126865672)\n",
      "Best gain in feature[18] with split at 0.194 is : 0.019524\n",
      "split at (18, 0.194444444)\n",
      "259\n",
      "build left at (18, 0.194444444)\n",
      "Best gain in feature[14] with split at 0.563 is : 0.032966\n",
      "split at (14, 0.562934)\n",
      "235\n",
      "build left at (14, 0.562934)\n",
      "build right at (14, 0.562934)\n",
      "build right at (18, 0.194444444)\n",
      "build right at (15, 3.126865672)\n",
      "build right at (30, 1.0)\n",
      "build right at (21, 0.000614)\n",
      "build right at (33, 6.0)\n",
      "Best gain in feature[14] with split at 0.366 is : 0.012308\n",
      "split at (14, 0.365831)\n",
      "620\n",
      "build left at (14, 0.365831)\n",
      "Best gain in feature[15] with split at 2.228 is : 0.013654\n",
      "split at (15, 2.227642276)\n",
      "323\n",
      "build left at (15, 2.227642276)\n",
      "build right at (15, 2.227642276)\n",
      "build right at (14, 0.365831)\n",
      "Best gain in feature[13] with split at 1.000 is : 0.027483\n",
      "split at (13, 1.0)\n",
      "297\n",
      "build left at (13, 1.0)\n",
      "Best gain in feature[23] with split at 0.100 is : 0.024854\n",
      "split at (23, 0.100182149)\n",
      "213\n",
      "build left at (23, 0.100182149)\n",
      "build right at (23, 0.100182149)\n",
      "build right at (13, 1.0)\n",
      "build right at (19, 0.106796117)\n",
      "Best gain in feature[15] with split at 2.758 is : 0.054157\n",
      "split at (15, 2.757575758)\n",
      "313\n",
      "build left at (15, 2.757575758)\n",
      "Best gain in feature[33] with split at 2.000 is : 0.023767\n",
      "split at (33, 2.0)\n",
      "219\n",
      "build left at (33, 2.0)\n",
      "build right at (33, 2.0)\n",
      "Best gain in feature[29] with split at 4.000 is : 0.026582\n",
      "split at (29, 4.0)\n",
      "204\n",
      "build left at (29, 4.0)\n",
      "build right at (29, 4.0)\n",
      "Best gain in feature[33] with split at 6.000 is : 0.017497\n",
      "split at (33, 6.0)\n",
      "202\n",
      "build left at (33, 6.0)\n",
      "build right at (33, 6.0)\n",
      "build right at (15, 2.757575758)\n",
      "build right at (29, 24.0)\n",
      "Best gain in feature[14] with split at 0.565 is : 0.020513\n",
      "split at (14, 0.564874)\n",
      "1441\n",
      "build left at (14, 0.564874)\n",
      "Best gain in feature[15] with split at 2.619 is : 0.016383\n",
      "split at (15, 2.618902439)\n",
      "892\n",
      "build left at (15, 2.618902439)\n",
      "Best gain in feature[18] with split at 0.065 is : 0.026828\n",
      "split at (18, 0.064748201)\n",
      "626\n",
      "build left at (18, 0.064748201)\n",
      "Best gain in feature[29] with split at 48.000 is : 0.045303\n",
      "split at (29, 48.0)\n",
      "247\n",
      "build left at (29, 48.0)\n",
      "Best gain in feature[20] with split at 0.635 is : 0.022834\n",
      "split at (20, 0.635270541)\n",
      "211\n",
      "build left at (20, 0.635270541)\n",
      "build right at (20, 0.635270541)\n",
      "build right at (29, 48.0)\n",
      "build right at (18, 0.064748201)\n",
      "Best gain in feature[34] with split at 0.331 is : 0.018369\n",
      "split at (34, 0.331491713)\n",
      "379\n",
      "build left at (34, 0.331491713)\n",
      "Best gain in feature[34] with split at 0.014 is : 0.017648\n",
      "split at (34, 0.01369863)\n",
      "340\n",
      "build left at (34, 0.01369863)\n",
      "build right at (34, 0.01369863)\n",
      "Best gain in feature[26] with split at 1.173 is : 0.019124\n",
      "split at (26, 1.173076923)\n",
      "266\n",
      "build left at (26, 1.173076923)\n",
      "Best gain in feature[18] with split at 0.088 is : 0.015359\n",
      "split at (18, 0.087818697)\n",
      "260\n",
      "build left at (18, 0.087818697)\n",
      "build right at (18, 0.087818697)\n",
      "Best gain in feature[32] with split at 235.000 is : 0.038027\n",
      "split at (32, 235.0)\n",
      "205\n",
      "build left at (32, 235.0)\n",
      "build right at (32, 235.0)\n",
      "build right at (26, 1.173076923)\n",
      "build right at (34, 0.331491713)\n",
      "build right at (15, 2.618902439)\n",
      "Best gain in feature[20] with split at 0.698 is : 0.035966\n",
      "split at (20, 0.697916667)\n",
      "266\n",
      "build left at (20, 0.697916667)\n",
      "Best gain in feature[17] with split at 0.325 is : 0.038551\n",
      "split at (17, 0.324503311)\n",
      "220\n",
      "build left at (17, 0.324503311)\n",
      "build right at (17, 0.324503311)\n",
      "build right at (20, 0.697916667)\n",
      "build right at (14, 0.564874)\n",
      "Best gain in feature[13] with split at 1.000 is : 0.031054\n",
      "split at (13, 1.0)\n",
      "549\n",
      "build left at (13, 1.0)\n",
      "Best gain in feature[15] with split at 3.138 is : 0.026853\n",
      "split at (15, 3.137931034)\n",
      "405\n",
      "build left at (15, 3.137931034)\n",
      "Best gain in feature[18] with split at 0.230 is : 0.021502\n",
      "split at (18, 0.230414747)\n",
      "321\n",
      "build left at (18, 0.230414747)\n",
      "Best gain in feature[14] with split at 0.871 is : 0.025054\n",
      "split at (14, 0.870989)\n",
      "314\n",
      "build left at (14, 0.870989)\n",
      "Best gain in feature[25] with split at 0.261 is : 0.021731\n",
      "split at (25, 0.260663126)\n",
      "277\n",
      "build left at (25, 0.260663126)\n",
      "Best gain in feature[20] with split at 0.527 is : 0.034585\n",
      "split at (20, 0.527141923)\n",
      "243\n",
      "build left at (20, 0.527141923)\n",
      "build right at (20, 0.527141923)\n",
      "build right at (25, 0.260663126)\n",
      "build right at (14, 0.870989)\n",
      "build right at (18, 0.230414747)\n",
      "build right at (15, 3.137931034)\n",
      "build right at (13, 1.0)\n",
      "build right at (7, 1.0)\n",
      "Best gain in feature[29] with split at 31.000 is : 0.037200\n",
      "split at (29, 31.0)\n",
      "235\n",
      "build left at (29, 31.0)\n",
      "build right at (29, 31.0)\n",
      "build right at (0, 1.0)\n",
      "Best gain in feature[15] with split at 2.757 is : 0.017387\n",
      "split at (15, 2.757142857)\n",
      "637\n",
      "build left at (15, 2.757142857)\n",
      "Best gain in feature[23] with split at 0.034 is : 0.020917\n",
      "split at (23, 0.033898305)\n",
      "507\n",
      "build left at (23, 0.033898305)\n",
      "Best gain in feature[16] with split at 0.193 is : 0.029649\n",
      "split at (16, 0.193181818)\n",
      "203\n",
      "build left at (16, 0.193181818)\n",
      "build right at (16, 0.193181818)\n",
      "build right at (23, 0.033898305)\n",
      "Best gain in feature[26] with split at 0.026 is : 0.026801\n",
      "split at (26, 0.026060606)\n",
      "304\n",
      "build left at (26, 0.026060606)\n",
      "build right at (26, 0.026060606)\n",
      "Best gain in feature[32] with split at 69.000 is : 0.027505\n",
      "split at (32, 69.0)\n",
      "240\n",
      "build left at (32, 69.0)\n",
      "build right at (32, 69.0)\n",
      "Best gain in feature[18] with split at 0.020 is : 0.044652\n",
      "split at (18, 0.02)\n",
      "220\n",
      "build left at (18, 0.02)\n",
      "build right at (18, 0.02)\n",
      "build right at (15, 2.757142857)\n",
      "build right at (12, 1.0)\n",
      "Best gain in feature[26] with split at 0.022 is : 0.012530\n",
      "split at (26, 0.021611002)\n",
      "846\n",
      "build left at (26, 0.021611002)\n",
      "build right at (26, 0.021611002)\n",
      "Best gain in feature[23] with split at 0.038 is : 0.014455\n",
      "split at (23, 0.037735849)\n",
      "754\n",
      "build left at (23, 0.037735849)\n",
      "Best gain in feature[33] with split at 15.000 is : 0.013354\n",
      "split at (33, 15.0)\n",
      "374\n",
      "build left at (33, 15.0)\n",
      "Best gain in feature[31] with split at 15060.000 is : 0.012399\n",
      "split at (31, 15060.0)\n",
      "367\n",
      "build left at (31, 15060.0)\n",
      "Best gain in feature[34] with split at 0.098 is : 0.013188\n",
      "split at (34, 0.097826087)\n",
      "323\n",
      "build left at (34, 0.097826087)\n",
      "build right at (34, 0.097826087)\n",
      "Best gain in feature[20] with split at 0.606 is : 0.015629\n",
      "split at (20, 0.605769231)\n",
      "222\n",
      "build left at (20, 0.605769231)\n",
      "build right at (20, 0.605769231)\n",
      "build right at (31, 15060.0)\n",
      "build right at (33, 15.0)\n",
      "build right at (23, 0.037735849)\n",
      "Best gain in feature[33] with split at 2.000 is : 0.029624\n",
      "split at (33, 2.0)\n",
      "380\n",
      "build left at (33, 2.0)\n",
      "build right at (33, 2.0)\n",
      "Best gain in feature[25] with split at 0.219 is : 0.028539\n",
      "split at (25, 0.21853117)\n",
      "349\n",
      "build left at (25, 0.21853117)\n",
      "build right at (25, 0.21853117)\n",
      "Best gain in feature[29] with split at 33.000 is : 0.035177\n",
      "split at (29, 33.0)\n",
      "213\n",
      "build left at (29, 33.0)\n",
      "build right at (29, 33.0)\n"
     ]
    }
   ],
   "source": [
    "root.build()"
   ]
  },
  {
   "cell_type": "code",
   "execution_count": 43,
   "metadata": {
    "ExecuteTime": {
     "end_time": "2019-12-27T01:18:15.862400Z",
     "start_time": "2019-12-27T01:18:15.314784Z"
    },
    "colab": {
     "base_uri": "https://localhost:8080/",
     "height": 1000
    },
    "colab_type": "code",
    "id": "id5io7BIA4K-",
    "outputId": "704b193b-d215-4950-ca3f-5e2f09e46241"
   },
   "outputs": [
    {
     "name": "stdout",
     "output_type": "stream",
     "text": [
      "(31, 1562.0)\n",
      "left\n",
      "\t(1, 1.0)\n",
      "\tleft\n",
      "\t\t(13, 1.0)\n",
      "\t\tleft\n",
      "\t\t\t(23, 0.036101083)\n",
      "\t\t\tleft\n",
      "\t\t\t\t(16, 0.780487805)\n",
      "\t\t\t\tleft\n",
      "\t\t\t\t\t(12, 1.0)\n",
      "\t\t\t\t\tleft\n",
      "\t\t\t\t\t\t(31, 1508.0)\n",
      "\t\t\t\t\t\tleft\n",
      "\t\t\t\t\t\t\t0\n",
      "\t\t\t\t\t\tright\n",
      "\t\t\t\t\t\t\t0\n",
      "\t\t\t\t\tright\n",
      "\t\t\t\t\t\t1\n",
      "\t\t\t\tright\n",
      "\t\t\t\t\t1\n",
      "\t\t\tright\n",
      "\t\t\t\t(31, 1013.0)\n",
      "\t\t\t\tleft\n",
      "\t\t\t\t\t(15, 1.919117647)\n",
      "\t\t\t\t\tleft\n",
      "\t\t\t\t\t\t(19, 0.016393443)\n",
      "\t\t\t\t\t\tleft\n",
      "\t\t\t\t\t\t\t(25, 0.257515128)\n",
      "\t\t\t\t\t\t\tleft\n",
      "\t\t\t\t\t\t\t\t0\n",
      "\t\t\t\t\t\t\tright\n",
      "\t\t\t\t\t\t\t\t0\n",
      "\t\t\t\t\t\tright\n",
      "\t\t\t\t\t\t\t1\n",
      "\t\t\t\t\tright\n",
      "\t\t\t\t\t\t(16, 0.202380952)\n",
      "\t\t\t\t\t\tleft\n",
      "\t\t\t\t\t\t\t0\n",
      "\t\t\t\t\t\tright\n",
      "\t\t\t\t\t\t\t(10, 1.0)\n",
      "\t\t\t\t\t\t\tleft\n",
      "\t\t\t\t\t\t\t\t(31, 610.0)\n",
      "\t\t\t\t\t\t\t\tleft\n",
      "\t\t\t\t\t\t\t\t\t0\n",
      "\t\t\t\t\t\t\t\tright\n",
      "\t\t\t\t\t\t\t\t\t0\n",
      "\t\t\t\t\t\t\tright\n",
      "\t\t\t\t\t\t\t\t0\n",
      "\t\t\t\tright\n",
      "\t\t\t\t\t(20, 0.52057842)\n",
      "\t\t\t\t\tleft\n",
      "\t\t\t\t\t\t0\n",
      "\t\t\t\t\tright\n",
      "\t\t\t\t\t\t0\n",
      "\t\tright\n",
      "\t\t\t1\n",
      "\tright\n",
      "\t\t(34, 0.285714286)\n",
      "\t\tleft\n",
      "\t\t\t0\n",
      "\t\tright\n",
      "\t\t\t0\n",
      "right\n",
      "\t(12, 1.0)\n",
      "\tleft\n",
      "\t\t(0, 1.0)\n",
      "\t\tleft\n",
      "\t\t\t(7, 1.0)\n",
      "\t\t\tleft\n",
      "\t\t\t\t(29, 24.0)\n",
      "\t\t\t\tleft\n",
      "\t\t\t\t\t(19, 0.106796117)\n",
      "\t\t\t\t\tleft\n",
      "\t\t\t\t\t\t(33, 6.0)\n",
      "\t\t\t\t\t\tleft\n",
      "\t\t\t\t\t\t\t(21, 0.000614)\n",
      "\t\t\t\t\t\t\tleft\n",
      "\t\t\t\t\t\t\t\t(16, 0.384615385)\n",
      "\t\t\t\t\t\t\t\tleft\n",
      "\t\t\t\t\t\t\t\t\t(24, 1.0)\n",
      "\t\t\t\t\t\t\t\t\tleft\n",
      "\t\t\t\t\t\t\t\t\t\t(23, 0.023160763)\n",
      "\t\t\t\t\t\t\t\t\t\tleft\n",
      "\t\t\t\t\t\t\t\t\t\t\t1\n",
      "\t\t\t\t\t\t\t\t\t\tright\n",
      "\t\t\t\t\t\t\t\t\t\t\t(34, 0.474285714)\n",
      "\t\t\t\t\t\t\t\t\t\t\tleft\n",
      "\t\t\t\t\t\t\t\t\t\t\t\t(16, 0.296296296)\n",
      "\t\t\t\t\t\t\t\t\t\t\t\tleft\n",
      "\t\t\t\t\t\t\t\t\t\t\t\t\t0\n",
      "\t\t\t\t\t\t\t\t\t\t\t\tright\n",
      "\t\t\t\t\t\t\t\t\t\t\t\t\t1\n",
      "\t\t\t\t\t\t\t\t\t\t\tright\n",
      "\t\t\t\t\t\t\t\t\t\t\t\t0\n",
      "\t\t\t\t\t\t\t\t\tright\n",
      "\t\t\t\t\t\t\t\t\t\t0\n",
      "\t\t\t\t\t\t\t\tright\n",
      "\t\t\t\t\t\t\t\t\t(30, 1.0)\n",
      "\t\t\t\t\t\t\t\t\tleft\n",
      "\t\t\t\t\t\t\t\t\t\t(18, 0.041958042)\n",
      "\t\t\t\t\t\t\t\t\t\tleft\n",
      "\t\t\t\t\t\t\t\t\t\t\t1\n",
      "\t\t\t\t\t\t\t\t\t\tright\n",
      "\t\t\t\t\t\t\t\t\t\t\t(15, 3.126865672)\n",
      "\t\t\t\t\t\t\t\t\t\t\tleft\n",
      "\t\t\t\t\t\t\t\t\t\t\t\t(18, 0.194444444)\n",
      "\t\t\t\t\t\t\t\t\t\t\t\tleft\n",
      "\t\t\t\t\t\t\t\t\t\t\t\t\t(14, 0.562934)\n",
      "\t\t\t\t\t\t\t\t\t\t\t\t\tleft\n",
      "\t\t\t\t\t\t\t\t\t\t\t\t\t\t1\n",
      "\t\t\t\t\t\t\t\t\t\t\t\t\tright\n",
      "\t\t\t\t\t\t\t\t\t\t\t\t\t\t1\n",
      "\t\t\t\t\t\t\t\t\t\t\t\tright\n",
      "\t\t\t\t\t\t\t\t\t\t\t\t\t1\n",
      "\t\t\t\t\t\t\t\t\t\t\tright\n",
      "\t\t\t\t\t\t\t\t\t\t\t\t1\n",
      "\t\t\t\t\t\t\t\t\tright\n",
      "\t\t\t\t\t\t\t\t\t\t0\n",
      "\t\t\t\t\t\t\tright\n",
      "\t\t\t\t\t\t\t\t0\n",
      "\t\t\t\t\t\tright\n",
      "\t\t\t\t\t\t\t(14, 0.365831)\n",
      "\t\t\t\t\t\t\tleft\n",
      "\t\t\t\t\t\t\t\t(15, 2.227642276)\n",
      "\t\t\t\t\t\t\t\tleft\n",
      "\t\t\t\t\t\t\t\t\t1\n",
      "\t\t\t\t\t\t\t\tright\n",
      "\t\t\t\t\t\t\t\t\t0\n",
      "\t\t\t\t\t\t\tright\n",
      "\t\t\t\t\t\t\t\t(13, 1.0)\n",
      "\t\t\t\t\t\t\t\tleft\n",
      "\t\t\t\t\t\t\t\t\t(23, 0.100182149)\n",
      "\t\t\t\t\t\t\t\t\tleft\n",
      "\t\t\t\t\t\t\t\t\t\t0\n",
      "\t\t\t\t\t\t\t\t\tright\n",
      "\t\t\t\t\t\t\t\t\t\t0\n",
      "\t\t\t\t\t\t\t\tright\n",
      "\t\t\t\t\t\t\t\t\t1\n",
      "\t\t\t\t\tright\n",
      "\t\t\t\t\t\t(15, 2.757575758)\n",
      "\t\t\t\t\t\tleft\n",
      "\t\t\t\t\t\t\t(33, 2.0)\n",
      "\t\t\t\t\t\t\tleft\n",
      "\t\t\t\t\t\t\t\t1\n",
      "\t\t\t\t\t\t\tright\n",
      "\t\t\t\t\t\t\t\t(29, 4.0)\n",
      "\t\t\t\t\t\t\t\tleft\n",
      "\t\t\t\t\t\t\t\t\t0\n",
      "\t\t\t\t\t\t\t\tright\n",
      "\t\t\t\t\t\t\t\t\t(33, 6.0)\n",
      "\t\t\t\t\t\t\t\t\tleft\n",
      "\t\t\t\t\t\t\t\t\t\t1\n",
      "\t\t\t\t\t\t\t\t\tright\n",
      "\t\t\t\t\t\t\t\t\t\t1\n",
      "\t\t\t\t\t\tright\n",
      "\t\t\t\t\t\t\t1\n",
      "\t\t\t\tright\n",
      "\t\t\t\t\t(14, 0.564874)\n",
      "\t\t\t\t\tleft\n",
      "\t\t\t\t\t\t(15, 2.618902439)\n",
      "\t\t\t\t\t\tleft\n",
      "\t\t\t\t\t\t\t(18, 0.064748201)\n",
      "\t\t\t\t\t\t\tleft\n",
      "\t\t\t\t\t\t\t\t(29, 48.0)\n",
      "\t\t\t\t\t\t\t\tleft\n",
      "\t\t\t\t\t\t\t\t\t(20, 0.635270541)\n",
      "\t\t\t\t\t\t\t\t\tleft\n",
      "\t\t\t\t\t\t\t\t\t\t0\n",
      "\t\t\t\t\t\t\t\t\tright\n",
      "\t\t\t\t\t\t\t\t\t\t1\n",
      "\t\t\t\t\t\t\t\tright\n",
      "\t\t\t\t\t\t\t\t\t0\n",
      "\t\t\t\t\t\t\tright\n",
      "\t\t\t\t\t\t\t\t(34, 0.331491713)\n",
      "\t\t\t\t\t\t\t\tleft\n",
      "\t\t\t\t\t\t\t\t\t(34, 0.01369863)\n",
      "\t\t\t\t\t\t\t\t\tleft\n",
      "\t\t\t\t\t\t\t\t\t\t1\n",
      "\t\t\t\t\t\t\t\t\tright\n",
      "\t\t\t\t\t\t\t\t\t\t(26, 1.173076923)\n",
      "\t\t\t\t\t\t\t\t\t\tleft\n",
      "\t\t\t\t\t\t\t\t\t\t\t(18, 0.087818697)\n",
      "\t\t\t\t\t\t\t\t\t\t\tleft\n",
      "\t\t\t\t\t\t\t\t\t\t\t\t1\n",
      "\t\t\t\t\t\t\t\t\t\t\tright\n",
      "\t\t\t\t\t\t\t\t\t\t\t\t(32, 235.0)\n",
      "\t\t\t\t\t\t\t\t\t\t\t\tleft\n",
      "\t\t\t\t\t\t\t\t\t\t\t\t\t1\n",
      "\t\t\t\t\t\t\t\t\t\t\t\tright\n",
      "\t\t\t\t\t\t\t\t\t\t\t\t\t1\n",
      "\t\t\t\t\t\t\t\t\t\tright\n",
      "\t\t\t\t\t\t\t\t\t\t\t0\n",
      "\t\t\t\t\t\t\t\tright\n",
      "\t\t\t\t\t\t\t\t\t0\n",
      "\t\t\t\t\t\tright\n",
      "\t\t\t\t\t\t\t(20, 0.697916667)\n",
      "\t\t\t\t\t\t\tleft\n",
      "\t\t\t\t\t\t\t\t(17, 0.324503311)\n",
      "\t\t\t\t\t\t\t\tleft\n",
      "\t\t\t\t\t\t\t\t\t0\n",
      "\t\t\t\t\t\t\t\tright\n",
      "\t\t\t\t\t\t\t\t\t1\n",
      "\t\t\t\t\t\t\tright\n",
      "\t\t\t\t\t\t\t\t0\n",
      "\t\t\t\t\tright\n",
      "\t\t\t\t\t\t(13, 1.0)\n",
      "\t\t\t\t\t\tleft\n",
      "\t\t\t\t\t\t\t(15, 3.137931034)\n",
      "\t\t\t\t\t\t\tleft\n",
      "\t\t\t\t\t\t\t\t(18, 0.230414747)\n",
      "\t\t\t\t\t\t\t\tleft\n",
      "\t\t\t\t\t\t\t\t\t(14, 0.870989)\n",
      "\t\t\t\t\t\t\t\t\tleft\n",
      "\t\t\t\t\t\t\t\t\t\t(25, 0.260663126)\n",
      "\t\t\t\t\t\t\t\t\t\tleft\n",
      "\t\t\t\t\t\t\t\t\t\t\t(20, 0.527141923)\n",
      "\t\t\t\t\t\t\t\t\t\t\tleft\n",
      "\t\t\t\t\t\t\t\t\t\t\t\t0\n",
      "\t\t\t\t\t\t\t\t\t\t\tright\n",
      "\t\t\t\t\t\t\t\t\t\t\t\t0\n",
      "\t\t\t\t\t\t\t\t\t\tright\n",
      "\t\t\t\t\t\t\t\t\t\t\t0\n",
      "\t\t\t\t\t\t\t\t\tright\n",
      "\t\t\t\t\t\t\t\t\t\t0\n",
      "\t\t\t\t\t\t\t\tright\n",
      "\t\t\t\t\t\t\t\t\t1\n",
      "\t\t\t\t\t\t\tright\n",
      "\t\t\t\t\t\t\t\t0\n",
      "\t\t\t\t\t\tright\n",
      "\t\t\t\t\t\t\t0\n",
      "\t\t\tright\n",
      "\t\t\t\t(29, 31.0)\n",
      "\t\t\t\tleft\n",
      "\t\t\t\t\t0\n",
      "\t\t\t\tright\n",
      "\t\t\t\t\t0\n",
      "\t\tright\n",
      "\t\t\t(15, 2.757142857)\n",
      "\t\t\tleft\n",
      "\t\t\t\t(23, 0.033898305)\n",
      "\t\t\t\tleft\n",
      "\t\t\t\t\t(16, 0.193181818)\n",
      "\t\t\t\t\tleft\n",
      "\t\t\t\t\t\t1\n",
      "\t\t\t\t\tright\n",
      "\t\t\t\t\t\t1\n",
      "\t\t\t\tright\n",
      "\t\t\t\t\t(26, 0.026060606)\n",
      "\t\t\t\t\tleft\n",
      "\t\t\t\t\t\t1\n",
      "\t\t\t\t\tright\n",
      "\t\t\t\t\t\t(32, 69.0)\n",
      "\t\t\t\t\t\tleft\n",
      "\t\t\t\t\t\t\t2\n",
      "\t\t\t\t\t\tright\n",
      "\t\t\t\t\t\t\t(18, 0.02)\n",
      "\t\t\t\t\t\t\tleft\n",
      "\t\t\t\t\t\t\t\t1\n",
      "\t\t\t\t\t\t\tright\n",
      "\t\t\t\t\t\t\t\t1\n",
      "\t\t\tright\n",
      "\t\t\t\t1\n",
      "\tright\n",
      "\t\t(26, 0.021611002)\n",
      "\t\tleft\n",
      "\t\t\t1\n",
      "\t\tright\n",
      "\t\t\t(23, 0.037735849)\n",
      "\t\t\tleft\n",
      "\t\t\t\t(33, 15.0)\n",
      "\t\t\t\tleft\n",
      "\t\t\t\t\t(31, 15060.0)\n",
      "\t\t\t\t\tleft\n",
      "\t\t\t\t\t\t(34, 0.097826087)\n",
      "\t\t\t\t\t\tleft\n",
      "\t\t\t\t\t\t\t1\n",
      "\t\t\t\t\t\tright\n",
      "\t\t\t\t\t\t\t(20, 0.605769231)\n",
      "\t\t\t\t\t\t\tleft\n",
      "\t\t\t\t\t\t\t\t1\n",
      "\t\t\t\t\t\t\tright\n",
      "\t\t\t\t\t\t\t\t2\n",
      "\t\t\t\t\tright\n",
      "\t\t\t\t\t\t1\n",
      "\t\t\t\tright\n",
      "\t\t\t\t\t0\n",
      "\t\t\tright\n",
      "\t\t\t\t(33, 2.0)\n",
      "\t\t\t\tleft\n",
      "\t\t\t\t\t0\n",
      "\t\t\t\tright\n",
      "\t\t\t\t\t(25, 0.21853117)\n",
      "\t\t\t\t\tleft\n",
      "\t\t\t\t\t\t1\n",
      "\t\t\t\t\tright\n",
      "\t\t\t\t\t\t(29, 33.0)\n",
      "\t\t\t\t\t\tleft\n",
      "\t\t\t\t\t\t\t1\n",
      "\t\t\t\t\t\tright\n",
      "\t\t\t\t\t\t\t1\n"
     ]
    }
   ],
   "source": [
    "root.level_order_print()"
   ]
  },
  {
   "cell_type": "markdown",
   "metadata": {
    "colab_type": "text",
    "id": "dYE8ryMpA4LD"
   },
   "source": [
    "## Test Model"
   ]
  },
  {
   "cell_type": "code",
   "execution_count": 45,
   "metadata": {
    "ExecuteTime": {
     "end_time": "2019-12-27T01:25:54.221348Z",
     "start_time": "2019-12-27T01:25:26.212763Z"
    },
    "colab": {
     "base_uri": "https://localhost:8080/",
     "height": 33
    },
    "colab_type": "code",
    "id": "r7dp9hTjA4LG",
    "outputId": "c1891a14-6c85-46ef-dc41-4f40ed4cdefe"
   },
   "outputs": [
    {
     "name": "stdout",
     "output_type": "stream",
     "text": [
      "491:260\n"
     ]
    }
   ],
   "source": [
    "right_count = wrong_count = 0\n",
    "for test_data in testRDD.take(testRDD.count()):\n",
    "    ans = test_data.label\n",
    "    gus = root.predict(test_data.features)\n",
    "    if ans==gus:\n",
    "        right_count += 1\n",
    "    else :\n",
    "        wrong_count += 1\n",
    "    print(str(right_count) + \":\" + str(wrong_count), end = \"\\r\")\n",
    "print(str(right_count) + \":\" + str(wrong_count))"
   ]
  },
  {
   "cell_type": "code",
   "execution_count": 46,
   "metadata": {
    "ExecuteTime": {
     "end_time": "2019-12-27T01:26:07.049040Z",
     "start_time": "2019-12-27T01:26:07.042004Z"
    },
    "colab": {
     "base_uri": "https://localhost:8080/",
     "height": 33
    },
    "colab_type": "code",
    "id": "FdRPaIJyA4LK",
    "outputId": "79608db8-8653-40a2-9365-b06caff2ef9f"
   },
   "outputs": [
    {
     "name": "stdout",
     "output_type": "stream",
     "text": [
      "正確率:65.4\n"
     ]
    }
   ],
   "source": [
    "accuracy = right_count/(right_count+wrong_count)*100\n",
    "print(\"正確率:%.1f\" % accuracy)"
   ]
  },
  {
   "cell_type": "markdown",
   "metadata": {
    "colab": {},
    "colab_type": "code",
    "id": "fviD8D0KA4LO"
   },
   "source": [
    "## 結論"
   ]
  },
  {
   "cell_type": "markdown",
   "metadata": {},
   "source": [
    "+ 建立決策樹\n",
    "    + 用二元樹遞迴建立\n",
    "    + 選擇最大資訊增益之feature及split_point\n",
    "    + 設定最小子葉大小\n",
    "+ 比較預測結果\n",
    "    + 與使用Mllib的結果差不多(0.4%)\n",
    "+ 未來改良方向\n",
    "    + 減枝優化\n",
    "    + feature篩選優化\n",
    "    + random forest"
   ]
  },
  {
   "cell_type": "code",
   "execution_count": null,
   "metadata": {},
   "outputs": [],
   "source": []
  }
 ],
 "metadata": {
  "accelerator": "GPU",
  "colab": {
   "name": "Decesion Tree.ipynb",
   "provenance": [],
   "toc_visible": true
  },
  "hide_input": false,
  "kernelspec": {
   "display_name": "Python 3",
   "language": "python",
   "name": "python3"
  },
  "language_info": {
   "codemirror_mode": {
    "name": "ipython",
    "version": 3
   },
   "file_extension": ".py",
   "mimetype": "text/x-python",
   "name": "python",
   "nbconvert_exporter": "python",
   "pygments_lexer": "ipython3",
   "version": "3.6.8"
  },
  "toc": {
   "base_numbering": 1,
   "nav_menu": {},
   "number_sections": true,
   "sideBar": true,
   "skip_h1_title": false,
   "title_cell": "Table of Contents",
   "title_sidebar": "Contents",
   "toc_cell": false,
   "toc_position": {
    "height": "calc(100% - 180px)",
    "left": "10px",
    "top": "150px",
    "width": "356.348px"
   },
   "toc_section_display": true,
   "toc_window_display": true
  },
  "varInspector": {
   "cols": {
    "lenName": 16,
    "lenType": 16,
    "lenVar": 40
   },
   "kernels_config": {
    "python": {
     "delete_cmd_postfix": "",
     "delete_cmd_prefix": "del ",
     "library": "var_list.py",
     "varRefreshCmd": "print(var_dic_list())"
    },
    "r": {
     "delete_cmd_postfix": ") ",
     "delete_cmd_prefix": "rm(",
     "library": "var_list.r",
     "varRefreshCmd": "cat(var_dic_list()) "
    }
   },
   "oldHeight": 251.75392799999997,
   "position": {
    "height": "39.9855px",
    "left": "1395.81px",
    "right": "20px",
    "top": "115.957px",
    "width": "349.957px"
   },
   "types_to_exclude": [
    "module",
    "function",
    "builtin_function_or_method",
    "instance",
    "_Feature"
   ],
   "varInspector_section_display": "none",
   "window_display": true
  }
 },
 "nbformat": 4,
 "nbformat_minor": 1
}
